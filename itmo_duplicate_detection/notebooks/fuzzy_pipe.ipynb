{
 "cells": [
  {
   "cell_type": "markdown",
   "id": "7ba0e982",
   "metadata": {},
   "source": [
    "## Fuzzy дедубликатор"
   ]
  },
  {
   "cell_type": "markdown",
   "id": "39c23902",
   "metadata": {},
   "source": [
    "Проверка гипотизы применения алгоритмов нечеткого сравнения строкдля задачи поиска дубликатов"
   ]
  },
  {
   "cell_type": "code",
   "execution_count": null,
   "id": "8d5abba1",
   "metadata": {},
   "outputs": [],
   "source": [
    "# устанавливаем необходимые зависимости\n",
    "\n",
    "!pip3 install deeppavlov==0.15.0\n",
    "!pip3 install fuzzywuzzy==0.18.0\n",
    "!pip3 install langdetect\n",
    "!pip3 install razdel\n",
    "!pip3 install sklearn==0.24.2\n",
    "!pip3 install pathlib\n",
    "!pip3 install sacremoses==0.0.35\n",
    "!pip3 install numpy==1.21.6\n",
    "!pip3 install pandas==0.25.3\n",
    "!pip3 install matplotlib==3.1.2\n",
    "!pip3 install transliterate==1.10.2"
   ]
  },
  {
   "cell_type": "code",
   "execution_count": 144,
   "id": "5cc70897",
   "metadata": {},
   "outputs": [],
   "source": [
    "# получение списка импортированных модулей и их версий\n",
    "!pip3 install session_info\n",
    "import session_info\n",
    "session_info.show()"
   ]
  },
  {
   "cell_type": "code",
   "execution_count": 214,
   "id": "6003c6c3",
   "metadata": {},
   "outputs": [],
   "source": [
    "import sys\n",
    "# указываем где искать вспомогательные модули\n",
    "sys.path.insert(0, '../src')\n",
    "\n",
    "import re\n",
    "\n",
    "from pathlib import Path\n",
    "\n",
    "from fuzzywuzzy import process  ##\n",
    "from fuzzywuzzy import fuzz\n",
    "\n",
    "import numpy as np\n",
    "import pandas as pd\n",
    "\n",
    "from deeppavlov.models.tokenizers.nltk_moses_tokenizer import NLTKMosesTokenizer\n",
    "from transliterate import translit, get_available_language_codes\n",
    "from razdel import sentenize, tokenize\n",
    "from langdetect import detect\n",
    "\n",
    "from sklearn.metrics import roc_curve, auc\n",
    "from sklearn.metrics import roc_auc_score\n",
    "from sklearn. metrics import precision_recall_curve\n",
    "from sklearn.metrics import classification_report,f1_score\n",
    "\n",
    "from matplotlib import pyplot as plt\n",
    "\n",
    "from gdrive_download import GDrive"
   ]
  },
  {
   "cell_type": "code",
   "execution_count": 148,
   "id": "fdd16086",
   "metadata": {},
   "outputs": [
    {
     "name": "stdout",
     "output_type": "stream",
     "text": [
      "/home/ewp/DEV/itmo_dublicate_detection/data/raw/train.xlsx\n"
     ]
    }
   ],
   "source": [
    "# Инициализируем пути до данных\n",
    "raw_fn = 'train.xlsx'\n",
    "data_dir = Path.cwd().parent / 'data' / 'raw'"
   ]
  },
  {
   "cell_type": "code",
   "execution_count": 199,
   "id": "ca866215",
   "metadata": {},
   "outputs": [
    {
     "name": "stdout",
     "output_type": "stream",
     "text": [
      "Файл скачан: /home/ewp/DEV/itmo_dublicate_detection/data/raw/train.xlsx\n"
     ]
    }
   ],
   "source": [
    "# Скачиваем данные с гугл диска\n",
    "\n",
    "link = 'https://docs.google.com/spreadsheets/d/1oD9Ow0cU4fnAcWdhREFsv-dsrXGggGuD/edit?usp=sharing&ouid=105579326681662213239&rtpof=true&sd=true'\n",
    "\n",
    "gd = GDrive(link)\n",
    "gd.download_file_from_google_drive(destination=data_dir / raw_fn)"
   ]
  },
  {
   "cell_type": "code",
   "execution_count": 6,
   "id": "f3d211be",
   "metadata": {},
   "outputs": [],
   "source": [
    "# считываем выборку в датафрэм\n",
    "df_raw = pd.read_excel(data_dir.joinpath(raw_fn), engine='openpyxl')[['name_1', 'name_2', 'is_duplicate']]"
   ]
  },
  {
   "cell_type": "code",
   "execution_count": 117,
   "id": "a727add3",
   "metadata": {},
   "outputs": [],
   "source": [
    "class FuzzyCompare:\n",
    "    '''\n",
    "    Методы обрадотки и сравнения строк\n",
    "    '''\n",
    "\n",
    "    def __init__(self):\n",
    "        \n",
    "        # инициализируем детокинайзер\n",
    "        self.detokenizer = NLTKMosesTokenizer('en').detokenizer\n",
    "        \n",
    "    def norm_ref_items(self, txt):\n",
    "        \"\"\"\n",
    "        Нормализация строки из датасета: приводим заники препинани к правильной структуре\n",
    "        :param txt: исходная строка\n",
    "        :return: преобразованная строка\n",
    "        \"\"\"\n",
    "        if detect(txt) == 'ru':\n",
    "            # производим транслитерацию на латиницу\n",
    "            txt = translit(txt, language_code='ru', reversed=True)\n",
    "        \n",
    "        # расстановка пробелов и знаков препинания поправилам аббривеатур и разделителей\n",
    "        tokens = self.detokenizer.detokenize([' '.join([_.text for _ in tokenize(txt)])])\n",
    "        return ''.join(tokens).strip()\n",
    "    \n",
    "    def estimate(self, txt_1, txt_2, normalize=True):\n",
    "        '''\n",
    "        Подсчет меры близости двух строк\n",
    "        :param txt_1: строка 1\n",
    "        :param txt_2: строка 2\n",
    "        :return: значение меры близости в пронтах\n",
    "        '''\n",
    "        if normalize:\n",
    "            _txt_1 = self.norm_ref_items(txt_1)\n",
    "            _txt_2 = self.norm_ref_items(txt_2)\n",
    "        return process.extract(_txt_1, [_txt_2], scorer=fuzz.token_sort_ratio)[0][-1]\n",
    "    \n",
    "    def estimate_df(self, txt_tuple, normalize=True):\n",
    "        '''\n",
    "        Запуск сравнения для дадафрэйма: разбиваем значение по разделителю и производим сравнение\n",
    "        '''\n",
    "        t1, t2 = txt_tuple.split('|')\n",
    "        return self.estimate(t1, t2)"
   ]
  },
  {
   "cell_type": "code",
   "execution_count": 204,
   "id": "a0207110",
   "metadata": {},
   "outputs": [
    {
     "data": {
      "text/plain": [
       "71"
      ]
     },
     "execution_count": 204,
     "metadata": {},
     "output_type": "execute_result"
    }
   ],
   "source": [
    "# Инициализация класса и проверка работоспособности \n",
    "fz = FuzzyCompare()\n",
    "\n",
    "fz.estimate('Romania'.lower(), 'RUMUNIA'.lower())"
   ]
  },
  {
   "cell_type": "markdown",
   "id": "a3131dcc",
   "metadata": {},
   "source": [
    "### Запуск оценки по всей выборке"
   ]
  },
  {
   "cell_type": "code",
   "execution_count": null,
   "id": "2eab8575",
   "metadata": {},
   "outputs": [],
   "source": [
    "# удаляем дубликаты, если таковые имеются\n",
    "df_raw = df_raw.drop_duplicates(subset=['name_1', 'name_2'], keep='first')"
   ]
  },
  {
   "cell_type": "code",
   "execution_count": null,
   "id": "03451342",
   "metadata": {
    "scrolled": true
   },
   "outputs": [],
   "source": [
    "%%time\n",
    "# объединение в один столбец\n",
    "df_raw = df_raw.assign(estimation = df_raw['name_1'] + '|' + df_raw['name_2'])\n",
    "# расчет близости\n",
    "df_raw['estimation'] = df_raw['estimation'].apply(fz.estimate_df)\n",
    "\n",
    "# преобразование в условную вероятность для подсчета метрик\n",
    "df_raw['estimation'] = df_raw['estimation'].apply(lambda x: x/100) "
   ]
  },
  {
   "cell_type": "markdown",
   "id": "dd155ce8",
   "metadata": {},
   "source": [
    "### Построение ROC-кривой по результатам сравнения строк"
   ]
  },
  {
   "cell_type": "code",
   "execution_count": 128,
   "id": "60410812",
   "metadata": {},
   "outputs": [
    {
     "name": "stdout",
     "output_type": "stream",
     "text": [
      "LogisticRegression: ROC AUC=0.790\n"
     ]
    },
    {
     "data": {
      "image/png": "[encoded data removed]",
      "text/plain": [
       "<Figure size 432x288 with 1 Axes>"
      ]
     },
     "metadata": {
      "needs_background": "light"
     },
     "output_type": "display_data"
    }
   ],
   "source": [
    "lr_probs = df_raw['estimation'].values\n",
    "testy = df_raw['is_duplicate'].values\n",
    "\n",
    "lr_auc = roc_auc_score(testy, lr_probs)\n",
    "print('LogisticRegression: ROC AUC=%.3f' % (lr_auc))\n",
    "\n",
    "# рассчитываем roc-кривую\n",
    "fpr, tpr, treshold = roc_curve(testy, lr_probs)\n",
    "roc_auc = auc(fpr, tpr)\n",
    "\n",
    "# строим график\n",
    "plt.plot(fpr, tpr, color='darkorange',\n",
    "         label='ROC кривая (area = %0.2f)' % roc_auc)\n",
    "plt.plot([0, 1], [0, 1], color='navy', linestyle='--')\n",
    "plt.xlim([0.0, 1.0])\n",
    "plt.ylim([0.0, 1.05])\n",
    "plt.xlabel('False Positive Rate')\n",
    "plt.ylabel('True Positive Rate')\n",
    "plt.title('ROC-кривая Fuzzy')\n",
    "plt.legend(loc=\"lower right\")\n",
    "plt.show()"
   ]
  },
  {
   "cell_type": "markdown",
   "id": "1d438fe7",
   "metadata": {},
   "source": [
    "### Построение PRC-кривой по результатам сравнения строк"
   ]
  },
  {
   "cell_type": "code",
   "execution_count": 179,
   "id": "1d507e96",
   "metadata": {},
   "outputs": [
    {
     "data": {
      "image/png": "[encoded data removed]",
      "text/plain": [
       "<Figure size 432x288 with 1 Axes>"
      ]
     },
     "metadata": {
      "needs_background": "light"
     },
     "output_type": "display_data"
    }
   ],
   "source": [
    "#строим precision-recall кривую\n",
    "precision, recall, thresholds = precision_recall_curve(testy, lr_probs)\n",
    "\n",
    "#отрисовываем precision-recall кривую\n",
    "fig, ax = plt.subplots()\n",
    "ax.plot(recall, precision, color='purple')\n",
    "\n",
    "#add axis labels to plot\n",
    "ax.set_title('Precision-Recall Curve')\n",
    "ax.set_ylabel('Precision')\n",
    "ax.set_xlabel('Recall')\n",
    "\n",
    "#display plot\n",
    "plt.show()"
   ]
  },
  {
   "cell_type": "code",
   "execution_count": 255,
   "id": "73324b4e",
   "metadata": {},
   "outputs": [],
   "source": [
    "lr_rate = [1 if l >=0.8 else 0for l in lr_probs]"
   ]
  },
  {
   "cell_type": "code",
   "execution_count": 256,
   "id": "69e49035",
   "metadata": {},
   "outputs": [
    {
     "name": "stdout",
     "output_type": "stream",
     "text": [
      "              precision    recall  f1-score   support\n",
      "\n",
      "           0       0.99      1.00      0.99    494161\n",
      "           1       0.14      0.11      0.12      3658\n",
      "\n",
      "    accuracy                           0.99    497819\n",
      "   macro avg       0.57      0.55      0.56    497819\n",
      "weighted avg       0.99      0.99      0.99    497819\n",
      "\n"
     ]
    }
   ],
   "source": [
    "print(classification_report(testy, lr_rate, output_dict=False))"
   ]
  },
  {
   "cell_type": "code",
   "execution_count": 235,
   "id": "3d676b7f",
   "metadata": {},
   "outputs": [
    {
     "data": {
      "text/plain": [
       "0.5576189006384826"
      ]
     },
     "execution_count": 235,
     "metadata": {},
     "output_type": "execute_result"
    }
   ],
   "source": [
    "report['macro avg']['f1-score']"
   ]
  },
  {
   "cell_type": "code",
   "execution_count": 244,
   "id": "77f45d79",
   "metadata": {},
   "outputs": [],
   "source": [
    "res = []\n",
    "tr = []\n",
    "for threshold in [0.5, 0.55, 0.6, 0.65, 0.7, 0.75, 0.8, 0.85, 0.9, 0.95]:\n",
    "    lr_rate = [1 if l >=threshold else 0 for l in lr_probs]\n",
    "    tr.append(threshold)\n",
    "    res.append(classification_report(testy, lr_rate, output_dict=True)['macro avg']['f1-score'])"
   ]
  },
  {
   "cell_type": "code",
   "execution_count": 248,
   "id": "24bb9734",
   "metadata": {},
   "outputs": [
    {
     "data": {
      "text/plain": [
       "[0.4361730577224466,\n",
       " 0.46630562507998286,\n",
       " 0.49265136293450235,\n",
       " 0.5126271199481423,\n",
       " 0.5314034483942205,\n",
       " 0.5498006851285533,\n",
       " 0.5576189006384826,\n",
       " 0.5532688832568987,\n",
       " 0.5405721559746264,\n",
       " 0.5248188051995372]"
      ]
     },
     "execution_count": 248,
     "metadata": {},
     "output_type": "execute_result"
    }
   ],
   "source": [
    "res"
   ]
  },
  {
   "cell_type": "code",
   "execution_count": 247,
   "id": "d523de7e",
   "metadata": {},
   "outputs": [
    {
     "data": {
      "text/plain": [
       "<matplotlib.legend.Legend at 0x7f3010574b70>"
      ]
     },
     "execution_count": 247,
     "metadata": {},
     "output_type": "execute_result"
    },
    {
     "data": {
      "image/png": "[encoded data removed]",
      "text/plain": [
       "<Figure size 576x576 with 1 Axes>"
      ]
     },
     "metadata": {
      "needs_background": "light"
     },
     "output_type": "display_data"
    }
   ],
   "source": [
    "plt.figure(figsize=(8, 8))\n",
    "plt.title(\"Macro avg f1-score as a function of threshold\")\n",
    "plt.plot(tr, res, label=\"Macro avg f1-score\")\n",
    "plt.ylabel(\"Score\")\n",
    "plt.xlabel(\"Decision Threshold\")\n",
    "plt.legend(loc='best')"
   ]
  },
  {
   "cell_type": "markdown",
   "id": "c98aadd0",
   "metadata": {},
   "source": [
    "### Выводы"
   ]
  },
  {
   "cell_type": "markdown",
   "id": "9be8eb38",
   "metadata": {},
   "source": [
    "Анализ показателей по порогу показывает, что при значении threshold=0.8 можно достичь 0.557 Macro avg f1-score"
   ]
  }
 ],
 "metadata": {
  "kernelspec": {
   "display_name": "Python 3",
   "language": "python",
   "name": "python3"
  },
  "language_info": {
   "codemirror_mode": {
    "name": "ipython",
    "version": 3
   },
   "file_extension": ".py",
   "mimetype": "text/x-python",
   "name": "python",
   "nbconvert_exporter": "python",
   "pygments_lexer": "ipython3",
   "version": "3.7.3"
  }
 },
 "nbformat": 4,
 "nbformat_minor": 5
}
