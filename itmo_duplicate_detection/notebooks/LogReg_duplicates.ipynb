{
 "cells": [
  {
   "cell_type": "code",
   "execution_count": null,
   "id": "faa70fda",
   "metadata": {},
   "outputs": [],
   "source": [
    "# устанавливаем необходимые зависимости\n",
    "\n",
    "!pip3 install deeppavlov==0.15.0\n",
    "!pip3 install fuzzywuzzy==0.18.0\n",
    "!pip3 install langdetect\n",
    "!pip3 install razdel\n",
    "!pip3 install sklearn==0.24.2\n",
    "!pip3 install pathlib\n",
    "!pip3 install sacremoses==0.0.35\n",
    "!pip3 install numpy==1.21.6\n",
    "!pip3 install pandas==0.25.3\n",
    "!pip3 install matplotlib==3.1.2\n",
    "!pip3 install transliterate==1.10.2\n",
    "!pip3 install fasttext==0.9.2"
   ]
  },
  {
   "cell_type": "code",
   "execution_count": 236,
   "id": "d35bb685",
   "metadata": {},
   "outputs": [],
   "source": [
    "import sys\n",
    "# указываем где искать вспомогательные модули\n",
    "sys.path.insert(0, '../src')\n",
    "\n",
    "import re\n",
    "\n",
    "from pathlib import Path\n",
    "\n",
    "from fuzzywuzzy import process  ##\n",
    "from fuzzywuzzy import fuzz\n",
    "\n",
    "import numpy as np\n",
    "import pandas as pd\n",
    "\n",
    "from deeppavlov.models.tokenizers.nltk_moses_tokenizer import NLTKMosesTokenizer\n",
    "from transliterate import translit, get_available_language_codes\n",
    "from razdel import sentenize, tokenize\n",
    "from langdetect import detect\n",
    "import fasttext\n",
    "import fasttext.util\n",
    "\n",
    "from sklearn.metrics import roc_curve, auc\n",
    "from sklearn.metrics import roc_auc_score\n",
    "from sklearn.metrics import precision_recall_curve\n",
    "from sklearn.metrics import confusion_matrix\n",
    "from sklearn.metrics import plot_confusion_matrix\n",
    "from sklearn.metrics import classification_report, f1_score\n",
    "\n",
    "from sklearn.feature_extraction.text import CountVectorizer\n",
    "\n",
    "from sklearn.model_selection import train_test_split\n",
    "from sklearn.model_selection import GridSearchCV\n",
    "\n",
    "from sklearn.linear_model import LogisticRegression\n",
    "from sklearn.svm import LinearSVC, SVC\n",
    "\n",
    "from matplotlib import pyplot as plt\n",
    "import seaborn as sns\n",
    "\n",
    "from gdrive_download import YDrive"
   ]
  },
  {
   "cell_type": "markdown",
   "id": "fc8257db",
   "metadata": {},
   "source": [
    "## Скачиваем данные"
   ]
  },
  {
   "cell_type": "code",
   "execution_count": 92,
   "id": "14e6f3a5",
   "metadata": {},
   "outputs": [],
   "source": [
    "# Инициализируем пути до данных\n",
    "raw_fn = 'train.xlsx'\n",
    "processed_fn = 'train_norn.xlsx'\n",
    "data_dir = Path.cwd().parent / 'data' / 'raw'\n",
    "exterlat_data_dir = Path.cwd().parent / 'data' / 'external'\n",
    "processed_data_dir = Path.cwd().parent / 'data' / 'processed'"
   ]
  },
  {
   "cell_type": "code",
   "execution_count": 5,
   "id": "7c72d430",
   "metadata": {},
   "outputs": [
    {
     "data": {
      "text/plain": [
       "PosixPath('/home/ewp/DEV/itmo_dublicate_detection/data/raw/train.xlsx')"
      ]
     },
     "execution_count": 5,
     "metadata": {},
     "output_type": "execute_result"
    }
   ],
   "source": [
    "data_dir / raw_fn"
   ]
  },
  {
   "cell_type": "code",
   "execution_count": 3,
   "id": "798dc7a8",
   "metadata": {},
   "outputs": [
    {
     "name": "stdout",
     "output_type": "stream",
     "text": [
      "Файл скачан: /home/ewp/DEV/itmo_dublicate_detection/data/raw/train.xlsx\n"
     ]
    }
   ],
   "source": [
    "# Скачиваем данные с Яндекс диска\n",
    "link = 'https://disk.yandex.ru/d/eK15uq89IOUgfg'\n",
    "\n",
    "yd = YDrive(link)\n",
    "yd.download_from_yandex(destination=data_dir / raw_fn)"
   ]
  },
  {
   "cell_type": "code",
   "execution_count": 4,
   "id": "ae7697b6",
   "metadata": {},
   "outputs": [],
   "source": [
    "# считываем выборку в датафрэм\n",
    "df_raw = pd.read_excel(data_dir.joinpath(raw_fn), engine='openpyxl')[['name_1', 'name_2', 'is_duplicate']]"
   ]
  },
  {
   "cell_type": "code",
   "execution_count": 272,
   "id": "5fc5268e",
   "metadata": {},
   "outputs": [],
   "source": [
    "# Описываем класс для работы со строками\n",
    "\n",
    "# Нам понадобится функционал очистки от лишник пробелов и правильной расстановки точек\n",
    "\n",
    "class FuzzyCompare:\n",
    "    '''\n",
    "    Методы обрадотки и сравнения строк\n",
    "    '''\n",
    "\n",
    "    def __init__(self, stop_words=None, stop_countries=None):\n",
    "        \n",
    "        # инициализируем детокинайзер\n",
    "        self.detokenizer = NLTKMosesTokenizer('en').detokenizer\n",
    "        self.stop_words = stop_words\n",
    "        self.stop_countries = stop_countries\n",
    "        \n",
    "    def norm_ref_items(self, txt):\n",
    "        \"\"\"\n",
    "        Нормализация строки из датасета: приводим заники препинани к правильной структуре\n",
    "        :param txt: исходная строка\n",
    "        :return: преобразованная строка\n",
    "        \"\"\"\n",
    "        if detect(txt) == 'ru':\n",
    "            # производим транслитерацию на латиницу\n",
    "            txt = translit(txt, language_code='ru', reversed=True)\n",
    "        \n",
    "        # расстановка пробелов и знаков препинания поправилам аббривеатур и разделителей\n",
    "        tokens = self.detokenizer.detokenize([' '.join([_.text for _ in tokenize(txt)])])\n",
    "        return ''.join(tokens).strip()\n",
    "    \n",
    "    def estimate(self, txt_1, txt_2, normalize=True):\n",
    "        '''\n",
    "        Подсчет меры близости двух строк\n",
    "        :param txt_1: строка 1\n",
    "        :param txt_2: строка 2\n",
    "        :return: значение меры близости в пронтах\n",
    "        '''\n",
    "        if normalize:\n",
    "            _txt_1 = self.norm_ref_items(txt_1)\n",
    "            _txt_2 = self.norm_ref_items(txt_2)\n",
    "        return process.extract(_txt_1, [_txt_2], scorer=fuzz.token_sort_ratio)[0][-1]\n",
    "    \n",
    "    def estimate_df(self, txt_tuple, normalize=True):\n",
    "        '''\n",
    "        Запуск сравнения для дадафрэйма: разбиваем значение по разделителю и производим сравнение\n",
    "        '''\n",
    "        t1, t2 = txt_tuple.split('|')\n",
    "        return self.estimate(t1, t2)\n",
    "    \n",
    "    def clear_punctuation(self, txt_1, to_lower=True):\n",
    "        '''\n",
    "        Удаление пунктуации и перевод в нижний регистр\n",
    "        '''\n",
    "        valids = re.sub(r\"[^\\w ]*\", '', txt_1)\n",
    "        if to_lower:\n",
    "            return ' '.join(valids.split()).lower()\n",
    "        else: return ' '.join(valids.split())\n",
    "    \n",
    "    def translit(self, txt_1):\n",
    "        '''\n",
    "        Удаление пунктуации и перевод в нижний регистр\n",
    "        '''\n",
    "        return translit(txt_1, language_code='ru', reversed=True)\n",
    "    \n",
    "    def remove_stopcountries(self, text):\n",
    "        '''\n",
    "        Removes Stop Words (also capitalized) from a string, if present\n",
    "\n",
    "        Args:\n",
    "            text (str): String to which the function is to be applied, string\n",
    "\n",
    "        Returns:\n",
    "            Clean string without Stop Words\n",
    "        ''' \n",
    "        # check in lowercase \n",
    "        t = [token for token in text.split() if process.extractOne(token.lower(), \n",
    "                                                           self.stop_countries,\n",
    "                                                           scorer=fuzz.token_sort_ratio)[-1] <=80]\n",
    "        text = ' '.join(t)    \n",
    "        return text\n",
    "    \n",
    "    def remove_stopwords(self, text):\n",
    "        '''\n",
    "        Removes Stop Words (also capitalized) from a string, if present\n",
    "\n",
    "        Args:\n",
    "            text (str): String to which the function is to be applied, string\n",
    "\n",
    "        Returns:\n",
    "            Clean string without Stop Words\n",
    "        ''' \n",
    "        # check in lowercase \n",
    "        t = [token for token in text.split() if token.lower() not in self.stop_words]\n",
    "        text = ' '.join(t)    \n",
    "        return text"
   ]
  },
  {
   "cell_type": "markdown",
   "id": "252c4a6e",
   "metadata": {},
   "source": [
    "## Подготовка модели вкторизации"
   ]
  },
  {
   "cell_type": "code",
   "execution_count": 6,
   "id": "c4347057",
   "metadata": {},
   "outputs": [
    {
     "name": "stderr",
     "output_type": "stream",
     "text": [
      "Warning : `load_model` does not return WordVectorModel or SupervisedModel any more, but a `FastText` object which is very similar.\n"
     ]
    }
   ],
   "source": [
    "# скачиваем модель и подгружаем для дальнейшей работы\n",
    "fasttext.util.download_model('en', if_exists='ignore')\n",
    "ft = fasttext.load_model('cc.en.300.bin')"
   ]
  },
  {
   "cell_type": "code",
   "execution_count": 7,
   "id": "be3cbef5",
   "metadata": {},
   "outputs": [
    {
     "data": {
      "text/plain": [
       "100"
      ]
     },
     "execution_count": 7,
     "metadata": {},
     "output_type": "execute_result"
    }
   ],
   "source": [
    "# уменьшаем размерность вектора до 100 дляускорения\n",
    "fasttext.util.reduce_model(ft, 100)\n",
    "ft.get_dimension()"
   ]
  },
  {
   "cell_type": "code",
   "execution_count": 11,
   "id": "260312bc",
   "metadata": {},
   "outputs": [
    {
     "data": {
      "text/plain": [
       "array([-0.09079205,  0.09282599,  0.12363446,  0.05888092, -0.00698745,\n",
       "       -0.02024884,  0.0434322 , -0.02267935,  0.00565145, -0.01314392,\n",
       "        0.05455553, -0.08470552, -0.09720174,  0.04575565,  0.03127619,\n",
       "        0.12863466,  0.11143018, -0.05303995, -0.0122841 ,  0.09869125,\n",
       "        0.02873215, -0.06775057,  0.07562204,  0.05145925,  0.00855238,\n",
       "        0.01573266,  0.02092161,  0.06704679, -0.03505364,  0.03432385,\n",
       "       -0.05789267, -0.03911089, -0.03740524,  0.03757714, -0.0611603 ,\n",
       "        0.05501104,  0.06328715, -0.08652365, -0.03569027, -0.00229034,\n",
       "        0.00136457, -0.09669613, -0.00582089, -0.07468075,  0.01240269,\n",
       "        0.03580501,  0.08656042, -0.01827826, -0.0134055 , -0.10587463,\n",
       "        0.03448454,  0.05518638,  0.12626004, -0.01657679,  0.04923084,\n",
       "        0.02200632,  0.0095005 ,  0.03586512, -0.04212178, -0.04483818,\n",
       "       -0.02951179, -0.0082247 , -0.05270461,  0.01455619,  0.10089574,\n",
       "        0.01457901, -0.02909666, -0.02784597,  0.04266857,  0.03872451,\n",
       "        0.02577996, -0.01281498, -0.02101771, -0.01949217, -0.00601219,\n",
       "        0.01573538, -0.06914271,  0.00260503,  0.07719719, -0.00240493,\n",
       "       -0.01282255, -0.00358574,  0.01080719, -0.05092391,  0.0807602 ,\n",
       "       -0.00840576, -0.00583981, -0.02162244, -0.02594782, -0.01880253,\n",
       "        0.03769316, -0.01390471,  0.00185597,  0.02548906, -0.04759552,\n",
       "       -0.03126904, -0.01130858,  0.11673324,  0.00737969, -0.01882362],\n",
       "      dtype=float32)"
      ]
     },
     "execution_count": 11,
     "metadata": {},
     "output_type": "execute_result"
    }
   ],
   "source": [
    "def document_vector(doc):\n",
    "    \"\"\"\n",
    "    Создаем вектор путем усреднения векторов входящих слов\n",
    "    \"\"\"\n",
    "    doc = [ft.get_word_vector(word) for word in doc.split()]\n",
    "    return np.mean(doc, axis=0)\n",
    "\n",
    "document_vector('Rishichem Distributors Pvt., Ltd.')"
   ]
  },
  {
   "cell_type": "markdown",
   "id": "4866aa19",
   "metadata": {},
   "source": [
    "## Подготовка данных"
   ]
  },
  {
   "cell_type": "code",
   "execution_count": 19,
   "id": "182f2767",
   "metadata": {},
   "outputs": [],
   "source": [
    "# удаляем дубликаты, если таковые имеются\n",
    "df_raw = df_raw.drop_duplicates(subset=['name_1', 'name_2'], keep='first')"
   ]
  },
  {
   "cell_type": "markdown",
   "id": "665a4107",
   "metadata": {},
   "source": [
    "При выборе подхода через задачу классификации, нам надо задублировать датасет по единичкам (когда компании - дубли)\n",
    "\n",
    "Классификатор смотрит на нашу пару как на единую строку, для которой необходимо назначить класс.\n",
    "\n",
    "Значит важна последовательность слов токенов и для классификатор пары \n",
    "1) PAUL BAUDER GMBH & CO KG, BOCHUM PLANT == Paul Bauder ag <br>\n",
    "2) Paul Bauder ag == PAUL BAUDER GMBH & CO KG, BOCHUM PLANT <br>\n",
    "будут разными парамии.<br>\n",
    "\n",
    "При инференсе у нас возникнет потребность в поиске по любой комбинации => надо заинвертировать последовательности сочетаний позитивного класса"
   ]
  },
  {
   "cell_type": "code",
   "execution_count": 22,
   "id": "40c50b53",
   "metadata": {},
   "outputs": [
    {
     "name": "stderr",
     "output_type": "stream",
     "text": [
      "/home/ewp/.local/lib/python3.7/site-packages/pandas/core/frame.py:7138: FutureWarning: Sorting because non-concatenation axis is not aligned. A future version\n",
      "of pandas will change to not sort by default.\n",
      "\n",
      "To accept the future behavior, pass 'sort=False'.\n",
      "\n",
      "To retain the current behavior and silence the warning, pass 'sort=True'.\n",
      "\n",
      "  sort=sort,\n"
     ]
    }
   ],
   "source": [
    "# дописываем инвертированные сочетания позитивного класса\n",
    "\n",
    "df_positive = df_raw[df_raw['is_duplicate'] == 1]\n",
    "\n",
    "df_positive = df_positive.rename(columns={'name_1': 'name_11', 'name_2': 'name_1'})\n",
    "df_positive = df_positive.rename(columns={'name_11': 'name_2', 'name_2': 'name_1'})\n",
    "\n",
    "df_raw = df_raw.append(df_positive[['name_1', 'name_2', 'is_duplicate']])"
   ]
  },
  {
   "cell_type": "markdown",
   "id": "ea555641",
   "metadata": {},
   "source": [
    "#### Составление стоп-стран для нашей выборки "
   ]
  },
  {
   "cell_type": "code",
   "execution_count": 291,
   "id": "c1d272dc",
   "metadata": {},
   "outputs": [],
   "source": [
    "# Подкгружаем названия странЖ 2 списка - на латинице и на национальном языке\n",
    "df_countries = pd.read_csv(exterlat_data_dir / 'all_countries.csv', names=['id', 'country'], index_col=0)\n",
    "df_countries_2 = pd.read_csv(exterlat_data_dir / 'all_countries_2.csv',  sep=';')"
   ]
  },
  {
   "cell_type": "code",
   "execution_count": 292,
   "id": "c51d3aeb",
   "metadata": {},
   "outputs": [],
   "source": [
    "df_stop_countries = pd.concat([df_countries['country'].apply(str.lower),\n",
    "                               df_countries_2['﻿Country Name (English)'].apply(str.lower),\n",
    "                               df_countries_2['Country Name (Native Tongue)'].apply(str.lower)]).drop_duplicates(keep='first')\n",
    "stop_countries = df_stop_countries.values"
   ]
  },
  {
   "cell_type": "markdown",
   "id": "c625cdf5",
   "metadata": {},
   "source": [
    "#### Составление стоп-словаря для нашей выборки "
   ]
  },
  {
   "cell_type": "code",
   "execution_count": 297,
   "id": "6d05a3bf",
   "metadata": {},
   "outputs": [],
   "source": [
    "vectorizer = CountVectorizer(analyzer='word', ngram_range=(1,1))\n",
    "cv = vectorizer.fit_transform(df_raw['name_1_clear'].unique())\n",
    "\n",
    "# посчитаем частоыт слов в никальном списке наименований\n",
    "word_list = vectorizer.get_feature_names() \n",
    "count_list = cv.toarray().sum(axis=0)\n",
    "df_wf = pd.DataFrame(dict(zip(word_list,count_list)).items(), columns=['word', 'frequency'])\n",
    "stop_words = df_wf.sort_values('frequency', ascending=False).head(50)['word'].values\n",
    "\n",
    "stop_words = np.append(stop_words, ['industries','international', 'europe', 'republic'])"
   ]
  },
  {
   "cell_type": "code",
   "execution_count": 298,
   "id": "b8138360",
   "metadata": {},
   "outputs": [],
   "source": [
    "pd.DataFrame(stop_words).to_csv(exterlat_data_dir / 'stop_words.csv')"
   ]
  },
  {
   "cell_type": "code",
   "execution_count": 299,
   "id": "866f8cb1",
   "metadata": {},
   "outputs": [
    {
     "name": "stdout",
     "output_type": "stream",
     "text": [
      "CPU times: user 722 µs, sys: 10 µs, total: 732 µs\n",
      "Wall time: 541 µs\n"
     ]
    }
   ],
   "source": [
    "%%time\n",
    "# Очистка текста и приведение к верному написнию\n",
    "fz = FuzzyCompare(stop_words, stop_countries)\n",
    "\n",
    "df_raw['name_1'] = df_raw['name_1'].apply(fz.norm_ref_items)\n",
    "df_raw['name_2'] = df_raw['name_2'].apply(fz.norm_ref_items)"
   ]
  },
  {
   "cell_type": "code",
   "execution_count": 316,
   "id": "686e704c",
   "metadata": {},
   "outputs": [
    {
     "name": "stdout",
     "output_type": "stream",
     "text": [
      "              precision    recall  f1-score   support\n",
      "\n",
      "           0       0.99      0.76      0.86     98832\n",
      "           1       0.06      0.79      0.11      1850\n",
      "\n",
      "    accuracy                           0.76    100682\n",
      "   macro avg       0.53      0.77      0.48    100682\n",
      "weighted avg       0.98      0.76      0.85    100682\n",
      "\n"
     ]
    }
   ],
   "source": [
    "# Удаление пунктуации и перевод в нижний регистр\n",
    "df_raw['name_1_clear'] = df_raw['name_1'].apply(fz.clear_punctuation)\n",
    "df_raw['name_2_clear'] = df_raw['name_2'].apply(fz.clear_punctuation)\n",
    "\n",
    "# Транслитерация\n",
    "df_raw['name_1_clear'] = df_raw['name_1_clear'].apply(fz.translit)\n",
    "df_raw['name_2_clear'] = df_raw['name_2_clear'].apply(fz.translit)\n",
    "\n",
    "\n",
    "# Очистка\n",
    "df_raw['name_1_clear'] = df_raw['name_1_clear'].apply(fz.remove_stopwords)\n",
    "df_raw['name_2_clear'] = df_raw['name_2_clear'].apply(fz.remove_stopwords)\n",
    "\n",
    "df_raw['name_1_clear'] = df_raw['name_1_clear'].apply(fz.remove_stopcountries)\n",
    "df_raw['name_2_clear'] = df_raw['name_2_clear'].apply(fz.remove_stopcountries)"
   ]
  },
  {
   "cell_type": "markdown",
   "id": "d30fa57c",
   "metadata": {},
   "source": [
    "Производим расчет векторов по каждому из наименований компании и составляем единый вектор\n",
    "размерность вектора для обучения равна 200 (два вектора по 100)"
   ]
  },
  {
   "cell_type": "code",
   "execution_count": 24,
   "id": "d12d1d93",
   "metadata": {},
   "outputs": [],
   "source": [
    "# считаем вектора по наименованиям\n",
    "df_raw['name_v_1'] = df_raw['name_1'].apply(ft.get_word_vector)\n",
    "df_raw['name_v_2'] = df_raw['name_2'].apply(ft.get_word_vector)\n",
    "\n",
    "# получаем объединенный вектор для обучения\n",
    "df_raw['v_3'] = df_raw.apply(lambda x: np.append(x.name_v_1, x.name_v_2), axis=1)"
   ]
  },
  {
   "cell_type": "code",
   "execution_count": 93,
   "id": "429224c7",
   "metadata": {},
   "outputs": [],
   "source": [
    "df_raw.to_excel(processed_data_dir / processed_fn, engine='openpyxl')"
   ]
  },
  {
   "cell_type": "code",
   "execution_count": 25,
   "id": "e03d707d",
   "metadata": {},
   "outputs": [
    {
     "data": {
      "text/html": [
       "<div>\n",
       "<style scoped>\n",
       "    .dataframe tbody tr th:only-of-type {\n",
       "        vertical-align: middle;\n",
       "    }\n",
       "\n",
       "    .dataframe tbody tr th {\n",
       "        vertical-align: top;\n",
       "    }\n",
       "\n",
       "    .dataframe thead th {\n",
       "        text-align: right;\n",
       "    }\n",
       "</style>\n",
       "<table border=\"1\" class=\"dataframe\">\n",
       "  <thead>\n",
       "    <tr style=\"text-align: right;\">\n",
       "      <th></th>\n",
       "      <th>is_duplicate</th>\n",
       "      <th>name_1</th>\n",
       "      <th>name_2</th>\n",
       "      <th>name_v_1</th>\n",
       "      <th>name_v_2</th>\n",
       "      <th>v_3</th>\n",
       "    </tr>\n",
       "  </thead>\n",
       "  <tbody>\n",
       "    <tr>\n",
       "      <th>161</th>\n",
       "      <td>1</td>\n",
       "      <td>JX Nippon Oil &amp; Gas Exploration (Brasil) Ltda</td>\n",
       "      <td>JX Nippon Oil &amp; Gas Exploration Technical Serv...</td>\n",
       "      <td>[-0.0134221, -0.031698797, 0.0748122, -0.00253...</td>\n",
       "      <td>[-0.027477799, -0.010946892, 0.037728813, 0.00...</td>\n",
       "      <td>[-0.0134221, -0.031698797, 0.0748122, -0.00253...</td>\n",
       "    </tr>\n",
       "    <tr>\n",
       "      <th>603</th>\n",
       "      <td>1</td>\n",
       "      <td>Pirelli Neumaticos S. A. I. C.</td>\n",
       "      <td>Pirelli Tyre Co., Ltd.</td>\n",
       "      <td>[-0.010749498, -0.045735266, 0.037532263, -0.0...</td>\n",
       "      <td>[0.024236131, -0.009460895, 0.007873217, 0.045...</td>\n",
       "      <td>[-0.010749498, -0.045735266, 0.037532263, -0.0...</td>\n",
       "    </tr>\n",
       "    <tr>\n",
       "      <th>835</th>\n",
       "      <td>1</td>\n",
       "      <td>Brenntag Australia (Pty) Ltd.</td>\n",
       "      <td>Brenntag Group</td>\n",
       "      <td>[-0.0145317605, 0.012031765, 0.047011808, 0.03...</td>\n",
       "      <td>[-0.02073043, 0.01856044, 0.073380545, 0.04384...</td>\n",
       "      <td>[-0.0145317605, 0.012031765, 0.047011808, 0.03...</td>\n",
       "    </tr>\n",
       "    <tr>\n",
       "      <th>1328</th>\n",
       "      <td>1</td>\n",
       "      <td>PAUL BAUDER GMBH &amp; CO KG, BOCHUM PLANT</td>\n",
       "      <td>Paul Bauder ag</td>\n",
       "      <td>[0.003964067, -0.023776598, 0.05105224, 0.0195...</td>\n",
       "      <td>[0.042101525, -0.04498198, 0.05031217, 0.10239...</td>\n",
       "      <td>[0.003964067, -0.023776598, 0.05105224, 0.0195...</td>\n",
       "    </tr>\n",
       "    <tr>\n",
       "      <th>1562</th>\n",
       "      <td>1</td>\n",
       "      <td>TOTAL CESKA REPUBLIKA s. r. o.</td>\n",
       "      <td>TOTAL FRANCE (ARNAY LE DUC)</td>\n",
       "      <td>[0.012755125, 0.005266406, 0.04930161, 0.02542...</td>\n",
       "      <td>[-0.014321496, -0.013305591, 0.034981623, 0.00...</td>\n",
       "      <td>[0.012755125, 0.005266406, 0.04930161, 0.02542...</td>\n",
       "    </tr>\n",
       "    <tr>\n",
       "      <th>...</th>\n",
       "      <td>...</td>\n",
       "      <td>...</td>\n",
       "      <td>...</td>\n",
       "      <td>...</td>\n",
       "      <td>...</td>\n",
       "      <td>...</td>\n",
       "    </tr>\n",
       "    <tr>\n",
       "      <th>492383</th>\n",
       "      <td>1</td>\n",
       "      <td>Zeon France</td>\n",
       "      <td>Zeon Europe Gmbh</td>\n",
       "      <td>[0.07352639, -0.028897945, 0.12720151, 0.00435...</td>\n",
       "      <td>[0.08547146, -0.014707498, 0.04979435, -0.0127...</td>\n",
       "      <td>[0.07352639, -0.028897945, 0.12720151, 0.00435...</td>\n",
       "    </tr>\n",
       "    <tr>\n",
       "      <th>492746</th>\n",
       "      <td>1</td>\n",
       "      <td>Gestion Soprema Canada Inc.</td>\n",
       "      <td>soprema Soprema sas</td>\n",
       "      <td>[-0.0033418809, -0.0013263088, 0.060906146, 0....</td>\n",
       "      <td>[0.06908089, -0.060552582, 0.08404075, 0.03725...</td>\n",
       "      <td>[-0.0033418809, -0.0013263088, 0.060906146, 0....</td>\n",
       "    </tr>\n",
       "    <tr>\n",
       "      <th>493341</th>\n",
       "      <td>1</td>\n",
       "      <td>APS</td>\n",
       "      <td>APS Paving &amp; Stone Inc</td>\n",
       "      <td>[-0.22266605, -0.012519747, 0.5153595, 0.30385...</td>\n",
       "      <td>[-0.040667374, -0.049265906, 0.061345994, 0.03...</td>\n",
       "      <td>[-0.22266605, -0.012519747, 0.5153595, 0.30385...</td>\n",
       "    </tr>\n",
       "    <tr>\n",
       "      <th>494404</th>\n",
       "      <td>1</td>\n",
       "      <td>SOPREMA BLONIE</td>\n",
       "      <td>SOPREMA SALGAREDA</td>\n",
       "      <td>[-0.019392796, -0.017634822, 0.04365773, 0.029...</td>\n",
       "      <td>[0.023292208, 0.021948809, 0.030920058, 0.0405...</td>\n",
       "      <td>[-0.019392796, -0.017634822, 0.04365773, 0.029...</td>\n",
       "    </tr>\n",
       "    <tr>\n",
       "      <th>495936</th>\n",
       "      <td>1</td>\n",
       "      <td>Adams Resources Exploration Corporation, Oil A...</td>\n",
       "      <td>Adams Resources Exploration Corporation, Oil A...</td>\n",
       "      <td>[0.0015502914, -0.0038453701, 0.056576904, 0.0...</td>\n",
       "      <td>[0.010012003, -0.0033736913, 0.046847068, 0.02...</td>\n",
       "      <td>[0.0015502914, -0.0038453701, 0.056576904, 0.0...</td>\n",
       "    </tr>\n",
       "  </tbody>\n",
       "</table>\n",
       "<p>9248 rows × 6 columns</p>\n",
       "</div>"
      ],
      "text/plain": [
       "        is_duplicate                                             name_1  \\\n",
       "161                1      JX Nippon Oil & Gas Exploration (Brasil) Ltda   \n",
       "603                1                     Pirelli Neumaticos S. A. I. C.   \n",
       "835                1                      Brenntag Australia (Pty) Ltd.   \n",
       "1328               1             PAUL BAUDER GMBH & CO KG, BOCHUM PLANT   \n",
       "1562               1                     TOTAL CESKA REPUBLIKA s. r. o.   \n",
       "...              ...                                                ...   \n",
       "492383             1                                        Zeon France   \n",
       "492746             1                        Gestion Soprema Canada Inc.   \n",
       "493341             1                                                APS   \n",
       "494404             1                                     SOPREMA BLONIE   \n",
       "495936             1  Adams Resources Exploration Corporation, Oil A...   \n",
       "\n",
       "                                                   name_2  \\\n",
       "161     JX Nippon Oil & Gas Exploration Technical Serv...   \n",
       "603                                Pirelli Tyre Co., Ltd.   \n",
       "835                                        Brenntag Group   \n",
       "1328                                       Paul Bauder ag   \n",
       "1562                          TOTAL FRANCE (ARNAY LE DUC)   \n",
       "...                                                   ...   \n",
       "492383                                   Zeon Europe Gmbh   \n",
       "492746                                soprema Soprema sas   \n",
       "493341                             APS Paving & Stone Inc   \n",
       "494404                                  SOPREMA SALGAREDA   \n",
       "495936  Adams Resources Exploration Corporation, Oil A...   \n",
       "\n",
       "                                                 name_v_1  \\\n",
       "161     [-0.0134221, -0.031698797, 0.0748122, -0.00253...   \n",
       "603     [-0.010749498, -0.045735266, 0.037532263, -0.0...   \n",
       "835     [-0.0145317605, 0.012031765, 0.047011808, 0.03...   \n",
       "1328    [0.003964067, -0.023776598, 0.05105224, 0.0195...   \n",
       "1562    [0.012755125, 0.005266406, 0.04930161, 0.02542...   \n",
       "...                                                   ...   \n",
       "492383  [0.07352639, -0.028897945, 0.12720151, 0.00435...   \n",
       "492746  [-0.0033418809, -0.0013263088, 0.060906146, 0....   \n",
       "493341  [-0.22266605, -0.012519747, 0.5153595, 0.30385...   \n",
       "494404  [-0.019392796, -0.017634822, 0.04365773, 0.029...   \n",
       "495936  [0.0015502914, -0.0038453701, 0.056576904, 0.0...   \n",
       "\n",
       "                                                 name_v_2  \\\n",
       "161     [-0.027477799, -0.010946892, 0.037728813, 0.00...   \n",
       "603     [0.024236131, -0.009460895, 0.007873217, 0.045...   \n",
       "835     [-0.02073043, 0.01856044, 0.073380545, 0.04384...   \n",
       "1328    [0.042101525, -0.04498198, 0.05031217, 0.10239...   \n",
       "1562    [-0.014321496, -0.013305591, 0.034981623, 0.00...   \n",
       "...                                                   ...   \n",
       "492383  [0.08547146, -0.014707498, 0.04979435, -0.0127...   \n",
       "492746  [0.06908089, -0.060552582, 0.08404075, 0.03725...   \n",
       "493341  [-0.040667374, -0.049265906, 0.061345994, 0.03...   \n",
       "494404  [0.023292208, 0.021948809, 0.030920058, 0.0405...   \n",
       "495936  [0.010012003, -0.0033736913, 0.046847068, 0.02...   \n",
       "\n",
       "                                                      v_3  \n",
       "161     [-0.0134221, -0.031698797, 0.0748122, -0.00253...  \n",
       "603     [-0.010749498, -0.045735266, 0.037532263, -0.0...  \n",
       "835     [-0.0145317605, 0.012031765, 0.047011808, 0.03...  \n",
       "1328    [0.003964067, -0.023776598, 0.05105224, 0.0195...  \n",
       "1562    [0.012755125, 0.005266406, 0.04930161, 0.02542...  \n",
       "...                                                   ...  \n",
       "492383  [0.07352639, -0.028897945, 0.12720151, 0.00435...  \n",
       "492746  [-0.0033418809, -0.0013263088, 0.060906146, 0....  \n",
       "493341  [-0.22266605, -0.012519747, 0.5153595, 0.30385...  \n",
       "494404  [-0.019392796, -0.017634822, 0.04365773, 0.029...  \n",
       "495936  [0.0015502914, -0.0038453701, 0.056576904, 0.0...  \n",
       "\n",
       "[9248 rows x 6 columns]"
      ]
     },
     "execution_count": 25,
     "metadata": {},
     "output_type": "execute_result"
    }
   ],
   "source": [
    "df_raw[df_raw['is_duplicate'] == 1]"
   ]
  },
  {
   "cell_type": "code",
   "execution_count": 26,
   "id": "55058585",
   "metadata": {},
   "outputs": [],
   "source": [
    "# Разбиваем на train/test с сохранением пропорции классов\n",
    "\n",
    "df_train, df_test = train_test_split(df_raw, test_size=0.2, stratify=df_raw['is_duplicate'].values)\n",
    "\n",
    "x_train = list(df_train['v_3'].values)\n",
    "y_train = list(df_train['is_duplicate'].values)\n",
    "\n",
    "\n",
    "x_test = list(df_test['v_3'].values)\n",
    "y_test = list(df_test['is_duplicate'].values)"
   ]
  },
  {
   "cell_type": "code",
   "execution_count": 27,
   "id": "12c8afcb",
   "metadata": {},
   "outputs": [
    {
     "data": {
      "text/plain": [
       "0    0.981625\n",
       "1    0.018375\n",
       "Name: is_duplicate, dtype: float64"
      ]
     },
     "execution_count": 27,
     "metadata": {},
     "output_type": "execute_result"
    }
   ],
   "source": [
    "df_test['is_duplicate'].value_counts(normalize=True)"
   ]
  },
  {
   "cell_type": "code",
   "execution_count": 28,
   "id": "fb0a8373",
   "metadata": {},
   "outputs": [
    {
     "data": {
      "text/plain": [
       "0    0.98163\n",
       "1    0.01837\n",
       "Name: is_duplicate, dtype: float64"
      ]
     },
     "execution_count": 28,
     "metadata": {},
     "output_type": "execute_result"
    }
   ],
   "source": [
    "df_train['is_duplicate'].value_counts(normalize=True)"
   ]
  },
  {
   "cell_type": "markdown",
   "id": "3400524a",
   "metadata": {},
   "source": [
    "## Подбор параметров LogisticRegression"
   ]
  },
  {
   "cell_type": "code",
   "execution_count": 32,
   "id": "f5628a93",
   "metadata": {
    "scrolled": true
   },
   "outputs": [
    {
     "name": "stdout",
     "output_type": "stream",
     "text": [
      "Fitting 5 folds for each of 15 candidates, totalling 75 fits\n"
     ]
    },
    {
     "name": "stderr",
     "output_type": "stream",
     "text": [
      "/home/ewp/.local/lib/python3.7/site-packages/sklearn/linear_model/_logistic.py:765: ConvergenceWarning: lbfgs failed to converge (status=1):\n",
      "STOP: TOTAL NO. of ITERATIONS REACHED LIMIT.\n",
      "\n",
      "Increase the number of iterations (max_iter) or scale the data as shown in:\n",
      "    https://scikit-learn.org/stable/modules/preprocessing.html\n",
      "Please also refer to the documentation for alternative solver options:\n",
      "    https://scikit-learn.org/stable/modules/linear_model.html#logistic-regression\n",
      "  extra_warning_msg=_LOGISTIC_SOLVER_CONVERGENCE_MSG)\n",
      "/home/ewp/.local/lib/python3.7/site-packages/sklearn/linear_model/_logistic.py:765: ConvergenceWarning: lbfgs failed to converge (status=1):\n",
      "STOP: TOTAL NO. of ITERATIONS REACHED LIMIT.\n",
      "\n",
      "Increase the number of iterations (max_iter) or scale the data as shown in:\n",
      "    https://scikit-learn.org/stable/modules/preprocessing.html\n",
      "Please also refer to the documentation for alternative solver options:\n",
      "    https://scikit-learn.org/stable/modules/linear_model.html#logistic-regression\n",
      "  extra_warning_msg=_LOGISTIC_SOLVER_CONVERGENCE_MSG)\n",
      "/home/ewp/.local/lib/python3.7/site-packages/sklearn/linear_model/_logistic.py:765: ConvergenceWarning: lbfgs failed to converge (status=1):\n",
      "STOP: TOTAL NO. of ITERATIONS REACHED LIMIT.\n",
      "\n",
      "Increase the number of iterations (max_iter) or scale the data as shown in:\n",
      "    https://scikit-learn.org/stable/modules/preprocessing.html\n",
      "Please also refer to the documentation for alternative solver options:\n",
      "    https://scikit-learn.org/stable/modules/linear_model.html#logistic-regression\n",
      "  extra_warning_msg=_LOGISTIC_SOLVER_CONVERGENCE_MSG)\n",
      "/home/ewp/.local/lib/python3.7/site-packages/sklearn/linear_model/_logistic.py:765: ConvergenceWarning: lbfgs failed to converge (status=1):\n",
      "STOP: TOTAL NO. of ITERATIONS REACHED LIMIT.\n",
      "\n",
      "Increase the number of iterations (max_iter) or scale the data as shown in:\n",
      "    https://scikit-learn.org/stable/modules/preprocessing.html\n",
      "Please also refer to the documentation for alternative solver options:\n",
      "    https://scikit-learn.org/stable/modules/linear_model.html#logistic-regression\n",
      "  extra_warning_msg=_LOGISTIC_SOLVER_CONVERGENCE_MSG)\n",
      "/home/ewp/.local/lib/python3.7/site-packages/sklearn/linear_model/_logistic.py:765: ConvergenceWarning: lbfgs failed to converge (status=1):\n",
      "STOP: TOTAL NO. of ITERATIONS REACHED LIMIT.\n",
      "\n",
      "Increase the number of iterations (max_iter) or scale the data as shown in:\n",
      "    https://scikit-learn.org/stable/modules/preprocessing.html\n",
      "Please also refer to the documentation for alternative solver options:\n",
      "    https://scikit-learn.org/stable/modules/linear_model.html#logistic-regression\n",
      "  extra_warning_msg=_LOGISTIC_SOLVER_CONVERGENCE_MSG)\n",
      "/home/ewp/.local/lib/python3.7/site-packages/sklearn/linear_model/_sag.py:329: ConvergenceWarning: The max_iter was reached which means the coef_ did not converge\n",
      "  \"the coef_ did not converge\", ConvergenceWarning)\n",
      "/home/ewp/.local/lib/python3.7/site-packages/sklearn/linear_model/_sag.py:329: ConvergenceWarning: The max_iter was reached which means the coef_ did not converge\n",
      "  \"the coef_ did not converge\", ConvergenceWarning)\n",
      "/home/ewp/.local/lib/python3.7/site-packages/sklearn/linear_model/_sag.py:329: ConvergenceWarning: The max_iter was reached which means the coef_ did not converge\n",
      "  \"the coef_ did not converge\", ConvergenceWarning)\n",
      "/home/ewp/.local/lib/python3.7/site-packages/sklearn/linear_model/_sag.py:329: ConvergenceWarning: The max_iter was reached which means the coef_ did not converge\n",
      "  \"the coef_ did not converge\", ConvergenceWarning)\n",
      "/home/ewp/.local/lib/python3.7/site-packages/sklearn/linear_model/_sag.py:329: ConvergenceWarning: The max_iter was reached which means the coef_ did not converge\n",
      "  \"the coef_ did not converge\", ConvergenceWarning)\n",
      "/home/ewp/.local/lib/python3.7/site-packages/sklearn/linear_model/_sag.py:329: ConvergenceWarning: The max_iter was reached which means the coef_ did not converge\n",
      "  \"the coef_ did not converge\", ConvergenceWarning)\n",
      "/home/ewp/.local/lib/python3.7/site-packages/sklearn/linear_model/_sag.py:329: ConvergenceWarning: The max_iter was reached which means the coef_ did not converge\n",
      "  \"the coef_ did not converge\", ConvergenceWarning)\n",
      "/home/ewp/.local/lib/python3.7/site-packages/sklearn/linear_model/_sag.py:329: ConvergenceWarning: The max_iter was reached which means the coef_ did not converge\n",
      "  \"the coef_ did not converge\", ConvergenceWarning)\n",
      "/home/ewp/.local/lib/python3.7/site-packages/sklearn/linear_model/_sag.py:329: ConvergenceWarning: The max_iter was reached which means the coef_ did not converge\n",
      "  \"the coef_ did not converge\", ConvergenceWarning)\n",
      "/home/ewp/.local/lib/python3.7/site-packages/sklearn/linear_model/_sag.py:329: ConvergenceWarning: The max_iter was reached which means the coef_ did not converge\n",
      "  \"the coef_ did not converge\", ConvergenceWarning)\n",
      "/home/ewp/.local/lib/python3.7/site-packages/sklearn/linear_model/_logistic.py:765: ConvergenceWarning: lbfgs failed to converge (status=1):\n",
      "STOP: TOTAL NO. of ITERATIONS REACHED LIMIT.\n",
      "\n",
      "Increase the number of iterations (max_iter) or scale the data as shown in:\n",
      "    https://scikit-learn.org/stable/modules/preprocessing.html\n",
      "Please also refer to the documentation for alternative solver options:\n",
      "    https://scikit-learn.org/stable/modules/linear_model.html#logistic-regression\n",
      "  extra_warning_msg=_LOGISTIC_SOLVER_CONVERGENCE_MSG)\n",
      "/home/ewp/.local/lib/python3.7/site-packages/sklearn/linear_model/_logistic.py:765: ConvergenceWarning: lbfgs failed to converge (status=1):\n",
      "STOP: TOTAL NO. of ITERATIONS REACHED LIMIT.\n",
      "\n",
      "Increase the number of iterations (max_iter) or scale the data as shown in:\n",
      "    https://scikit-learn.org/stable/modules/preprocessing.html\n",
      "Please also refer to the documentation for alternative solver options:\n",
      "    https://scikit-learn.org/stable/modules/linear_model.html#logistic-regression\n",
      "  extra_warning_msg=_LOGISTIC_SOLVER_CONVERGENCE_MSG)\n",
      "/home/ewp/.local/lib/python3.7/site-packages/sklearn/linear_model/_logistic.py:765: ConvergenceWarning: lbfgs failed to converge (status=1):\n",
      "STOP: TOTAL NO. of ITERATIONS REACHED LIMIT.\n",
      "\n",
      "Increase the number of iterations (max_iter) or scale the data as shown in:\n",
      "    https://scikit-learn.org/stable/modules/preprocessing.html\n",
      "Please also refer to the documentation for alternative solver options:\n",
      "    https://scikit-learn.org/stable/modules/linear_model.html#logistic-regression\n",
      "  extra_warning_msg=_LOGISTIC_SOLVER_CONVERGENCE_MSG)\n",
      "/home/ewp/.local/lib/python3.7/site-packages/sklearn/linear_model/_logistic.py:765: ConvergenceWarning: lbfgs failed to converge (status=1):\n",
      "STOP: TOTAL NO. of ITERATIONS REACHED LIMIT.\n",
      "\n",
      "Increase the number of iterations (max_iter) or scale the data as shown in:\n",
      "    https://scikit-learn.org/stable/modules/preprocessing.html\n",
      "Please also refer to the documentation for alternative solver options:\n",
      "    https://scikit-learn.org/stable/modules/linear_model.html#logistic-regression\n",
      "  extra_warning_msg=_LOGISTIC_SOLVER_CONVERGENCE_MSG)\n",
      "/home/ewp/.local/lib/python3.7/site-packages/sklearn/linear_model/_logistic.py:765: ConvergenceWarning: lbfgs failed to converge (status=1):\n",
      "STOP: TOTAL NO. of ITERATIONS REACHED LIMIT.\n",
      "\n",
      "Increase the number of iterations (max_iter) or scale the data as shown in:\n",
      "    https://scikit-learn.org/stable/modules/preprocessing.html\n",
      "Please also refer to the documentation for alternative solver options:\n",
      "    https://scikit-learn.org/stable/modules/linear_model.html#logistic-regression\n",
      "  extra_warning_msg=_LOGISTIC_SOLVER_CONVERGENCE_MSG)\n",
      "/home/ewp/.local/lib/python3.7/site-packages/sklearn/model_selection/_validation.py:619: FitFailedWarning: Estimator fit failed. The score on this train-test partition for these parameters will be set to nan. Details: \n",
      "Traceback (most recent call last):\n",
      "  File \"/home/ewp/.local/lib/python3.7/site-packages/sklearn/model_selection/_validation.py\", line 598, in _fit_and_score\n",
      "    estimator.fit(X_train, y_train, **fit_params)\n",
      "  File \"/home/ewp/.local/lib/python3.7/site-packages/sklearn/linear_model/_logistic.py\", line 1306, in fit\n",
      "    solver = _check_solver(self.solver, self.penalty, self.dual)\n",
      "  File \"/home/ewp/.local/lib/python3.7/site-packages/sklearn/linear_model/_logistic.py\", line 444, in _check_solver\n",
      "    \"got %s penalty.\" % (solver, penalty))\n",
      "ValueError: Solver lbfgs supports only 'l2' or 'none' penalties, got elasticnet penalty.\n",
      "\n",
      "  FitFailedWarning)\n"
     ]
    },
    {
     "name": "stderr",
     "output_type": "stream",
     "text": [
      "/home/ewp/.local/lib/python3.7/site-packages/sklearn/model_selection/_validation.py:619: FitFailedWarning: Estimator fit failed. The score on this train-test partition for these parameters will be set to nan. Details: \n",
      "Traceback (most recent call last):\n",
      "  File \"/home/ewp/.local/lib/python3.7/site-packages/sklearn/model_selection/_validation.py\", line 598, in _fit_and_score\n",
      "    estimator.fit(X_train, y_train, **fit_params)\n",
      "  File \"/home/ewp/.local/lib/python3.7/site-packages/sklearn/linear_model/_logistic.py\", line 1306, in fit\n",
      "    solver = _check_solver(self.solver, self.penalty, self.dual)\n",
      "  File \"/home/ewp/.local/lib/python3.7/site-packages/sklearn/linear_model/_logistic.py\", line 444, in _check_solver\n",
      "    \"got %s penalty.\" % (solver, penalty))\n",
      "ValueError: Solver lbfgs supports only 'l2' or 'none' penalties, got elasticnet penalty.\n",
      "\n",
      "  FitFailedWarning)\n",
      "/home/ewp/.local/lib/python3.7/site-packages/sklearn/model_selection/_validation.py:619: FitFailedWarning: Estimator fit failed. The score on this train-test partition for these parameters will be set to nan. Details: \n",
      "Traceback (most recent call last):\n",
      "  File \"/home/ewp/.local/lib/python3.7/site-packages/sklearn/model_selection/_validation.py\", line 598, in _fit_and_score\n",
      "    estimator.fit(X_train, y_train, **fit_params)\n",
      "  File \"/home/ewp/.local/lib/python3.7/site-packages/sklearn/linear_model/_logistic.py\", line 1306, in fit\n",
      "    solver = _check_solver(self.solver, self.penalty, self.dual)\n",
      "  File \"/home/ewp/.local/lib/python3.7/site-packages/sklearn/linear_model/_logistic.py\", line 444, in _check_solver\n",
      "    \"got %s penalty.\" % (solver, penalty))\n",
      "ValueError: Solver lbfgs supports only 'l2' or 'none' penalties, got elasticnet penalty.\n",
      "\n",
      "  FitFailedWarning)\n",
      "/home/ewp/.local/lib/python3.7/site-packages/sklearn/model_selection/_validation.py:619: FitFailedWarning: Estimator fit failed. The score on this train-test partition for these parameters will be set to nan. Details: \n",
      "Traceback (most recent call last):\n",
      "  File \"/home/ewp/.local/lib/python3.7/site-packages/sklearn/model_selection/_validation.py\", line 598, in _fit_and_score\n",
      "    estimator.fit(X_train, y_train, **fit_params)\n",
      "  File \"/home/ewp/.local/lib/python3.7/site-packages/sklearn/linear_model/_logistic.py\", line 1306, in fit\n",
      "    solver = _check_solver(self.solver, self.penalty, self.dual)\n",
      "  File \"/home/ewp/.local/lib/python3.7/site-packages/sklearn/linear_model/_logistic.py\", line 444, in _check_solver\n",
      "    \"got %s penalty.\" % (solver, penalty))\n",
      "ValueError: Solver lbfgs supports only 'l2' or 'none' penalties, got elasticnet penalty.\n",
      "\n",
      "  FitFailedWarning)\n",
      "/home/ewp/.local/lib/python3.7/site-packages/sklearn/model_selection/_validation.py:619: FitFailedWarning: Estimator fit failed. The score on this train-test partition for these parameters will be set to nan. Details: \n",
      "Traceback (most recent call last):\n",
      "  File \"/home/ewp/.local/lib/python3.7/site-packages/sklearn/model_selection/_validation.py\", line 598, in _fit_and_score\n",
      "    estimator.fit(X_train, y_train, **fit_params)\n",
      "  File \"/home/ewp/.local/lib/python3.7/site-packages/sklearn/linear_model/_logistic.py\", line 1306, in fit\n",
      "    solver = _check_solver(self.solver, self.penalty, self.dual)\n",
      "  File \"/home/ewp/.local/lib/python3.7/site-packages/sklearn/linear_model/_logistic.py\", line 444, in _check_solver\n",
      "    \"got %s penalty.\" % (solver, penalty))\n",
      "ValueError: Solver lbfgs supports only 'l2' or 'none' penalties, got elasticnet penalty.\n",
      "\n",
      "  FitFailedWarning)\n",
      "/home/ewp/.local/lib/python3.7/site-packages/sklearn/model_selection/_validation.py:619: FitFailedWarning: Estimator fit failed. The score on this train-test partition for these parameters will be set to nan. Details: \n",
      "Traceback (most recent call last):\n",
      "  File \"/home/ewp/.local/lib/python3.7/site-packages/sklearn/model_selection/_validation.py\", line 598, in _fit_and_score\n",
      "    estimator.fit(X_train, y_train, **fit_params)\n",
      "  File \"/home/ewp/.local/lib/python3.7/site-packages/sklearn/linear_model/_logistic.py\", line 1306, in fit\n",
      "    solver = _check_solver(self.solver, self.penalty, self.dual)\n",
      "  File \"/home/ewp/.local/lib/python3.7/site-packages/sklearn/linear_model/_logistic.py\", line 444, in _check_solver\n",
      "    \"got %s penalty.\" % (solver, penalty))\n",
      "ValueError: Solver lbfgs supports only 'l2' or 'none' penalties, got l1 penalty.\n",
      "\n",
      "  FitFailedWarning)\n",
      "/home/ewp/.local/lib/python3.7/site-packages/sklearn/model_selection/_validation.py:619: FitFailedWarning: Estimator fit failed. The score on this train-test partition for these parameters will be set to nan. Details: \n",
      "Traceback (most recent call last):\n",
      "  File \"/home/ewp/.local/lib/python3.7/site-packages/sklearn/model_selection/_validation.py\", line 598, in _fit_and_score\n",
      "    estimator.fit(X_train, y_train, **fit_params)\n",
      "  File \"/home/ewp/.local/lib/python3.7/site-packages/sklearn/linear_model/_logistic.py\", line 1306, in fit\n",
      "    solver = _check_solver(self.solver, self.penalty, self.dual)\n",
      "  File \"/home/ewp/.local/lib/python3.7/site-packages/sklearn/linear_model/_logistic.py\", line 444, in _check_solver\n",
      "    \"got %s penalty.\" % (solver, penalty))\n",
      "ValueError: Solver lbfgs supports only 'l2' or 'none' penalties, got l1 penalty.\n",
      "\n",
      "  FitFailedWarning)\n",
      "/home/ewp/.local/lib/python3.7/site-packages/sklearn/model_selection/_validation.py:619: FitFailedWarning: Estimator fit failed. The score on this train-test partition for these parameters will be set to nan. Details: \n",
      "Traceback (most recent call last):\n",
      "  File \"/home/ewp/.local/lib/python3.7/site-packages/sklearn/model_selection/_validation.py\", line 598, in _fit_and_score\n",
      "    estimator.fit(X_train, y_train, **fit_params)\n",
      "  File \"/home/ewp/.local/lib/python3.7/site-packages/sklearn/linear_model/_logistic.py\", line 1306, in fit\n",
      "    solver = _check_solver(self.solver, self.penalty, self.dual)\n",
      "  File \"/home/ewp/.local/lib/python3.7/site-packages/sklearn/linear_model/_logistic.py\", line 444, in _check_solver\n",
      "    \"got %s penalty.\" % (solver, penalty))\n",
      "ValueError: Solver lbfgs supports only 'l2' or 'none' penalties, got l1 penalty.\n",
      "\n",
      "  FitFailedWarning)\n",
      "/home/ewp/.local/lib/python3.7/site-packages/sklearn/model_selection/_validation.py:619: FitFailedWarning: Estimator fit failed. The score on this train-test partition for these parameters will be set to nan. Details: \n",
      "Traceback (most recent call last):\n",
      "  File \"/home/ewp/.local/lib/python3.7/site-packages/sklearn/model_selection/_validation.py\", line 598, in _fit_and_score\n",
      "    estimator.fit(X_train, y_train, **fit_params)\n",
      "  File \"/home/ewp/.local/lib/python3.7/site-packages/sklearn/linear_model/_logistic.py\", line 1306, in fit\n",
      "    solver = _check_solver(self.solver, self.penalty, self.dual)\n",
      "  File \"/home/ewp/.local/lib/python3.7/site-packages/sklearn/linear_model/_logistic.py\", line 444, in _check_solver\n",
      "    \"got %s penalty.\" % (solver, penalty))\n",
      "ValueError: Solver lbfgs supports only 'l2' or 'none' penalties, got l1 penalty.\n",
      "\n",
      "  FitFailedWarning)\n",
      "/home/ewp/.local/lib/python3.7/site-packages/sklearn/model_selection/_validation.py:619: FitFailedWarning: Estimator fit failed. The score on this train-test partition for these parameters will be set to nan. Details: \n",
      "Traceback (most recent call last):\n",
      "  File \"/home/ewp/.local/lib/python3.7/site-packages/sklearn/model_selection/_validation.py\", line 598, in _fit_and_score\n",
      "    estimator.fit(X_train, y_train, **fit_params)\n",
      "  File \"/home/ewp/.local/lib/python3.7/site-packages/sklearn/linear_model/_logistic.py\", line 1306, in fit\n",
      "    solver = _check_solver(self.solver, self.penalty, self.dual)\n",
      "  File \"/home/ewp/.local/lib/python3.7/site-packages/sklearn/linear_model/_logistic.py\", line 444, in _check_solver\n",
      "    \"got %s penalty.\" % (solver, penalty))\n",
      "ValueError: Solver lbfgs supports only 'l2' or 'none' penalties, got l1 penalty.\n",
      "\n",
      "  FitFailedWarning)\n",
      "/home/ewp/.local/lib/python3.7/site-packages/sklearn/linear_model/_logistic.py:765: ConvergenceWarning: lbfgs failed to converge (status=1):\n",
      "STOP: TOTAL NO. of ITERATIONS REACHED LIMIT.\n",
      "\n",
      "Increase the number of iterations (max_iter) or scale the data as shown in:\n",
      "    https://scikit-learn.org/stable/modules/preprocessing.html\n",
      "Please also refer to the documentation for alternative solver options:\n",
      "    https://scikit-learn.org/stable/modules/linear_model.html#logistic-regression\n",
      "  extra_warning_msg=_LOGISTIC_SOLVER_CONVERGENCE_MSG)\n"
     ]
    },
    {
     "name": "stderr",
     "output_type": "stream",
     "text": [
      "/home/ewp/.local/lib/python3.7/site-packages/sklearn/linear_model/_logistic.py:765: ConvergenceWarning: lbfgs failed to converge (status=1):\n",
      "STOP: TOTAL NO. of ITERATIONS REACHED LIMIT.\n",
      "\n",
      "Increase the number of iterations (max_iter) or scale the data as shown in:\n",
      "    https://scikit-learn.org/stable/modules/preprocessing.html\n",
      "Please also refer to the documentation for alternative solver options:\n",
      "    https://scikit-learn.org/stable/modules/linear_model.html#logistic-regression\n",
      "  extra_warning_msg=_LOGISTIC_SOLVER_CONVERGENCE_MSG)\n",
      "/home/ewp/.local/lib/python3.7/site-packages/sklearn/linear_model/_logistic.py:765: ConvergenceWarning: lbfgs failed to converge (status=1):\n",
      "STOP: TOTAL NO. of ITERATIONS REACHED LIMIT.\n",
      "\n",
      "Increase the number of iterations (max_iter) or scale the data as shown in:\n",
      "    https://scikit-learn.org/stable/modules/preprocessing.html\n",
      "Please also refer to the documentation for alternative solver options:\n",
      "    https://scikit-learn.org/stable/modules/linear_model.html#logistic-regression\n",
      "  extra_warning_msg=_LOGISTIC_SOLVER_CONVERGENCE_MSG)\n",
      "/home/ewp/.local/lib/python3.7/site-packages/sklearn/linear_model/_logistic.py:765: ConvergenceWarning: lbfgs failed to converge (status=1):\n",
      "STOP: TOTAL NO. of ITERATIONS REACHED LIMIT.\n",
      "\n",
      "Increase the number of iterations (max_iter) or scale the data as shown in:\n",
      "    https://scikit-learn.org/stable/modules/preprocessing.html\n",
      "Please also refer to the documentation for alternative solver options:\n",
      "    https://scikit-learn.org/stable/modules/linear_model.html#logistic-regression\n",
      "  extra_warning_msg=_LOGISTIC_SOLVER_CONVERGENCE_MSG)\n",
      "/home/ewp/.local/lib/python3.7/site-packages/sklearn/linear_model/_logistic.py:765: ConvergenceWarning: lbfgs failed to converge (status=1):\n",
      "STOP: TOTAL NO. of ITERATIONS REACHED LIMIT.\n",
      "\n",
      "Increase the number of iterations (max_iter) or scale the data as shown in:\n",
      "    https://scikit-learn.org/stable/modules/preprocessing.html\n",
      "Please also refer to the documentation for alternative solver options:\n",
      "    https://scikit-learn.org/stable/modules/linear_model.html#logistic-regression\n",
      "  extra_warning_msg=_LOGISTIC_SOLVER_CONVERGENCE_MSG)\n",
      "/home/ewp/.local/lib/python3.7/site-packages/sklearn/linear_model/_logistic.py:765: ConvergenceWarning: lbfgs failed to converge (status=1):\n",
      "STOP: TOTAL NO. of ITERATIONS REACHED LIMIT.\n",
      "\n",
      "Increase the number of iterations (max_iter) or scale the data as shown in:\n",
      "    https://scikit-learn.org/stable/modules/preprocessing.html\n",
      "Please also refer to the documentation for alternative solver options:\n",
      "    https://scikit-learn.org/stable/modules/linear_model.html#logistic-regression\n",
      "  extra_warning_msg=_LOGISTIC_SOLVER_CONVERGENCE_MSG)\n",
      "/home/ewp/.local/lib/python3.7/site-packages/sklearn/linear_model/_logistic.py:765: ConvergenceWarning: lbfgs failed to converge (status=1):\n",
      "STOP: TOTAL NO. of ITERATIONS REACHED LIMIT.\n",
      "\n",
      "Increase the number of iterations (max_iter) or scale the data as shown in:\n",
      "    https://scikit-learn.org/stable/modules/preprocessing.html\n",
      "Please also refer to the documentation for alternative solver options:\n",
      "    https://scikit-learn.org/stable/modules/linear_model.html#logistic-regression\n",
      "  extra_warning_msg=_LOGISTIC_SOLVER_CONVERGENCE_MSG)\n",
      "/home/ewp/.local/lib/python3.7/site-packages/sklearn/linear_model/_logistic.py:765: ConvergenceWarning: lbfgs failed to converge (status=1):\n",
      "STOP: TOTAL NO. of ITERATIONS REACHED LIMIT.\n",
      "\n",
      "Increase the number of iterations (max_iter) or scale the data as shown in:\n",
      "    https://scikit-learn.org/stable/modules/preprocessing.html\n",
      "Please also refer to the documentation for alternative solver options:\n",
      "    https://scikit-learn.org/stable/modules/linear_model.html#logistic-regression\n",
      "  extra_warning_msg=_LOGISTIC_SOLVER_CONVERGENCE_MSG)\n",
      "/home/ewp/.local/lib/python3.7/site-packages/sklearn/linear_model/_logistic.py:765: ConvergenceWarning: lbfgs failed to converge (status=1):\n",
      "STOP: TOTAL NO. of ITERATIONS REACHED LIMIT.\n",
      "\n",
      "Increase the number of iterations (max_iter) or scale the data as shown in:\n",
      "    https://scikit-learn.org/stable/modules/preprocessing.html\n",
      "Please also refer to the documentation for alternative solver options:\n",
      "    https://scikit-learn.org/stable/modules/linear_model.html#logistic-regression\n",
      "  extra_warning_msg=_LOGISTIC_SOLVER_CONVERGENCE_MSG)\n",
      "/home/ewp/.local/lib/python3.7/site-packages/sklearn/linear_model/_logistic.py:765: ConvergenceWarning: lbfgs failed to converge (status=1):\n",
      "STOP: TOTAL NO. of ITERATIONS REACHED LIMIT.\n",
      "\n",
      "Increase the number of iterations (max_iter) or scale the data as shown in:\n",
      "    https://scikit-learn.org/stable/modules/preprocessing.html\n",
      "Please also refer to the documentation for alternative solver options:\n",
      "    https://scikit-learn.org/stable/modules/linear_model.html#logistic-regression\n",
      "  extra_warning_msg=_LOGISTIC_SOLVER_CONVERGENCE_MSG)\n",
      "/home/ewp/.local/lib/python3.7/site-packages/sklearn/linear_model/_logistic.py:765: ConvergenceWarning: lbfgs failed to converge (status=1):\n",
      "STOP: TOTAL NO. of ITERATIONS REACHED LIMIT.\n",
      "\n",
      "Increase the number of iterations (max_iter) or scale the data as shown in:\n",
      "    https://scikit-learn.org/stable/modules/preprocessing.html\n",
      "Please also refer to the documentation for alternative solver options:\n",
      "    https://scikit-learn.org/stable/modules/linear_model.html#logistic-regression\n",
      "  extra_warning_msg=_LOGISTIC_SOLVER_CONVERGENCE_MSG)\n",
      "/home/ewp/.local/lib/python3.7/site-packages/sklearn/linear_model/_logistic.py:765: ConvergenceWarning: lbfgs failed to converge (status=1):\n",
      "STOP: TOTAL NO. of ITERATIONS REACHED LIMIT.\n",
      "\n",
      "Increase the number of iterations (max_iter) or scale the data as shown in:\n",
      "    https://scikit-learn.org/stable/modules/preprocessing.html\n",
      "Please also refer to the documentation for alternative solver options:\n",
      "    https://scikit-learn.org/stable/modules/linear_model.html#logistic-regression\n",
      "  extra_warning_msg=_LOGISTIC_SOLVER_CONVERGENCE_MSG)\n",
      "/home/ewp/.local/lib/python3.7/site-packages/sklearn/linear_model/_logistic.py:765: ConvergenceWarning: lbfgs failed to converge (status=1):\n",
      "STOP: TOTAL NO. of ITERATIONS REACHED LIMIT.\n",
      "\n",
      "Increase the number of iterations (max_iter) or scale the data as shown in:\n",
      "    https://scikit-learn.org/stable/modules/preprocessing.html\n",
      "Please also refer to the documentation for alternative solver options:\n",
      "    https://scikit-learn.org/stable/modules/linear_model.html#logistic-regression\n",
      "  extra_warning_msg=_LOGISTIC_SOLVER_CONVERGENCE_MSG)\n",
      "/home/ewp/.local/lib/python3.7/site-packages/sklearn/linear_model/_logistic.py:765: ConvergenceWarning: lbfgs failed to converge (status=1):\n",
      "STOP: TOTAL NO. of ITERATIONS REACHED LIMIT.\n",
      "\n",
      "Increase the number of iterations (max_iter) or scale the data as shown in:\n",
      "    https://scikit-learn.org/stable/modules/preprocessing.html\n",
      "Please also refer to the documentation for alternative solver options:\n",
      "    https://scikit-learn.org/stable/modules/linear_model.html#logistic-regression\n",
      "  extra_warning_msg=_LOGISTIC_SOLVER_CONVERGENCE_MSG)\n",
      "/home/ewp/.local/lib/python3.7/site-packages/sklearn/linear_model/_logistic.py:765: ConvergenceWarning: lbfgs failed to converge (status=1):\n",
      "STOP: TOTAL NO. of ITERATIONS REACHED LIMIT.\n",
      "\n",
      "Increase the number of iterations (max_iter) or scale the data as shown in:\n",
      "    https://scikit-learn.org/stable/modules/preprocessing.html\n",
      "Please also refer to the documentation for alternative solver options:\n",
      "    https://scikit-learn.org/stable/modules/linear_model.html#logistic-regression\n",
      "  extra_warning_msg=_LOGISTIC_SOLVER_CONVERGENCE_MSG)\n",
      "/home/ewp/.local/lib/python3.7/site-packages/sklearn/linear_model/_logistic.py:765: ConvergenceWarning: lbfgs failed to converge (status=1):\n",
      "STOP: TOTAL NO. of ITERATIONS REACHED LIMIT.\n",
      "\n",
      "Increase the number of iterations (max_iter) or scale the data as shown in:\n",
      "    https://scikit-learn.org/stable/modules/preprocessing.html\n",
      "Please also refer to the documentation for alternative solver options:\n",
      "    https://scikit-learn.org/stable/modules/linear_model.html#logistic-regression\n",
      "  extra_warning_msg=_LOGISTIC_SOLVER_CONVERGENCE_MSG)\n",
      "/home/ewp/.local/lib/python3.7/site-packages/sklearn/linear_model/_logistic.py:765: ConvergenceWarning: lbfgs failed to converge (status=1):\n",
      "STOP: TOTAL NO. of ITERATIONS REACHED LIMIT.\n",
      "\n",
      "Increase the number of iterations (max_iter) or scale the data as shown in:\n",
      "    https://scikit-learn.org/stable/modules/preprocessing.html\n",
      "Please also refer to the documentation for alternative solver options:\n",
      "    https://scikit-learn.org/stable/modules/linear_model.html#logistic-regression\n",
      "  extra_warning_msg=_LOGISTIC_SOLVER_CONVERGENCE_MSG)\n"
     ]
    },
    {
     "name": "stderr",
     "output_type": "stream",
     "text": [
      "/home/ewp/.local/lib/python3.7/site-packages/sklearn/linear_model/_logistic.py:765: ConvergenceWarning: lbfgs failed to converge (status=1):\n",
      "STOP: TOTAL NO. of ITERATIONS REACHED LIMIT.\n",
      "\n",
      "Increase the number of iterations (max_iter) or scale the data as shown in:\n",
      "    https://scikit-learn.org/stable/modules/preprocessing.html\n",
      "Please also refer to the documentation for alternative solver options:\n",
      "    https://scikit-learn.org/stable/modules/linear_model.html#logistic-regression\n",
      "  extra_warning_msg=_LOGISTIC_SOLVER_CONVERGENCE_MSG)\n",
      "/home/ewp/.local/lib/python3.7/site-packages/sklearn/linear_model/_logistic.py:765: ConvergenceWarning: lbfgs failed to converge (status=1):\n",
      "STOP: TOTAL NO. of ITERATIONS REACHED LIMIT.\n",
      "\n",
      "Increase the number of iterations (max_iter) or scale the data as shown in:\n",
      "    https://scikit-learn.org/stable/modules/preprocessing.html\n",
      "Please also refer to the documentation for alternative solver options:\n",
      "    https://scikit-learn.org/stable/modules/linear_model.html#logistic-regression\n",
      "  extra_warning_msg=_LOGISTIC_SOLVER_CONVERGENCE_MSG)\n",
      "/home/ewp/.local/lib/python3.7/site-packages/sklearn/linear_model/_logistic.py:765: ConvergenceWarning: lbfgs failed to converge (status=1):\n",
      "STOP: TOTAL NO. of ITERATIONS REACHED LIMIT.\n",
      "\n",
      "Increase the number of iterations (max_iter) or scale the data as shown in:\n",
      "    https://scikit-learn.org/stable/modules/preprocessing.html\n",
      "Please also refer to the documentation for alternative solver options:\n",
      "    https://scikit-learn.org/stable/modules/linear_model.html#logistic-regression\n",
      "  extra_warning_msg=_LOGISTIC_SOLVER_CONVERGENCE_MSG)\n",
      "/home/ewp/.local/lib/python3.7/site-packages/sklearn/model_selection/_search.py:925: UserWarning: One or more of the test scores are non-finite: [0.50777389 0.50775842 0.50777392 0.49148191 0.51024702 0.50783871\n",
      "        nan        nan 0.50775842 0.469032   0.49277287 0.50524257\n",
      " 0.50775842 0.50784222 0.50786001]\n",
      "  category=UserWarning\n"
     ]
    },
    {
     "name": "stdout",
     "output_type": "stream",
     "text": [
      "Best score: 0.510\n",
      "Best parameters set:\n"
     ]
    },
    {
     "name": "stderr",
     "output_type": "stream",
     "text": [
      "/home/ewp/.local/lib/python3.7/site-packages/sklearn/linear_model/_sag.py:329: ConvergenceWarning: The max_iter was reached which means the coef_ did not converge\n",
      "  \"the coef_ did not converge\", ConvergenceWarning)\n"
     ]
    },
    {
     "ename": "AttributeError",
     "evalue": "'list' object has no attribute 'keys'",
     "output_type": "error",
     "traceback": [
      "\u001b[0;31m---------------------------------------------------------------------------\u001b[0m",
      "\u001b[0;31mAttributeError\u001b[0m                            Traceback (most recent call last)",
      "\u001b[0;32m<ipython-input-32-92e168ddbada>\u001b[0m in \u001b[0;36m<module>\u001b[0;34m\u001b[0m\n\u001b[1;32m     21\u001b[0m \u001b[0;34m\u001b[0m\u001b[0m\n\u001b[1;32m     22\u001b[0m \u001b[0mbest_parameters\u001b[0m \u001b[0;34m=\u001b[0m \u001b[0mgrid_search\u001b[0m\u001b[0;34m.\u001b[0m\u001b[0mbest_estimator_\u001b[0m\u001b[0;34m.\u001b[0m\u001b[0mget_params\u001b[0m\u001b[0;34m(\u001b[0m\u001b[0;34m)\u001b[0m\u001b[0;34m\u001b[0m\u001b[0;34m\u001b[0m\u001b[0m\n\u001b[0;32m---> 23\u001b[0;31m \u001b[0;32mfor\u001b[0m \u001b[0mparam_name\u001b[0m \u001b[0;32min\u001b[0m \u001b[0msorted\u001b[0m\u001b[0;34m(\u001b[0m\u001b[0mparameters\u001b[0m\u001b[0;34m.\u001b[0m\u001b[0mkeys\u001b[0m\u001b[0;34m(\u001b[0m\u001b[0;34m)\u001b[0m\u001b[0;34m)\u001b[0m\u001b[0;34m:\u001b[0m\u001b[0;34m\u001b[0m\u001b[0;34m\u001b[0m\u001b[0m\n\u001b[0m\u001b[1;32m     24\u001b[0m     \u001b[0mprint\u001b[0m\u001b[0;34m(\u001b[0m\u001b[0;34m'\\t%s: %r'\u001b[0m \u001b[0;34m%\u001b[0m \u001b[0;34m(\u001b[0m\u001b[0mparam_name\u001b[0m\u001b[0;34m,\u001b[0m \u001b[0mbest_parameters\u001b[0m\u001b[0;34m[\u001b[0m\u001b[0mparam_name\u001b[0m\u001b[0;34m]\u001b[0m\u001b[0;34m)\u001b[0m\u001b[0;34m)\u001b[0m\u001b[0;34m\u001b[0m\u001b[0;34m\u001b[0m\u001b[0m\n\u001b[1;32m     25\u001b[0m \u001b[0;34m\u001b[0m\u001b[0m\n",
      "\u001b[0;31mAttributeError\u001b[0m: 'list' object has no attribute 'keys'"
     ]
    }
   ],
   "source": [
    "logreg = LogisticRegression(class_weight='balanced')\n",
    "\n",
    "parameters = [{'solver': ['newton-cg', 'lbfgs', 'liblinear', 'sag', 'saga']},\n",
    "              {'penalty':['none', 'elasticnet', 'l1', 'l2']},\n",
    "              {'C':[0.001, 0.01, 0.1, 1, 10, 100]}]\n",
    "\n",
    "\n",
    "\n",
    "grid_search = GridSearchCV(estimator = logreg,  \n",
    "                           param_grid = parameters,\n",
    "                           scoring = 'f1_macro',\n",
    "                           cv = 5,\n",
    "                           verbose=1)\n",
    "\n",
    "\n",
    "grid_search.fit(x_train, y_train)\n",
    "\n",
    "\n",
    "print('Best score: %0.3f' % grid_search.best_score_)\n",
    "print('Best parameters set:')\n",
    "\n",
    "best_parameters = grid_search.best_estimator_.get_params()\n",
    "for param_name in sorted(best_parameters.keys()):\n",
    "    print('\\t%s: %r' % (param_name, best_parameters[param_name]))\n",
    "\n",
    "predictions = grid_search.predict(x_test)\n",
    "print(classification_report(y_test, predictions))\n",
    "\n",
    "\n",
    "lr_best_parameters = best_parameters\n",
    "lr_grid_search = grid_search"
   ]
  },
  {
   "cell_type": "code",
   "execution_count": 38,
   "id": "0373cc2a",
   "metadata": {},
   "outputs": [
    {
     "name": "stdout",
     "output_type": "stream",
     "text": [
      "Best score: 0.510\n",
      "Best parameters set:\n",
      "\tC: 1.0\n",
      "\tclass_weight: 'balanced'\n",
      "\tdual: False\n",
      "\tfit_intercept: True\n",
      "\tintercept_scaling: 1\n",
      "\tl1_ratio: None\n",
      "\tmax_iter: 100\n",
      "\tmulti_class: 'auto'\n",
      "\tn_jobs: None\n",
      "\tpenalty: 'l2'\n",
      "\trandom_state: None\n",
      "\tsolver: 'saga'\n",
      "\ttol: 0.0001\n",
      "\tverbose: 0\n",
      "\twarm_start: False\n",
      "              precision    recall  f1-score   support\n",
      "\n",
      "           0       0.99      0.82      0.90     98832\n",
      "           1       0.07      0.76      0.14      1850\n",
      "\n",
      "    accuracy                           0.82    100682\n",
      "   macro avg       0.53      0.79      0.52    100682\n",
      "weighted avg       0.98      0.82      0.89    100682\n",
      "\n"
     ]
    }
   ],
   "source": []
  },
  {
   "cell_type": "markdown",
   "id": "27db7726",
   "metadata": {},
   "source": [
    "## Подбор параметров LinearSVC"
   ]
  },
  {
   "cell_type": "code",
   "execution_count": 49,
   "id": "0735aeea",
   "metadata": {},
   "outputs": [
    {
     "name": "stdout",
     "output_type": "stream",
     "text": [
      "Fitting 5 folds for each of 11 candidates, totalling 55 fits\n"
     ]
    },
    {
     "name": "stderr",
     "output_type": "stream",
     "text": [
      "/home/ewp/.local/lib/python3.7/site-packages/sklearn/svm/_base.py:986: ConvergenceWarning: Liblinear failed to converge, increase the number of iterations.\n",
      "  \"the number of iterations.\", ConvergenceWarning)\n",
      "/home/ewp/.local/lib/python3.7/site-packages/sklearn/svm/_base.py:986: ConvergenceWarning: Liblinear failed to converge, increase the number of iterations.\n",
      "  \"the number of iterations.\", ConvergenceWarning)\n",
      "/home/ewp/.local/lib/python3.7/site-packages/sklearn/svm/_base.py:986: ConvergenceWarning: Liblinear failed to converge, increase the number of iterations.\n",
      "  \"the number of iterations.\", ConvergenceWarning)\n",
      "/home/ewp/.local/lib/python3.7/site-packages/sklearn/svm/_base.py:986: ConvergenceWarning: Liblinear failed to converge, increase the number of iterations.\n",
      "  \"the number of iterations.\", ConvergenceWarning)\n",
      "/home/ewp/.local/lib/python3.7/site-packages/sklearn/svm/_base.py:986: ConvergenceWarning: Liblinear failed to converge, increase the number of iterations.\n",
      "  \"the number of iterations.\", ConvergenceWarning)\n",
      "/home/ewp/.local/lib/python3.7/site-packages/sklearn/svm/_base.py:986: ConvergenceWarning: Liblinear failed to converge, increase the number of iterations.\n",
      "  \"the number of iterations.\", ConvergenceWarning)\n",
      "/home/ewp/.local/lib/python3.7/site-packages/sklearn/svm/_base.py:986: ConvergenceWarning: Liblinear failed to converge, increase the number of iterations.\n",
      "  \"the number of iterations.\", ConvergenceWarning)\n",
      "/home/ewp/.local/lib/python3.7/site-packages/sklearn/svm/_base.py:986: ConvergenceWarning: Liblinear failed to converge, increase the number of iterations.\n",
      "  \"the number of iterations.\", ConvergenceWarning)\n",
      "/home/ewp/.local/lib/python3.7/site-packages/sklearn/svm/_base.py:986: ConvergenceWarning: Liblinear failed to converge, increase the number of iterations.\n",
      "  \"the number of iterations.\", ConvergenceWarning)\n",
      "/home/ewp/.local/lib/python3.7/site-packages/sklearn/svm/_base.py:986: ConvergenceWarning: Liblinear failed to converge, increase the number of iterations.\n",
      "  \"the number of iterations.\", ConvergenceWarning)\n",
      "/home/ewp/.local/lib/python3.7/site-packages/sklearn/model_selection/_validation.py:619: FitFailedWarning: Estimator fit failed. The score on this train-test partition for these parameters will be set to nan. Details: \n",
      "Traceback (most recent call last):\n",
      "  File \"/home/ewp/.local/lib/python3.7/site-packages/sklearn/model_selection/_validation.py\", line 598, in _fit_and_score\n",
      "    estimator.fit(X_train, y_train, **fit_params)\n",
      "  File \"/home/ewp/.local/lib/python3.7/site-packages/sklearn/svm/_classes.py\", line 238, in fit\n",
      "    self.loss, sample_weight=sample_weight)\n",
      "  File \"/home/ewp/.local/lib/python3.7/site-packages/sklearn/svm/_base.py\", line 974, in _fit_liblinear\n",
      "    solver_type = _get_liblinear_solver_type(multi_class, penalty, loss, dual)\n",
      "  File \"/home/ewp/.local/lib/python3.7/site-packages/sklearn/svm/_base.py\", line 832, in _get_liblinear_solver_type\n",
      "    % (error_string, penalty, loss, dual))\n",
      "ValueError: Unsupported set of arguments: The combination of penalty='none' and loss='squared_hinge' is not supported, Parameters: penalty='none', loss='squared_hinge', dual=True\n",
      "\n",
      "  FitFailedWarning)\n",
      "/home/ewp/.local/lib/python3.7/site-packages/sklearn/model_selection/_validation.py:619: FitFailedWarning: Estimator fit failed. The score on this train-test partition for these parameters will be set to nan. Details: \n",
      "Traceback (most recent call last):\n",
      "  File \"/home/ewp/.local/lib/python3.7/site-packages/sklearn/model_selection/_validation.py\", line 598, in _fit_and_score\n",
      "    estimator.fit(X_train, y_train, **fit_params)\n",
      "  File \"/home/ewp/.local/lib/python3.7/site-packages/sklearn/svm/_classes.py\", line 238, in fit\n",
      "    self.loss, sample_weight=sample_weight)\n",
      "  File \"/home/ewp/.local/lib/python3.7/site-packages/sklearn/svm/_base.py\", line 974, in _fit_liblinear\n",
      "    solver_type = _get_liblinear_solver_type(multi_class, penalty, loss, dual)\n",
      "  File \"/home/ewp/.local/lib/python3.7/site-packages/sklearn/svm/_base.py\", line 832, in _get_liblinear_solver_type\n",
      "    % (error_string, penalty, loss, dual))\n",
      "ValueError: Unsupported set of arguments: The combination of penalty='none' and loss='squared_hinge' is not supported, Parameters: penalty='none', loss='squared_hinge', dual=True\n",
      "\n",
      "  FitFailedWarning)\n",
      "/home/ewp/.local/lib/python3.7/site-packages/sklearn/model_selection/_validation.py:619: FitFailedWarning: Estimator fit failed. The score on this train-test partition for these parameters will be set to nan. Details: \n",
      "Traceback (most recent call last):\n",
      "  File \"/home/ewp/.local/lib/python3.7/site-packages/sklearn/model_selection/_validation.py\", line 598, in _fit_and_score\n",
      "    estimator.fit(X_train, y_train, **fit_params)\n",
      "  File \"/home/ewp/.local/lib/python3.7/site-packages/sklearn/svm/_classes.py\", line 238, in fit\n",
      "    self.loss, sample_weight=sample_weight)\n",
      "  File \"/home/ewp/.local/lib/python3.7/site-packages/sklearn/svm/_base.py\", line 974, in _fit_liblinear\n",
      "    solver_type = _get_liblinear_solver_type(multi_class, penalty, loss, dual)\n",
      "  File \"/home/ewp/.local/lib/python3.7/site-packages/sklearn/svm/_base.py\", line 832, in _get_liblinear_solver_type\n",
      "    % (error_string, penalty, loss, dual))\n",
      "ValueError: Unsupported set of arguments: The combination of penalty='none' and loss='squared_hinge' is not supported, Parameters: penalty='none', loss='squared_hinge', dual=True\n",
      "\n",
      "  FitFailedWarning)\n",
      "/home/ewp/.local/lib/python3.7/site-packages/sklearn/model_selection/_validation.py:619: FitFailedWarning: Estimator fit failed. The score on this train-test partition for these parameters will be set to nan. Details: \n",
      "Traceback (most recent call last):\n",
      "  File \"/home/ewp/.local/lib/python3.7/site-packages/sklearn/model_selection/_validation.py\", line 598, in _fit_and_score\n",
      "    estimator.fit(X_train, y_train, **fit_params)\n",
      "  File \"/home/ewp/.local/lib/python3.7/site-packages/sklearn/svm/_classes.py\", line 238, in fit\n",
      "    self.loss, sample_weight=sample_weight)\n",
      "  File \"/home/ewp/.local/lib/python3.7/site-packages/sklearn/svm/_base.py\", line 974, in _fit_liblinear\n",
      "    solver_type = _get_liblinear_solver_type(multi_class, penalty, loss, dual)\n",
      "  File \"/home/ewp/.local/lib/python3.7/site-packages/sklearn/svm/_base.py\", line 832, in _get_liblinear_solver_type\n",
      "    % (error_string, penalty, loss, dual))\n",
      "ValueError: Unsupported set of arguments: The combination of penalty='none' and loss='squared_hinge' is not supported, Parameters: penalty='none', loss='squared_hinge', dual=True\n",
      "\n",
      "  FitFailedWarning)\n",
      "/home/ewp/.local/lib/python3.7/site-packages/sklearn/model_selection/_validation.py:619: FitFailedWarning: Estimator fit failed. The score on this train-test partition for these parameters will be set to nan. Details: \n",
      "Traceback (most recent call last):\n",
      "  File \"/home/ewp/.local/lib/python3.7/site-packages/sklearn/model_selection/_validation.py\", line 598, in _fit_and_score\n",
      "    estimator.fit(X_train, y_train, **fit_params)\n",
      "  File \"/home/ewp/.local/lib/python3.7/site-packages/sklearn/svm/_classes.py\", line 238, in fit\n",
      "    self.loss, sample_weight=sample_weight)\n",
      "  File \"/home/ewp/.local/lib/python3.7/site-packages/sklearn/svm/_base.py\", line 974, in _fit_liblinear\n",
      "    solver_type = _get_liblinear_solver_type(multi_class, penalty, loss, dual)\n",
      "  File \"/home/ewp/.local/lib/python3.7/site-packages/sklearn/svm/_base.py\", line 832, in _get_liblinear_solver_type\n",
      "    % (error_string, penalty, loss, dual))\n",
      "ValueError: Unsupported set of arguments: The combination of penalty='none' and loss='squared_hinge' is not supported, Parameters: penalty='none', loss='squared_hinge', dual=True\n",
      "\n",
      "  FitFailedWarning)\n",
      "/home/ewp/.local/lib/python3.7/site-packages/sklearn/model_selection/_validation.py:619: FitFailedWarning: Estimator fit failed. The score on this train-test partition for these parameters will be set to nan. Details: \n",
      "Traceback (most recent call last):\n",
      "  File \"/home/ewp/.local/lib/python3.7/site-packages/sklearn/model_selection/_validation.py\", line 598, in _fit_and_score\n",
      "    estimator.fit(X_train, y_train, **fit_params)\n",
      "  File \"/home/ewp/.local/lib/python3.7/site-packages/sklearn/svm/_classes.py\", line 238, in fit\n",
      "    self.loss, sample_weight=sample_weight)\n",
      "  File \"/home/ewp/.local/lib/python3.7/site-packages/sklearn/svm/_base.py\", line 974, in _fit_liblinear\n",
      "    solver_type = _get_liblinear_solver_type(multi_class, penalty, loss, dual)\n",
      "  File \"/home/ewp/.local/lib/python3.7/site-packages/sklearn/svm/_base.py\", line 832, in _get_liblinear_solver_type\n",
      "    % (error_string, penalty, loss, dual))\n",
      "ValueError: Unsupported set of arguments: The combination of penalty='elasticnet' and loss='squared_hinge' is not supported, Parameters: penalty='elasticnet', loss='squared_hinge', dual=True\n",
      "\n",
      "  FitFailedWarning)\n"
     ]
    },
    {
     "name": "stderr",
     "output_type": "stream",
     "text": [
      "/home/ewp/.local/lib/python3.7/site-packages/sklearn/model_selection/_validation.py:619: FitFailedWarning: Estimator fit failed. The score on this train-test partition for these parameters will be set to nan. Details: \n",
      "Traceback (most recent call last):\n",
      "  File \"/home/ewp/.local/lib/python3.7/site-packages/sklearn/model_selection/_validation.py\", line 598, in _fit_and_score\n",
      "    estimator.fit(X_train, y_train, **fit_params)\n",
      "  File \"/home/ewp/.local/lib/python3.7/site-packages/sklearn/svm/_classes.py\", line 238, in fit\n",
      "    self.loss, sample_weight=sample_weight)\n",
      "  File \"/home/ewp/.local/lib/python3.7/site-packages/sklearn/svm/_base.py\", line 974, in _fit_liblinear\n",
      "    solver_type = _get_liblinear_solver_type(multi_class, penalty, loss, dual)\n",
      "  File \"/home/ewp/.local/lib/python3.7/site-packages/sklearn/svm/_base.py\", line 832, in _get_liblinear_solver_type\n",
      "    % (error_string, penalty, loss, dual))\n",
      "ValueError: Unsupported set of arguments: The combination of penalty='elasticnet' and loss='squared_hinge' is not supported, Parameters: penalty='elasticnet', loss='squared_hinge', dual=True\n",
      "\n",
      "  FitFailedWarning)\n",
      "/home/ewp/.local/lib/python3.7/site-packages/sklearn/model_selection/_validation.py:619: FitFailedWarning: Estimator fit failed. The score on this train-test partition for these parameters will be set to nan. Details: \n",
      "Traceback (most recent call last):\n",
      "  File \"/home/ewp/.local/lib/python3.7/site-packages/sklearn/model_selection/_validation.py\", line 598, in _fit_and_score\n",
      "    estimator.fit(X_train, y_train, **fit_params)\n",
      "  File \"/home/ewp/.local/lib/python3.7/site-packages/sklearn/svm/_classes.py\", line 238, in fit\n",
      "    self.loss, sample_weight=sample_weight)\n",
      "  File \"/home/ewp/.local/lib/python3.7/site-packages/sklearn/svm/_base.py\", line 974, in _fit_liblinear\n",
      "    solver_type = _get_liblinear_solver_type(multi_class, penalty, loss, dual)\n",
      "  File \"/home/ewp/.local/lib/python3.7/site-packages/sklearn/svm/_base.py\", line 832, in _get_liblinear_solver_type\n",
      "    % (error_string, penalty, loss, dual))\n",
      "ValueError: Unsupported set of arguments: The combination of penalty='elasticnet' and loss='squared_hinge' is not supported, Parameters: penalty='elasticnet', loss='squared_hinge', dual=True\n",
      "\n",
      "  FitFailedWarning)\n",
      "/home/ewp/.local/lib/python3.7/site-packages/sklearn/model_selection/_validation.py:619: FitFailedWarning: Estimator fit failed. The score on this train-test partition for these parameters will be set to nan. Details: \n",
      "Traceback (most recent call last):\n",
      "  File \"/home/ewp/.local/lib/python3.7/site-packages/sklearn/model_selection/_validation.py\", line 598, in _fit_and_score\n",
      "    estimator.fit(X_train, y_train, **fit_params)\n",
      "  File \"/home/ewp/.local/lib/python3.7/site-packages/sklearn/svm/_classes.py\", line 238, in fit\n",
      "    self.loss, sample_weight=sample_weight)\n",
      "  File \"/home/ewp/.local/lib/python3.7/site-packages/sklearn/svm/_base.py\", line 974, in _fit_liblinear\n",
      "    solver_type = _get_liblinear_solver_type(multi_class, penalty, loss, dual)\n",
      "  File \"/home/ewp/.local/lib/python3.7/site-packages/sklearn/svm/_base.py\", line 832, in _get_liblinear_solver_type\n",
      "    % (error_string, penalty, loss, dual))\n",
      "ValueError: Unsupported set of arguments: The combination of penalty='elasticnet' and loss='squared_hinge' is not supported, Parameters: penalty='elasticnet', loss='squared_hinge', dual=True\n",
      "\n",
      "  FitFailedWarning)\n",
      "/home/ewp/.local/lib/python3.7/site-packages/sklearn/model_selection/_validation.py:619: FitFailedWarning: Estimator fit failed. The score on this train-test partition for these parameters will be set to nan. Details: \n",
      "Traceback (most recent call last):\n",
      "  File \"/home/ewp/.local/lib/python3.7/site-packages/sklearn/model_selection/_validation.py\", line 598, in _fit_and_score\n",
      "    estimator.fit(X_train, y_train, **fit_params)\n",
      "  File \"/home/ewp/.local/lib/python3.7/site-packages/sklearn/svm/_classes.py\", line 238, in fit\n",
      "    self.loss, sample_weight=sample_weight)\n",
      "  File \"/home/ewp/.local/lib/python3.7/site-packages/sklearn/svm/_base.py\", line 974, in _fit_liblinear\n",
      "    solver_type = _get_liblinear_solver_type(multi_class, penalty, loss, dual)\n",
      "  File \"/home/ewp/.local/lib/python3.7/site-packages/sklearn/svm/_base.py\", line 832, in _get_liblinear_solver_type\n",
      "    % (error_string, penalty, loss, dual))\n",
      "ValueError: Unsupported set of arguments: The combination of penalty='elasticnet' and loss='squared_hinge' is not supported, Parameters: penalty='elasticnet', loss='squared_hinge', dual=True\n",
      "\n",
      "  FitFailedWarning)\n",
      "/home/ewp/.local/lib/python3.7/site-packages/sklearn/model_selection/_validation.py:619: FitFailedWarning: Estimator fit failed. The score on this train-test partition for these parameters will be set to nan. Details: \n",
      "Traceback (most recent call last):\n",
      "  File \"/home/ewp/.local/lib/python3.7/site-packages/sklearn/model_selection/_validation.py\", line 598, in _fit_and_score\n",
      "    estimator.fit(X_train, y_train, **fit_params)\n",
      "  File \"/home/ewp/.local/lib/python3.7/site-packages/sklearn/svm/_classes.py\", line 238, in fit\n",
      "    self.loss, sample_weight=sample_weight)\n",
      "  File \"/home/ewp/.local/lib/python3.7/site-packages/sklearn/svm/_base.py\", line 974, in _fit_liblinear\n",
      "    solver_type = _get_liblinear_solver_type(multi_class, penalty, loss, dual)\n",
      "  File \"/home/ewp/.local/lib/python3.7/site-packages/sklearn/svm/_base.py\", line 832, in _get_liblinear_solver_type\n",
      "    % (error_string, penalty, loss, dual))\n",
      "ValueError: Unsupported set of arguments: The combination of penalty='l1' and loss='squared_hinge' are not supported when dual=True, Parameters: penalty='l1', loss='squared_hinge', dual=True\n",
      "\n",
      "  FitFailedWarning)\n",
      "/home/ewp/.local/lib/python3.7/site-packages/sklearn/model_selection/_validation.py:619: FitFailedWarning: Estimator fit failed. The score on this train-test partition for these parameters will be set to nan. Details: \n",
      "Traceback (most recent call last):\n",
      "  File \"/home/ewp/.local/lib/python3.7/site-packages/sklearn/model_selection/_validation.py\", line 598, in _fit_and_score\n",
      "    estimator.fit(X_train, y_train, **fit_params)\n",
      "  File \"/home/ewp/.local/lib/python3.7/site-packages/sklearn/svm/_classes.py\", line 238, in fit\n",
      "    self.loss, sample_weight=sample_weight)\n",
      "  File \"/home/ewp/.local/lib/python3.7/site-packages/sklearn/svm/_base.py\", line 974, in _fit_liblinear\n",
      "    solver_type = _get_liblinear_solver_type(multi_class, penalty, loss, dual)\n",
      "  File \"/home/ewp/.local/lib/python3.7/site-packages/sklearn/svm/_base.py\", line 832, in _get_liblinear_solver_type\n",
      "    % (error_string, penalty, loss, dual))\n",
      "ValueError: Unsupported set of arguments: The combination of penalty='l1' and loss='squared_hinge' are not supported when dual=True, Parameters: penalty='l1', loss='squared_hinge', dual=True\n",
      "\n",
      "  FitFailedWarning)\n",
      "/home/ewp/.local/lib/python3.7/site-packages/sklearn/model_selection/_validation.py:619: FitFailedWarning: Estimator fit failed. The score on this train-test partition for these parameters will be set to nan. Details: \n",
      "Traceback (most recent call last):\n",
      "  File \"/home/ewp/.local/lib/python3.7/site-packages/sklearn/model_selection/_validation.py\", line 598, in _fit_and_score\n",
      "    estimator.fit(X_train, y_train, **fit_params)\n",
      "  File \"/home/ewp/.local/lib/python3.7/site-packages/sklearn/svm/_classes.py\", line 238, in fit\n",
      "    self.loss, sample_weight=sample_weight)\n",
      "  File \"/home/ewp/.local/lib/python3.7/site-packages/sklearn/svm/_base.py\", line 974, in _fit_liblinear\n",
      "    solver_type = _get_liblinear_solver_type(multi_class, penalty, loss, dual)\n",
      "  File \"/home/ewp/.local/lib/python3.7/site-packages/sklearn/svm/_base.py\", line 832, in _get_liblinear_solver_type\n",
      "    % (error_string, penalty, loss, dual))\n",
      "ValueError: Unsupported set of arguments: The combination of penalty='l1' and loss='squared_hinge' are not supported when dual=True, Parameters: penalty='l1', loss='squared_hinge', dual=True\n",
      "\n",
      "  FitFailedWarning)\n",
      "/home/ewp/.local/lib/python3.7/site-packages/sklearn/model_selection/_validation.py:619: FitFailedWarning: Estimator fit failed. The score on this train-test partition for these parameters will be set to nan. Details: \n",
      "Traceback (most recent call last):\n",
      "  File \"/home/ewp/.local/lib/python3.7/site-packages/sklearn/model_selection/_validation.py\", line 598, in _fit_and_score\n",
      "    estimator.fit(X_train, y_train, **fit_params)\n",
      "  File \"/home/ewp/.local/lib/python3.7/site-packages/sklearn/svm/_classes.py\", line 238, in fit\n",
      "    self.loss, sample_weight=sample_weight)\n",
      "  File \"/home/ewp/.local/lib/python3.7/site-packages/sklearn/svm/_base.py\", line 974, in _fit_liblinear\n",
      "    solver_type = _get_liblinear_solver_type(multi_class, penalty, loss, dual)\n",
      "  File \"/home/ewp/.local/lib/python3.7/site-packages/sklearn/svm/_base.py\", line 832, in _get_liblinear_solver_type\n",
      "    % (error_string, penalty, loss, dual))\n",
      "ValueError: Unsupported set of arguments: The combination of penalty='l1' and loss='squared_hinge' are not supported when dual=True, Parameters: penalty='l1', loss='squared_hinge', dual=True\n",
      "\n",
      "  FitFailedWarning)\n"
     ]
    },
    {
     "name": "stderr",
     "output_type": "stream",
     "text": [
      "/home/ewp/.local/lib/python3.7/site-packages/sklearn/model_selection/_validation.py:619: FitFailedWarning: Estimator fit failed. The score on this train-test partition for these parameters will be set to nan. Details: \n",
      "Traceback (most recent call last):\n",
      "  File \"/home/ewp/.local/lib/python3.7/site-packages/sklearn/model_selection/_validation.py\", line 598, in _fit_and_score\n",
      "    estimator.fit(X_train, y_train, **fit_params)\n",
      "  File \"/home/ewp/.local/lib/python3.7/site-packages/sklearn/svm/_classes.py\", line 238, in fit\n",
      "    self.loss, sample_weight=sample_weight)\n",
      "  File \"/home/ewp/.local/lib/python3.7/site-packages/sklearn/svm/_base.py\", line 974, in _fit_liblinear\n",
      "    solver_type = _get_liblinear_solver_type(multi_class, penalty, loss, dual)\n",
      "  File \"/home/ewp/.local/lib/python3.7/site-packages/sklearn/svm/_base.py\", line 832, in _get_liblinear_solver_type\n",
      "    % (error_string, penalty, loss, dual))\n",
      "ValueError: Unsupported set of arguments: The combination of penalty='l1' and loss='squared_hinge' are not supported when dual=True, Parameters: penalty='l1', loss='squared_hinge', dual=True\n",
      "\n",
      "  FitFailedWarning)\n",
      "/home/ewp/.local/lib/python3.7/site-packages/sklearn/svm/_base.py:986: ConvergenceWarning: Liblinear failed to converge, increase the number of iterations.\n",
      "  \"the number of iterations.\", ConvergenceWarning)\n",
      "/home/ewp/.local/lib/python3.7/site-packages/sklearn/svm/_base.py:986: ConvergenceWarning: Liblinear failed to converge, increase the number of iterations.\n",
      "  \"the number of iterations.\", ConvergenceWarning)\n",
      "/home/ewp/.local/lib/python3.7/site-packages/sklearn/svm/_base.py:986: ConvergenceWarning: Liblinear failed to converge, increase the number of iterations.\n",
      "  \"the number of iterations.\", ConvergenceWarning)\n",
      "/home/ewp/.local/lib/python3.7/site-packages/sklearn/svm/_base.py:986: ConvergenceWarning: Liblinear failed to converge, increase the number of iterations.\n",
      "  \"the number of iterations.\", ConvergenceWarning)\n",
      "/home/ewp/.local/lib/python3.7/site-packages/sklearn/svm/_base.py:986: ConvergenceWarning: Liblinear failed to converge, increase the number of iterations.\n",
      "  \"the number of iterations.\", ConvergenceWarning)\n",
      "/home/ewp/.local/lib/python3.7/site-packages/sklearn/model_selection/_search.py:925: UserWarning: One or more of the test scores are non-finite: [0.49536499 0.49536499 0.49536499 0.49536499 0.49536499        nan\n",
      "        nan        nan 0.49536499 0.49536499 0.50840356]\n",
      "  category=UserWarning\n"
     ]
    },
    {
     "name": "stdout",
     "output_type": "stream",
     "text": [
      "Best score: 0.508\n",
      "Best parameters set:\n",
      "\tC: 1.0\n",
      "\tclass_weight: 'balanced'\n",
      "\tdual: True\n",
      "\tfit_intercept: True\n",
      "\tintercept_scaling: 1\n",
      "\tloss: 'squared_hinge'\n",
      "\tmax_iter: 1000\n",
      "\tmulti_class: 'ovr'\n",
      "\tpenalty: 'l2'\n",
      "\trandom_state: None\n",
      "\ttol: 0.0001\n",
      "\tverbose: 0\n",
      "              precision    recall  f1-score   support\n",
      "\n",
      "           0       0.99      0.81      0.89     98832\n",
      "           1       0.07      0.78      0.13      1850\n",
      "\n",
      "    accuracy                           0.81    100682\n",
      "   macro avg       0.53      0.79      0.51    100682\n",
      "weighted avg       0.98      0.81      0.88    100682\n",
      "\n"
     ]
    },
    {
     "name": "stderr",
     "output_type": "stream",
     "text": [
      "/home/ewp/.local/lib/python3.7/site-packages/sklearn/svm/_base.py:986: ConvergenceWarning: Liblinear failed to converge, increase the number of iterations.\n",
      "  \"the number of iterations.\", ConvergenceWarning)\n"
     ]
    }
   ],
   "source": [
    "lsvc = LinearSVC(max_iter=1000)\n",
    "\n",
    "parameters = [\n",
    "    {'C': [1, 10, 100]},\n",
    "    {'loss': ['squared_hinge', 'hinge']},\n",
    "    {'penalty':['none', 'elasticnet', 'l1', 'l2']},\n",
    "    {'class_weight': [None, 'balanced']}\n",
    " ]\n",
    "# {'C': 1.0,\n",
    "#  'class_weight': None,\n",
    "#  'dual': True,\n",
    "#  'fit_intercept': True,\n",
    "#  'intercept_scaling': 1,\n",
    "#  'loss': 'squared_hinge',\n",
    "#  'max_iter': 1000,\n",
    "#  'multi_class': 'ovr',\n",
    "#  'penalty': 'l2',\n",
    "#  'random_state': None,\n",
    "#  'tol': 0.0001,\n",
    "#  'verbose': 0}\n",
    "grid_search = GridSearchCV(estimator = lsvc,  \n",
    "                           param_grid = parameters,\n",
    "                           scoring = 'f1_macro',\n",
    "                           cv = 5,\n",
    "                           verbose=1)\n",
    "\n",
    "\n",
    "grid_search.fit(x_train, y_train)\n",
    "\n",
    "print('Best score: %0.3f' % grid_search.best_score_)\n",
    "print('Best parameters set:')\n",
    "\n",
    "best_parameters = grid_search.best_estimator_.get_params()\n",
    "for param_name in sorted(best_parameters.keys()):\n",
    "    print('\\t%s: %r' % (param_name, best_parameters[param_name]))\n",
    "\n",
    "predictions = grid_search.predict(x_test)\n",
    "print(classification_report(y_test, predictions))\n",
    "lsvc_best_parameters = best_parameters\n",
    "lsvc_grid_search = grid_search"
   ]
  },
  {
   "cell_type": "markdown",
   "id": "bb40615d",
   "metadata": {},
   "source": [
    "## Подбор параметров SVC"
   ]
  },
  {
   "cell_type": "code",
   "execution_count": null,
   "id": "8d3240d0",
   "metadata": {
    "scrolled": true
   },
   "outputs": [
    {
     "name": "stdout",
     "output_type": "stream",
     "text": [
      "Fitting 5 folds for each of 12 candidates, totalling 60 fits\n"
     ]
    }
   ],
   "source": [
    "svc = SVC(max_iter=5000, class_weight='balanced')\n",
    "\n",
    "parameters = [\n",
    "    {'C': [0.001, 0.01, 0.1, 1, 10]},\n",
    "    {'gamma' : [0.001, 0.01, 0.1, 1]},\n",
    "    {'kernel': ['poly', 'rbf', 'sigmoid']}\n",
    " ]\n",
    "\n",
    "grid_search = GridSearchCV(estimator = svc,  \n",
    "                           param_grid = parameters,\n",
    "                           scoring = 'f1_macro',\n",
    "                           cv = 5,\n",
    "                           verbose=1)\n",
    "\n",
    "\n",
    "grid_search.fit(x_train, y_train)\n",
    "\n",
    "print('Best score: %0.3f' % grid_search.best_score_)\n",
    "print('Best parameters set:')\n",
    "\n",
    "best_parameters = grid_search.best_estimator_.get_params()\n",
    "for param_name in sorted(best_parameters.keys()):\n",
    "    print('\\t%s: %r' % (param_name, best_parameters[param_name]))\n",
    "\n",
    "predictions = grid_search.predict(x_test)\n",
    "print(classification_report(y_test, predictions))\n",
    "lsvc_best_parameters = best_parameters\n",
    "lsvc_grid_search = grid_search"
   ]
  },
  {
   "cell_type": "markdown",
   "id": "a009f2a8",
   "metadata": {},
   "source": [
    "## Обучение лучшей модели"
   ]
  },
  {
   "cell_type": "code",
   "execution_count": 352,
   "id": "eb27f1fd",
   "metadata": {},
   "outputs": [
    {
     "data": {
      "text/plain": [
       "LogisticRegression(class_weight='balanced', n_jobs=2, random_state=42,\n",
       "                   solver='saga')"
      ]
     },
     "execution_count": 352,
     "metadata": {},
     "output_type": "execute_result"
    }
   ],
   "source": [
    "clf = LogisticRegression(C=1.0\n",
    "                        ,class_weight='balanced'\n",
    "                        ,dual=False\n",
    "                        ,fit_intercept=True\n",
    "                        ,intercept_scaling=1\n",
    "                        ,l1_ratio=None\n",
    "                        ,max_iter=100\n",
    "                        ,multi_class='auto'\n",
    "                        ,n_jobs=2\n",
    "                        ,penalty='l2'\n",
    "                        ,random_state=42\n",
    "                        ,solver='saga'\n",
    "                        ,tol=0.0001\n",
    "                        ,verbose=0\n",
    "                        ,warm_start=False)\n",
    "\n",
    "clf.fit(x_train, y_train)"
   ]
  },
  {
   "cell_type": "code",
   "execution_count": 353,
   "id": "6d76b0eb",
   "metadata": {},
   "outputs": [
    {
     "name": "stdout",
     "output_type": "stream",
     "text": [
      "              precision    recall  f1-score   support\n",
      "\n",
      "           0       0.99      0.76      0.86     98832\n",
      "           1       0.06      0.79      0.11      1850\n",
      "\n",
      "    accuracy                           0.76    100682\n",
      "   macro avg       0.53      0.77      0.48    100682\n",
      "weighted avg       0.98      0.76      0.85    100682\n",
      "\n"
     ]
    }
   ],
   "source": [
    "predictions = clf.predict(x_test)\n",
    "print(classification_report(y_test, predictions))"
   ]
  },
  {
   "cell_type": "code",
   "execution_count": 355,
   "id": "946addba",
   "metadata": {},
   "outputs": [
    {
     "data": {
      "text/plain": [
       "<sklearn.metrics._plot.confusion_matrix.ConfusionMatrixDisplay at 0x7fae3f7e3208>"
      ]
     },
     "execution_count": 355,
     "metadata": {},
     "output_type": "execute_result"
    },
    {
     "data": {
      "image/png": "[encoded data removed]",
      "text/plain": [
       "<Figure size 432x288 with 2 Axes>"
      ]
     },
     "metadata": {
      "needs_background": "light"
     },
     "output_type": "display_data"
    }
   ],
   "source": [
    "plot_confusion_matrix(clf, x_test, y_test, normalize='true')"
   ]
  },
  {
   "cell_type": "code",
   "execution_count": 356,
   "id": "a03706aa",
   "metadata": {
    "scrolled": true
   },
   "outputs": [
    {
     "name": "stdout",
     "output_type": "stream",
     "text": [
      "LogisticRegression: ROC AUC=0.862\n"
     ]
    },
    {
     "data": {
      "image/png": "[encoded data removed]",
      "text/plain": [
       "<Figure size 432x288 with 1 Axes>"
      ]
     },
     "metadata": {
      "needs_background": "light"
     },
     "output_type": "display_data"
    }
   ],
   "source": [
    "lr_probs = clf.predict_proba(x_test)[:, 1]\n",
    "testy = y_test\n",
    "\n",
    "lr_auc = roc_auc_score(testy, lr_probs)\n",
    "print('LogisticRegression: ROC AUC=%.3f' % (lr_auc))\n",
    "\n",
    "# рассчитываем roc-кривую\n",
    "fpr, tpr, treshold = roc_curve(testy, lr_probs)\n",
    "roc_auc = auc(fpr, tpr)\n",
    "\n",
    "# строим график\n",
    "plt.plot(fpr, tpr, color='darkorange',\n",
    "         label='ROC кривая (area = %0.2f)' % roc_auc)\n",
    "plt.plot([0, 1], [0, 1], color='navy', linestyle='--')\n",
    "plt.xlim([0.0, 1.0])\n",
    "plt.ylim([0.0, 1.05])\n",
    "plt.xlabel('False Positive Rate')\n",
    "plt.ylabel('True Positive Rate')\n",
    "plt.title('ROC-кривая LR')\n",
    "plt.legend(loc=\"lower right\")\n",
    "plt.show()"
   ]
  },
  {
   "cell_type": "code",
   "execution_count": 357,
   "id": "d39ea7a9",
   "metadata": {},
   "outputs": [
    {
     "data": {
      "image/png": "[encoded data removed]",
      "text/plain": [
       "<Figure size 576x576 with 1 Axes>"
      ]
     },
     "metadata": {
      "needs_background": "light"
     },
     "output_type": "display_data"
    }
   ],
   "source": [
    "#строим precision-recall кривую\n",
    "precision, recall, thresholds = precision_recall_curve(testy, lr_probs)\n",
    "\n",
    "def plot_precision_recall_vs_threshold(precisions, recalls, thresholds):\n",
    "    \"\"\"\n",
    "    Modified from:\n",
    "    Hands-On Machine learning with Scikit-Learn\n",
    "    and TensorFlow; p.89\n",
    "    \"\"\"\n",
    "    plt.figure(figsize=(8, 8))\n",
    "    plt.title(\"Precision and Recall Scores as a function of the decision threshold\")\n",
    "    plt.plot(thresholds, precisions[:-1], \"b--\", label=\"Precision\")\n",
    "    plt.plot(thresholds, recalls[:-1], \"g-\", label=\"Recall\")\n",
    "    plt.ylabel(\"Score\")\n",
    "    plt.xlabel(\"Decision Threshold\")\n",
    "    plt.legend(loc='best')\n",
    "    \n",
    "plot_precision_recall_vs_threshold(precision, recall, thresholds)"
   ]
  },
  {
   "cell_type": "code",
   "execution_count": 360,
   "id": "51314130",
   "metadata": {},
   "outputs": [
    {
     "name": "stdout",
     "output_type": "stream",
     "text": [
      "              precision    recall  f1-score   support\n",
      "\n",
      "           0       1.00      0.64      0.78     98832\n",
      "           1       0.04      0.87      0.08      1850\n",
      "\n",
      "    accuracy                           0.65    100682\n",
      "   macro avg       0.52      0.75      0.43    100682\n",
      "weighted avg       0.98      0.65      0.77    100682\n",
      "\n"
     ]
    },
    {
     "data": {
      "text/plain": [
       "<matplotlib.axes._subplots.AxesSubplot at 0x7fae3dd53278>"
      ]
     },
     "execution_count": 360,
     "metadata": {},
     "output_type": "execute_result"
    },
    {
     "data": {
      "image/png": "[encoded data removed]",
      "text/plain": [
       "<Figure size 432x288 with 2 Axes>"
      ]
     },
     "metadata": {
      "needs_background": "light"
     },
     "output_type": "display_data"
    }
   ],
   "source": [
    "lr_probs = clf.predict_proba(x_test)[:, 1]\n",
    "\n",
    "\n",
    "\n",
    "tresh = 0.4\n",
    "preds_tresh = [1 if x > tresh else 0 for x in lr_probs]\n",
    "\n",
    "print(classification_report(y_test, preds_tresh))\n",
    "\n",
    "matrix = confusion_matrix(y_test, preds_tresh, normalize='true')\n",
    "ax = plt.subplot()\n",
    "sns.heatmap(matrix, annot=True, fmt='g', ax=ax)"
   ]
  },
  {
   "cell_type": "markdown",
   "id": "d6110aab",
   "metadata": {},
   "source": [
    "## Выводы"
   ]
  },
  {
   "cell_type": "markdown",
   "id": "fdd2852b",
   "metadata": {},
   "source": [
    "В зависимости от выбранного порога можно регулировать precision и recall по классу 1<br>\n",
    "Таким образом можно менять результаты работы в зависимости от того, что важнее заказчику:<br>\n",
    "    - получить все дубли и дополнительно ошибочные пары<br>\n",
    "    - получить только дубли, но с высокой вероятностью пропустить какие-то пары\n",
    "    \n",
    "Провели эксперименты с очисткой данных: удаление стоп-слов и наименований стран. Результат оказался хуже."
   ]
  }
 ],
 "metadata": {
  "kernelspec": {
   "display_name": "Python 3",
   "language": "python",
   "name": "python3"
  },
  "language_info": {
   "codemirror_mode": {
    "name": "ipython",
    "version": 3
   },
   "file_extension": ".py",
   "mimetype": "text/x-python",
   "name": "python",
   "nbconvert_exporter": "python",
   "pygments_lexer": "ipython3",
   "version": "3.7.3"
  }
 },
 "nbformat": 4,
 "nbformat_minor": 5
}
