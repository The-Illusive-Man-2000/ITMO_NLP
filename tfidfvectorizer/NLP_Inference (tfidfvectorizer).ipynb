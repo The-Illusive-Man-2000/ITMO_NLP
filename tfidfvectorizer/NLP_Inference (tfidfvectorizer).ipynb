{
 "cells": [
  {
   "cell_type": "code",
   "execution_count": 1,
   "id": "1e9cb1a6",
   "metadata": {},
   "outputs": [],
   "source": [
    "import re\n",
    "import pickle\n",
    "from heapq import nlargest\n",
    "import time\n",
    "\n",
    "import pandas as pd\n",
    "import numpy as np\n",
    "\n",
    "import nltk\n",
    "from nltk.stem import WordNetLemmatizer \n",
    "from nltk.corpus import stopwords\n",
    "\n",
    "from sklearn.feature_extraction.text import CountVectorizer, TfidfVectorizer\n",
    "from sklearn.metrics.pairwise import cosine_similarity\n",
    "\n",
    "import session_info"
   ]
  },
  {
   "cell_type": "code",
   "execution_count": 2,
   "id": "1c8f4880",
   "metadata": {},
   "outputs": [
    {
     "data": {
      "text/html": [
       "<details>\n",
       "<summary>Click to view session information</summary>\n",
       "<pre>\n",
       "-----\n",
       "nltk                3.6.2\n",
       "numpy               1.21.5\n",
       "pandas              1.4.2\n",
       "session_info        1.0.0\n",
       "sklearn             1.0.2\n",
       "-----\n",
       "</pre>\n",
       "<details>\n",
       "<summary>Click to view modules imported as dependencies</summary>\n",
       "<pre>\n",
       "asttokens                   NA\n",
       "backcall                    0.2.0\n",
       "beta_ufunc                  NA\n",
       "binom_ufunc                 NA\n",
       "bottleneck                  1.3.4\n",
       "cloudpickle                 2.0.0\n",
       "colorama                    0.4.4\n",
       "cython_runtime              NA\n",
       "dateutil                    2.8.2\n",
       "debugpy                     1.5.1\n",
       "decorator                   5.1.1\n",
       "entrypoints                 0.4\n",
       "executing                   0.8.3\n",
       "google                      NA\n",
       "importlib_metadata          NA\n",
       "ipykernel                   6.9.1\n",
       "ipython_genutils            0.2.0\n",
       "jedi                        0.18.1\n",
       "joblib                      1.1.0\n",
       "mkl                         2.4.0\n",
       "mpl_toolkits                NA\n",
       "nbinom_ufunc                NA\n",
       "nt                          NA\n",
       "ntsecuritycon               NA\n",
       "numexpr                     2.8.1\n",
       "packaging                   20.9\n",
       "parso                       0.8.3\n",
       "pickleshare                 0.7.5\n",
       "pkg_resources               NA\n",
       "prompt_toolkit              3.0.20\n",
       "psutil                      5.8.0\n",
       "pure_eval                   0.2.2\n",
       "pyarrow                     3.0.0\n",
       "pydev_ipython               NA\n",
       "pydevconsole                NA\n",
       "pydevd                      2.6.0\n",
       "pydevd_concurrency_analyser NA\n",
       "pydevd_file_utils           NA\n",
       "pydevd_plugins              NA\n",
       "pydevd_tracing              NA\n",
       "pygments                    2.11.2\n",
       "pythoncom                   NA\n",
       "pytz                        2021.3\n",
       "pywintypes                  NA\n",
       "regex                       2.5.112\n",
       "scipy                       1.7.3\n",
       "setuptools                  61.2.0\n",
       "six                         1.16.0\n",
       "stack_data                  0.2.0\n",
       "threadpoolctl               2.2.0\n",
       "tornado                     6.1\n",
       "traitlets                   5.1.1\n",
       "typing_extensions           NA\n",
       "wcwidth                     0.2.5\n",
       "win32api                    NA\n",
       "win32com                    NA\n",
       "win32security               NA\n",
       "zipp                        NA\n",
       "zmq                         22.3.0\n",
       "</pre>\n",
       "</details> <!-- seems like this ends pre, so might as well be explicit -->\n",
       "<pre>\n",
       "-----\n",
       "IPython             8.2.0\n",
       "jupyter_client      7.2.2\n",
       "jupyter_core        4.9.2\n",
       "jupyterlab          2.2.6\n",
       "notebook            6.1.6\n",
       "-----\n",
       "Python 3.8.5 (default, Sep  3 2020, 21:29:08) [MSC v.1916 64 bit (AMD64)]\n",
       "Windows-10-10.0.10586-SP0\n",
       "-----\n",
       "Session information updated at 2022-10-26 23:50\n",
       "</pre>\n",
       "</details>"
      ],
      "text/plain": [
       "<IPython.core.display.HTML object>"
      ]
     },
     "execution_count": 2,
     "metadata": {},
     "output_type": "execute_result"
    }
   ],
   "source": [
    "# Посмотрим версии используемых модулей.\n",
    "session_info.show()"
   ]
  },
  {
   "cell_type": "code",
   "execution_count": 3,
   "id": "ba041cf3",
   "metadata": {},
   "outputs": [],
   "source": [
    "# Загрузим ранее сохранённые уникальные навазния компаний.\n",
    "text_unic = pickle.load(open('companies_name_unic.pickle','rb'))\n",
    "\n",
    "# Загрузим ранее сохранённый tfidfvectorizer.\n",
    "my_vectorizer = pickle.load(open('vectorizer_2.pickle','rb'))\n",
    "\n",
    "def sentence_embedding_fl(string, vectorizer):\n",
    "    tf_vectorizer = vectorizer\n",
    "    sentence_list = [tf_vectorizer.transform([word]).toarray() for word in string.split()]\n",
    "        \n",
    "    result = np.sum(np.array(sentence_list), axis=0)\n",
    "    if len(result.shape) == 0:\n",
    "        result = np.zeros((1,9776))\n",
    "    \n",
    "    return result"
   ]
  },
  {
   "cell_type": "code",
   "execution_count": 4,
   "id": "ad49bb53",
   "metadata": {},
   "outputs": [],
   "source": [
    "# Загрузим ранее сохранённые эмбеддинги для названий компаний.\n",
    "name_embeddings = pickle.load(open('name_embeddings.pickle','rb'))"
   ]
  },
  {
   "cell_type": "code",
   "execution_count": 5,
   "id": "98d3d23c",
   "metadata": {},
   "outputs": [],
   "source": [
    "# Топ для вывода и порог для косинусного сходства.\n",
    "top = 5\n",
    "treshold_for_cosine_similarity = 0.5\n",
    "\n",
    "# Функция для поиска топ 5 схожих названий и их вывода.\n",
    "def find_top5(text, top, treshold):\n",
    "    \n",
    "    # Получим эмбеддинг текста\n",
    "    text_vector = sentence_embedding_fl(text, my_vectorizer)\n",
    "    \n",
    "    # Вычислим косинусное сходство \n",
    "    cosine_similarity_list = [cosine_similarity( text_vector, sentence_vector)[0] for sentence_vector in name_embeddings ]\n",
    "    \n",
    "    # Ищем схожие названия\n",
    "    company_names = []\n",
    "    maximums = nlargest(top, cosine_similarity_list)\n",
    "    maximums_treshold = [max for max in maximums if max >= treshold ]\n",
    "    if len(maximums_treshold) > 0:\n",
    "            indexes_set = set()\n",
    "            for maximum in maximums_treshold:\n",
    "                indexes = list(np.where(np.array(cosine_similarity_list) == maximum)[0])\n",
    "                for index in indexes:\n",
    "                    if index not in indexes_set:\n",
    "                        indexes_set.add(index)\n",
    "                        company_names.append(text_unic[index])\n",
    "\n",
    "    if len(company_names) < top:\n",
    "        result = company_names\n",
    "    else:\n",
    "        result = company_names[:top]\n",
    "        \n",
    "    \n",
    "    print(\"Косинусное сходство \", [round(float(element),3) for element in maximums])\n",
    "    print()\n",
    "\n",
    "    if len(result) > 0:\n",
    "        for name in result:\n",
    "            print(name)\n",
    "    else:\n",
    "        print('Похожих названий, превышающих порог ',treshold, \" не обнаружено.\" )\n",
    "        \n",
    "        \n",
    "        \n",
    "# Второй вариант функции, добавленный для работы с функцией main()        \n",
    "def find_top(text, top, treshold):\n",
    "    \n",
    "    # Получим эмбеддинг текста\n",
    "    text_vector = sentence_embedding_fl(text, my_vectorizer)\n",
    "    \n",
    "    # Вычислим косинусное сходство \n",
    "    cosine_similarity_list = [cosine_similarity( text_vector, sentence_vector)[0] for sentence_vector in name_embeddings ]\n",
    "    \n",
    "    # Ищем схожие названия\n",
    "    company_names = []\n",
    "    maximums = nlargest(top, cosine_similarity_list)\n",
    "    maximums_treshold = [max for max in maximums if max >= treshold ]\n",
    "    if len(maximums_treshold) > 0:\n",
    "            indexes_set = set()\n",
    "            for maximum in maximums_treshold:\n",
    "                indexes = list(np.where(np.array(cosine_similarity_list) == maximum)[0])\n",
    "                for index in indexes:\n",
    "                    if index not in indexes_set:\n",
    "                        indexes_set.add(index)\n",
    "                        company_names.append(text_unic[index])\n",
    "\n",
    "    if len(company_names) < top:\n",
    "        result = company_names\n",
    "    else:\n",
    "        result = company_names[:top]\n",
    "    \n",
    "    return result"
   ]
  },
  {
   "cell_type": "code",
   "execution_count": 6,
   "id": "afc703de",
   "metadata": {},
   "outputs": [
    {
     "name": "stdout",
     "output_type": "stream",
     "text": [
      "Косинусное сходство  [0.447, 0.447, 0.447, 0.355, 0.316]\n",
      "\n",
      "Похожих названий, превышающих порог  0.5  не обнаружено.\n",
      "\n",
      "Время обработки поиска =  12.123\n"
     ]
    }
   ],
   "source": [
    "# Время начала обработки поиска. \n",
    "start_time = time.time()\n",
    "\n",
    "# Тестовый текст 1. Сначала возьмём порог 0.5 для косинусного сходства.\n",
    "my_test_text_1 = 'Darth Vader is a great Sith Lord'\n",
    "\n",
    "# Найдем схожие названия\n",
    "find_top5(my_test_text_1, top, treshold_for_cosine_similarity)\n",
    "\n",
    "# Время окончания обработки поиска.\n",
    "end_time = time.time()\n",
    "\n",
    "print()\n",
    "print(\"Время обработки поиска = \", round(end_time-start_time, 3))"
   ]
  },
  {
   "cell_type": "code",
   "execution_count": 7,
   "id": "690c0398",
   "metadata": {},
   "outputs": [],
   "source": [
    "# Видим, что ничего не найдено, так косинусное сходство меньше порога."
   ]
  },
  {
   "cell_type": "code",
   "execution_count": 8,
   "id": "d012cc5a",
   "metadata": {},
   "outputs": [
    {
     "name": "stdout",
     "output_type": "stream",
     "text": [
      "Косинусное сходство  [0.447, 0.447, 0.447, 0.355, 0.316]\n",
      "\n",
      "Lord Industrial Ltda\n",
      "Lord India Pvt., Ltd.\n",
      "Jm Lord International Llc\n",
      "Greatech Philippines Inc.\n",
      "Great Sports Infra Pvt., Ltd.\n",
      "\n",
      "Время обработки поиска =  11.422\n"
     ]
    }
   ],
   "source": [
    "# Время начала обработки поиска. \n",
    "start_time = time.time()\n",
    "\n",
    "treshold_for_cosine_similarity = 0.3\n",
    "\n",
    "# Тестовый текст 1. Теперь будем использовать порог 0.3.\n",
    "my_test_text_1 = 'Darth Vader is a great Sith Lord'\n",
    "\n",
    "find_top5(my_test_text_1, top, treshold_for_cosine_similarity)\n",
    "\n",
    "# Время окончания обработки поиска.\n",
    "end_time = time.time()\n",
    "\n",
    "print()\n",
    "print(\"Время обработки поиска = \", round(end_time-start_time, 3))"
   ]
  },
  {
   "cell_type": "code",
   "execution_count": 9,
   "id": "8aee9ace",
   "metadata": {},
   "outputs": [],
   "source": [
    "# Видим, что к непохожему на название компании тексту нашлись названия, где фигурируют похожие слова \"Lord\" и \"Great\"."
   ]
  },
  {
   "cell_type": "code",
   "execution_count": 10,
   "id": "2b2a2ecb",
   "metadata": {},
   "outputs": [
    {
     "name": "stdout",
     "output_type": "stream",
     "text": [
      "Косинусное сходство  [0.816, 0.577, 0.577, 0.577, 0.577]\n",
      "\n",
      "Powermax Rubber Factory\n",
      "B G N Rubber Factory\n",
      "Western Rubbers India Pvt., Ltd.\n",
      "K.S. Rubbers\n",
      "Imp. Rubbers International Llc\n",
      "\n",
      "Время обработки поиска =  10.677\n"
     ]
    }
   ],
   "source": [
    "# Время начала обработки поиска. \n",
    "start_time = time.time()\n",
    "\n",
    "# Теперь попробуем текст, который был в датасете.\n",
    "my_test_text_2 = 'Powermax Rubber Factory'\n",
    "\n",
    "find_top5(my_test_text_2, top, treshold_for_cosine_similarity)\n",
    "\n",
    "# Время окончания обработки поиска.\n",
    "end_time = time.time()\n",
    "\n",
    "print()\n",
    "print(\"Время обработки поиска = \", round(end_time-start_time, 3))"
   ]
  },
  {
   "cell_type": "code",
   "execution_count": 11,
   "id": "0dc39b50",
   "metadata": {},
   "outputs": [],
   "source": [
    "# Видим что на первом месте исходный текст (не удивительно), а дальше тексты с похожими словами. "
   ]
  },
  {
   "cell_type": "code",
   "execution_count": 12,
   "id": "62151ee0",
   "metadata": {},
   "outputs": [
    {
     "name": "stdout",
     "output_type": "stream",
     "text": [
      "Косинусное сходство  [0.494, 0.45, 0.408, 0.408, 0.408]\n",
      "\n",
      "Honeywell Aerospace Systems Laboratory Co. S. De .R.L. De C.V.\n",
      "Aerocosta Global Systems Inc.\n",
      "Craft Colombia Sas\n",
      "Mx Systems International P Ltd.\n",
      "Craft Argentina S.A.\n",
      "\n",
      "Время обработки поиска =  10.659\n"
     ]
    }
   ],
   "source": [
    "# Время начала обработки поиска. \n",
    "start_time = time.time()\n",
    "\n",
    "# Теперь попробуем текст, не был в датасете, но похож, на то, что был там.\n",
    "# Оригинал: Honeywell Aerospace Systems Laboratory Co. S. De .R.L. De C.V.\n",
    "# Изменённый вариант\n",
    "my_test_text_3 = 'Well Aero System Lab Industrial Craft'\n",
    "\n",
    "find_top5(my_test_text_3, top, treshold_for_cosine_similarity)\n",
    "\n",
    "# Время окончания обработки поиска.\n",
    "end_time = time.time()\n",
    "\n",
    "print()\n",
    "print(\"Время обработки поиска = \", round(end_time-start_time, 3))"
   ]
  },
  {
   "cell_type": "code",
   "execution_count": 13,
   "id": "79fadfe0",
   "metadata": {},
   "outputs": [],
   "source": [
    "# Видим что на первом месте текст, который был изменён а дальше тексты с похожими словами. "
   ]
  },
  {
   "cell_type": "code",
   "execution_count": 14,
   "id": "cc2eeb25",
   "metadata": {},
   "outputs": [],
   "source": [
    "# Время поиска и вывода похожих названий около 11 секунд. Долго потому что каждый раз поиск запускается для 18022 эмбеддингов."
   ]
  },
  {
   "cell_type": "code",
   "execution_count": 15,
   "id": "2e098b9e",
   "metadata": {},
   "outputs": [],
   "source": [
    "# Функция позволит вводить строку для поиска с клавиатуры.\n",
    "def main():\n",
    "    while True:\n",
    "        comp_name = input(\"Введите название компании:\\n\\n\").rstrip()\n",
    "        if comp_name == \"exit\":\n",
    "            break\n",
    "        k = 10\n",
    "        \n",
    "        start_time = time.time()\n",
    "        \n",
    "        try:\n",
    "            top_comp = find_top(comp_name, k, treshold_for_cosine_similarity) \n",
    "        except ValueError:\n",
    "            print (\"Похожих компаний нет в списке или введены кракозябры\\n\\n\")\n",
    "            continue\n",
    "        print (f\"Топ {k} похожих компаний:\\n\\n\")\n",
    "        for i, comp in enumerate(top_comp):\n",
    "            print (f\"{i + 1}: {comp}\")\n",
    "        print(\"\\n\")\n",
    "        \n",
    "        end_time = time.time()\n",
    "\n",
    "        print(\"Время обработки поиска = \", round(end_time-start_time, 3))\n",
    "        print()"
   ]
  },
  {
   "cell_type": "code",
   "execution_count": 16,
   "id": "9916cb69",
   "metadata": {},
   "outputs": [
    {
     "name": "stdout",
     "output_type": "stream",
     "text": [
      "Введите название компании:\n",
      "\n",
      "Golden Steel Industrie\n",
      "Топ 10 похожих компаний:\n",
      "\n",
      "\n",
      "1: Golden Trading Ltd.\n",
      "2: Golden International Group\n",
      "3: Qingdao Kingdom Plastic&Steel Co. L\n",
      "4: Emirates Steel Industries\n",
      "5: Qatar Steel Co.\n",
      "6: PR INDUSTRIE\n",
      "7: Golden Wheel Industrial Mfg. Corp\n",
      "8: M Industria S.A De C.V.\n",
      "9: P.R.INDUSTRIE Produits Routiers Industrie\n",
      "10: Industrias Japan S.A.\n",
      "\n",
      "\n",
      "Время обработки поиска =  10.676\n",
      "\n",
      "Введите название компании:\n",
      "\n",
      "Black Water Company\n",
      "Топ 10 похожих компаний:\n",
      "\n",
      "\n",
      "1: Black Rubber India\n",
      "2: International Rubber Company\n",
      "3: International Rubber Company LLC\n",
      "4: Zhengzhou Water Supply Engineering Company\n",
      "5: Ltd. Liability Companywater\n",
      "6: New Materials Co., Ltd. Huizhou City Water\n",
      "7: The Garland Company, Inc.\n",
      "8: Sewing Co., Ltd. Qingdao Water\n",
      "9: The Walking Company\n",
      "10: Double E Company LLC\n",
      "\n",
      "\n",
      "Время обработки поиска =  10.73\n",
      "\n",
      "Введите название компании:\n",
      "\n",
      "exit\n"
     ]
    }
   ],
   "source": [
    "# После ввода текста приходится ждать около 10 секунд.\n",
    "main()"
   ]
  },
  {
   "cell_type": "code",
   "execution_count": null,
   "id": "229d9d80",
   "metadata": {},
   "outputs": [],
   "source": []
  }
 ],
 "metadata": {
  "kernelspec": {
   "display_name": "Python 3 (ipykernel)",
   "language": "python",
   "name": "python3"
  },
  "language_info": {
   "codemirror_mode": {
    "name": "ipython",
    "version": 3
   },
   "file_extension": ".py",
   "mimetype": "text/x-python",
   "name": "python",
   "nbconvert_exporter": "python",
   "pygments_lexer": "ipython3",
   "version": "3.8.5"
  }
 },
 "nbformat": 4,
 "nbformat_minor": 5
}
