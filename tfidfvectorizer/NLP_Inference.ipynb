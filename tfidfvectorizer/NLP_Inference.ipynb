{
 "cells": [
  {
   "cell_type": "code",
   "execution_count": 1,
   "id": "6b6970e7",
   "metadata": {},
   "outputs": [],
   "source": [
    "import pandas as pd\n",
    "import numpy as np\n",
    "import nltk\n",
    "from nltk.stem import WordNetLemmatizer \n",
    "from nltk.corpus import stopwords\n",
    "import re\n",
    "from sklearn.feature_extraction.text import CountVectorizer, TfidfVectorizer\n",
    "from sklearn.metrics.pairwise import cosine_similarity,cosine_distances\n",
    "import pickle\n",
    "from heapq import nlargest"
   ]
  },
  {
   "cell_type": "code",
   "execution_count": 2,
   "id": "b0d08e79",
   "metadata": {},
   "outputs": [],
   "source": [
    "# Загрузим ранее сохранённые уникальные навазния компаний.\n",
    "\n",
    "text_unic = pickle.load(open('companies_name_unic.pickle','rb'))\n",
    "\n",
    "\n",
    "# Загрузим ранее сохранённый tfidfvectorizer.\n",
    "my_vectorizer = pickle.load(open('vectorizer_2.pickle','rb'))\n",
    "\n",
    "def sentence_embedding_fl(string, vectorizer):\n",
    "    tf_vectorizer = vectorizer\n",
    "    sentence_list = [tf_vectorizer.transform([word]).toarray() for word in string.split()]\n",
    "        \n",
    "    result = np.sum(np.array(sentence_list), axis=0)\n",
    "    if len(result.shape) == 0:\n",
    "        result = np.zeros((1,9776))\n",
    "    \n",
    "    return result"
   ]
  },
  {
   "cell_type": "code",
   "execution_count": 3,
   "id": "0b792bd8",
   "metadata": {},
   "outputs": [],
   "source": [
    "# Загрузим ранее сохранённые эмбеддинги для названий компаний.\n",
    "name_embeddings = pickle.load(open('name_embeddings.pickle','rb'))"
   ]
  },
  {
   "cell_type": "code",
   "execution_count": 4,
   "id": "38016358",
   "metadata": {},
   "outputs": [],
   "source": [
    "# Тестовый текст 1\n",
    "\n",
    "my_test_text_1 = 'Darth Vader is a great Sith Lord'\n",
    "\n",
    "# Получим эмбеддинг тестового текста\n",
    "text_vector = sentence_embedding_fl(my_test_text_1, my_vectorizer)"
   ]
  },
  {
   "cell_type": "code",
   "execution_count": 5,
   "id": "9207d8f1",
   "metadata": {},
   "outputs": [],
   "source": [
    "# Вычислим косинусное сходство между тестовым текстом и навзаниями компаний.\n",
    "cosine_similarity_list = [cosine_similarity( text_vector, sentence_vector)[0] for sentence_vector in name_embeddings ]"
   ]
  },
  {
   "cell_type": "code",
   "execution_count": 6,
   "id": "3609f3c1",
   "metadata": {},
   "outputs": [
    {
     "name": "stdout",
     "output_type": "stream",
     "text": [
      "Lord Industrial Ltda\n",
      "Lord India Pvt., Ltd.\n",
      "Jm Lord International Llc\n",
      "Greatech Philippines Inc.\n",
      "Great Sports Infra Pvt., Ltd.\n"
     ]
    }
   ],
   "source": [
    "top = 5\n",
    "\n",
    "# Функция для поиска топ 5 схожих названий.\n",
    "def find_top5(similarity_list, top):\n",
    "    company_names = []\n",
    "    maximums = nlargest(top, similarity_list)\n",
    "    indexes_set = set()\n",
    "    for maximum in maximums:\n",
    "        indexes = list(np.where(np.array(similarity_list) == maximum)[0])\n",
    "        for index in indexes:\n",
    "            if index not in indexes_set:\n",
    "                indexes_set.add(index)\n",
    "                company_names.append(text_unic[index])\n",
    "                \n",
    "    return  company_names                   \n",
    "\n",
    "\n",
    "names = find_top5(cosine_similarity_list, top)\n",
    "N = len(names)\n",
    "\n",
    "# Так как одно косинусное сходство может быть у нескольких элементов, то список может быть больше 5.\n",
    "# Поэтому будем выводить все похожие названия, если найдено меньше 5 и только 5, если больше.\n",
    "if N<=5:\n",
    "    for name in names:\n",
    "        print(name)\n",
    "else:\n",
    "    for name in names[:5]:\n",
    "        print(name)"
   ]
  },
  {
   "cell_type": "code",
   "execution_count": null,
   "id": "1e1686e7",
   "metadata": {},
   "outputs": [],
   "source": [
    "# Видим, что к непохожему на название компании тексту нашлись названия, где фигурируют похожие слова \"Lord\" и \"Great\"."
   ]
  },
  {
   "cell_type": "code",
   "execution_count": 7,
   "id": "c997eadf",
   "metadata": {},
   "outputs": [
    {
     "name": "stdout",
     "output_type": "stream",
     "text": [
      "Powermax Rubber Factory\n",
      "B G N Rubber Factory\n",
      "Western Rubbers India Pvt., Ltd.\n",
      "K.S. Rubbers\n",
      "Imp. Rubbers International Llc\n"
     ]
    }
   ],
   "source": [
    "# Теперь попробуем текст, который был в датасете.\n",
    "\n",
    "\n",
    "my_test_text_2 = 'Powermax Rubber Factory'\n",
    "\n",
    "# Получим эмбеддинг второго тестового текста\n",
    "text_vector2 = sentence_embedding_fl(my_test_text_2, my_vectorizer)\n",
    "\n",
    "\n",
    "# Вычислим косинусное сходство между тестовым текстом и навзаниями компаний.\n",
    "cosine_similarity_list2 = [cosine_similarity( text_vector2, sentence_vector)[0] for sentence_vector in name_embeddings ]\n",
    "\n",
    "\n",
    "\n",
    "names2 = find_top5(cosine_similarity_list2, top)\n",
    "N2 = len(names2)\n",
    "\n",
    "# Так как одно косинусное сходство может быть у нескольких элементов, то список может быть больше 5.\n",
    "# Поэтому будем выводить все похожие названия, если найдено меньше 5 и только 5, если больше.\n",
    "if N2<=5:\n",
    "    for name in names2:\n",
    "        print(name)\n",
    "else:\n",
    "    for name in names2[:5]:\n",
    "        print(name)"
   ]
  },
  {
   "cell_type": "code",
   "execution_count": null,
   "id": "ab39d038",
   "metadata": {},
   "outputs": [],
   "source": [
    "# Видим что на первом месте исходный текст (не удивительно), а дальше тексты с похожими словами. "
   ]
  },
  {
   "cell_type": "code",
   "execution_count": 8,
   "id": "c07e1e81",
   "metadata": {},
   "outputs": [
    {
     "name": "stdout",
     "output_type": "stream",
     "text": [
      "Honeywell Aerospace Systems Laboratory Co. S. De .R.L. De C.V.\n",
      "Aerocosta Global Systems Inc.\n",
      "Craft Colombia Sas\n",
      "Mx Systems International P Ltd.\n",
      "Craft Argentina S.A.\n"
     ]
    }
   ],
   "source": [
    "# Теперь попробуем текст, не был в датасете, но похож, на то, что был там.\n",
    "# Оригинал: Honeywell Aerospace Systems Laboratory Co. S. De .R.L. De C.V.\n",
    "\n",
    "# Изменённый вариант\n",
    "my_test_text_3 = 'Well Aero System Lab Industrial Craft'\n",
    "\n",
    "# Получим эмбеддинг второго тестового текста\n",
    "text_vector3 = sentence_embedding_fl(my_test_text_3, my_vectorizer)\n",
    "\n",
    "\n",
    "# Вычислим косинусное сходство между тестовым текстом и навзаниями компаний.\n",
    "cosine_similarity_list3 = [cosine_similarity( text_vector3, sentence_vector)[0] for sentence_vector in name_embeddings ]\n",
    "\n",
    "\n",
    "\n",
    "names3 = find_top5(cosine_similarity_list3, top)\n",
    "N3 = len(names3)\n",
    "\n",
    "# Так как одно косинусное сходство может быть у нескольких элементов, то список может быть больше 5.\n",
    "# Поэтому будем выводить все похожие названия, если найдено меньше 5 и только 5, если больше.\n",
    "if N3<=5:\n",
    "    for name in names3:\n",
    "        print(name)\n",
    "else:\n",
    "    for name in names3[:5]:\n",
    "        print(name)"
   ]
  },
  {
   "cell_type": "code",
   "execution_count": null,
   "id": "2032b90e",
   "metadata": {},
   "outputs": [],
   "source": [
    "# Видим что на первом месте текст, который был изменён а дальше тексты с похожими словами. "
   ]
  }
 ],
 "metadata": {
  "kernelspec": {
   "display_name": "Python 3 (ipykernel)",
   "language": "python",
   "name": "python3"
  },
  "language_info": {
   "codemirror_mode": {
    "name": "ipython",
    "version": 3
   },
   "file_extension": ".py",
   "mimetype": "text/x-python",
   "name": "python",
   "nbconvert_exporter": "python",
   "pygments_lexer": "ipython3",
   "version": "3.8.5"
  }
 },
 "nbformat": 4,
 "nbformat_minor": 5
}
