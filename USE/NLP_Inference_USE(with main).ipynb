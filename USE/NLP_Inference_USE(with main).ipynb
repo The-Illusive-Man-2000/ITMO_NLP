{
 "cells": [
  {
   "cell_type": "code",
   "execution_count": 1,
   "id": "d84975f8",
   "metadata": {},
   "outputs": [],
   "source": [
    "import re\n",
    "import pickle\n",
    "import time\n",
    "\n",
    "import pandas as pd\n",
    "import numpy as np\n",
    "\n",
    "import nltk\n",
    "from nltk.stem import WordNetLemmatizer \n",
    "from nltk.corpus import stopwords\n",
    "\n",
    "from sklearn.metrics.pairwise import cosine_similarity\n",
    "\n",
    "import tensorflow as tf\n",
    "import tensorflow_hub as hub\n",
    "\n",
    "import session_info"
   ]
  },
  {
   "cell_type": "code",
   "execution_count": 2,
   "id": "b9c85886",
   "metadata": {},
   "outputs": [
    {
     "data": {
      "text/html": [
       "<details>\n",
       "<summary>Click to view session information</summary>\n",
       "<pre>\n",
       "-----\n",
       "nltk                3.6.2\n",
       "numpy               1.21.5\n",
       "pandas              1.4.2\n",
       "session_info        1.0.0\n",
       "sklearn             1.0.2\n",
       "tensorflow          2.3.0\n",
       "tensorflow_hub      0.8.0\n",
       "-----\n",
       "</pre>\n",
       "<details>\n",
       "<summary>Click to view modules imported as dependencies</summary>\n",
       "<pre>\n",
       "OpenSSL                             21.0.0\n",
       "PIL                                 9.0.1\n",
       "absl                                NA\n",
       "asttokens                           NA\n",
       "astunparse                          1.6.3\n",
       "backcall                            0.2.0\n",
       "beta_ufunc                          NA\n",
       "binom_ufunc                         NA\n",
       "boto3                               1.21.32\n",
       "botocore                            1.24.32\n",
       "bottleneck                          1.3.4\n",
       "brotli                              NA\n",
       "certifi                             2022.09.24\n",
       "cffi                                1.15.0\n",
       "charset_normalizer                  2.0.4\n",
       "cloudpickle                         2.0.0\n",
       "colorama                            0.4.4\n",
       "cryptography                        3.4.8\n",
       "cython_runtime                      NA\n",
       "d0500e42e7b9c00c4a62953977ddea7b    NA\n",
       "dateutil                            2.8.2\n",
       "debugpy                             1.5.1\n",
       "decorator                           5.1.1\n",
       "defusedxml                          0.7.1\n",
       "entrypoints                         0.4\n",
       "executing                           0.8.3\n",
       "gast                                NA\n",
       "google                              NA\n",
       "h5py                                2.10.0\n",
       "idna                                3.3\n",
       "importlib_metadata                  NA\n",
       "ipykernel                           6.9.1\n",
       "ipython_genutils                    0.2.0\n",
       "jedi                                0.18.1\n",
       "jmespath                            0.10.0\n",
       "joblib                              1.1.0\n",
       "keras_preprocessing                 1.1.2\n",
       "mkl                                 2.4.0\n",
       "mpl_toolkits                        NA\n",
       "nbinom_ufunc                        NA\n",
       "nt                                  NA\n",
       "ntsecuritycon                       NA\n",
       "numexpr                             2.8.1\n",
       "opt_einsum                          v3.3.0\n",
       "packaging                           20.9\n",
       "parso                               0.8.3\n",
       "pickleshare                         0.7.5\n",
       "pkg_resources                       NA\n",
       "prompt_toolkit                      3.0.20\n",
       "psutil                              5.8.0\n",
       "pure_eval                           0.2.2\n",
       "pyarrow                             3.0.0\n",
       "pydev_ipython                       NA\n",
       "pydevconsole                        NA\n",
       "pydevd                              2.6.0\n",
       "pydevd_concurrency_analyser         NA\n",
       "pydevd_file_utils                   NA\n",
       "pydevd_plugins                      NA\n",
       "pydevd_tracing                      NA\n",
       "pygments                            2.11.2\n",
       "pythoncom                           NA\n",
       "pytz                                2021.3\n",
       "pywintypes                          NA\n",
       "regex                               2.5.112\n",
       "requests                            2.27.1\n",
       "scipy                               1.7.3\n",
       "setuptools                          61.2.0\n",
       "six                                 1.16.0\n",
       "socks                               1.7.1\n",
       "stack_data                          0.2.0\n",
       "tensorboard                         2.4.0\n",
       "tensorflow_estimator                NA\n",
       "termcolor                           1.1.0\n",
       "threadpoolctl                       2.2.0\n",
       "tornado                             6.1\n",
       "traitlets                           5.1.1\n",
       "typing_extensions                   NA\n",
       "urllib3                             1.26.9\n",
       "wcwidth                             0.2.5\n",
       "win32api                            NA\n",
       "win32com                            NA\n",
       "win32security                       NA\n",
       "wrapt                               1.13.3\n",
       "yaml                                6.0\n",
       "zipp                                NA\n",
       "zmq                                 22.3.0\n",
       "</pre>\n",
       "</details> <!-- seems like this ends pre, so might as well be explicit -->\n",
       "<pre>\n",
       "-----\n",
       "IPython             8.2.0\n",
       "jupyter_client      7.2.2\n",
       "jupyter_core        4.9.2\n",
       "jupyterlab          2.2.6\n",
       "notebook            6.1.6\n",
       "-----\n",
       "Python 3.8.5 (default, Sep  3 2020, 21:29:08) [MSC v.1916 64 bit (AMD64)]\n",
       "Windows-10-10.0.10586-SP0\n",
       "-----\n",
       "Session information updated at 2022-10-28 00:22\n",
       "</pre>\n",
       "</details>"
      ],
      "text/plain": [
       "<IPython.core.display.HTML object>"
      ]
     },
     "execution_count": 2,
     "metadata": {},
     "output_type": "execute_result"
    }
   ],
   "source": [
    "# Посмотрим версии используемых модулей.\n",
    "session_info.show()"
   ]
  },
  {
   "cell_type": "code",
   "execution_count": 3,
   "id": "836acd6d",
   "metadata": {},
   "outputs": [],
   "source": [
    "# Загрузим датасет.\n",
    "df = pd.read_csv('train.csv')"
   ]
  },
  {
   "cell_type": "code",
   "execution_count": 4,
   "id": "bcc716c9",
   "metadata": {},
   "outputs": [
    {
     "data": {
      "text/html": [
       "<div>\n",
       "<style scoped>\n",
       "    .dataframe tbody tr th:only-of-type {\n",
       "        vertical-align: middle;\n",
       "    }\n",
       "\n",
       "    .dataframe tbody tr th {\n",
       "        vertical-align: top;\n",
       "    }\n",
       "\n",
       "    .dataframe thead th {\n",
       "        text-align: right;\n",
       "    }\n",
       "</style>\n",
       "<table border=\"1\" class=\"dataframe\">\n",
       "  <thead>\n",
       "    <tr style=\"text-align: right;\">\n",
       "      <th></th>\n",
       "      <th>pair_id</th>\n",
       "      <th>name_1</th>\n",
       "      <th>name_2</th>\n",
       "      <th>is_duplicate</th>\n",
       "    </tr>\n",
       "  </thead>\n",
       "  <tbody>\n",
       "    <tr>\n",
       "      <th>0</th>\n",
       "      <td>1</td>\n",
       "      <td>Iko Industries Ltd.</td>\n",
       "      <td>Enormous Industrial Trade Pvt., Ltd.</td>\n",
       "      <td>0</td>\n",
       "    </tr>\n",
       "    <tr>\n",
       "      <th>1</th>\n",
       "      <td>2</td>\n",
       "      <td>Apcotex Industries Ltd.</td>\n",
       "      <td>Technocraft Industries (India) Ltd.</td>\n",
       "      <td>0</td>\n",
       "    </tr>\n",
       "    <tr>\n",
       "      <th>2</th>\n",
       "      <td>3</td>\n",
       "      <td>Rishichem Distributors Pvt., Ltd.</td>\n",
       "      <td>Dsa</td>\n",
       "      <td>0</td>\n",
       "    </tr>\n",
       "    <tr>\n",
       "      <th>3</th>\n",
       "      <td>4</td>\n",
       "      <td>Powermax Rubber Factory</td>\n",
       "      <td>Co. One</td>\n",
       "      <td>0</td>\n",
       "    </tr>\n",
       "    <tr>\n",
       "      <th>4</th>\n",
       "      <td>5</td>\n",
       "      <td>Tress A/S</td>\n",
       "      <td>Longyou Industries Park Zhejiang</td>\n",
       "      <td>0</td>\n",
       "    </tr>\n",
       "  </tbody>\n",
       "</table>\n",
       "</div>"
      ],
      "text/plain": [
       "   pair_id                             name_1  \\\n",
       "0        1                Iko Industries Ltd.   \n",
       "1        2            Apcotex Industries Ltd.   \n",
       "2        3  Rishichem Distributors Pvt., Ltd.   \n",
       "3        4            Powermax Rubber Factory   \n",
       "4        5                          Tress A/S   \n",
       "\n",
       "                                 name_2  is_duplicate  \n",
       "0  Enormous Industrial Trade Pvt., Ltd.             0  \n",
       "1   Technocraft Industries (India) Ltd.             0  \n",
       "2                                   Dsa             0  \n",
       "3                               Co. One             0  \n",
       "4      Longyou Industries Park Zhejiang             0  "
      ]
     },
     "execution_count": 4,
     "metadata": {},
     "output_type": "execute_result"
    }
   ],
   "source": [
    "# Посмотрим на данные.\n",
    "df.head()"
   ]
  },
  {
   "cell_type": "code",
   "execution_count": 5,
   "id": "2d9524b9",
   "metadata": {},
   "outputs": [
    {
     "data": {
      "text/plain": [
       "(497819, 4)"
      ]
     },
     "execution_count": 5,
     "metadata": {},
     "output_type": "execute_result"
    }
   ],
   "source": [
    "df.shape"
   ]
  },
  {
   "cell_type": "code",
   "execution_count": 6,
   "id": "7db3cced",
   "metadata": {},
   "outputs": [],
   "source": [
    "# Загрузим предобученный universal-sentence-encoder\n",
    "use = hub.load('https://tfhub.dev/google/universal-sentence-encoder/4')"
   ]
  },
  {
   "cell_type": "code",
   "execution_count": 7,
   "id": "ef552664",
   "metadata": {},
   "outputs": [],
   "source": [
    "# Сделаем списки названий компаний.\n",
    "df_brand_names = pd.DataFrame(pd.concat([df.name_1, df.name_2], axis=0).drop_duplicates(), columns=['name'])\n",
    "brand_names = df_brand_names.name.tolist()"
   ]
  },
  {
   "cell_type": "code",
   "execution_count": 8,
   "id": "35e7323c",
   "metadata": {},
   "outputs": [],
   "source": [
    "# Получим эмбеддинги из universal-sentence-encoder.\n",
    "brand_embeddings = use(brand_names)\n",
    "top_k = 10"
   ]
  },
  {
   "cell_type": "code",
   "execution_count": 9,
   "id": "4357e83d",
   "metadata": {},
   "outputs": [],
   "source": [
    "# Функция для нахождения топ 10 похожих на исходное названий.\n",
    "def find_similar_name(sentence, embeddings, top_k, is_main):\n",
    "    sentence_embedding = use([sentence])\n",
    "    similarity = cosine_similarity(sentence_embedding, embeddings)\n",
    "    top = sorted(enumerate(*similarity), key=lambda x: x[1], reverse=True)\n",
    "    similar_names = [brand_names[x[0]] for x in top[:top_k]]\n",
    "    \n",
    "    if is_main == 0:\n",
    "        for name in similar_names:\n",
    "            print(name)\n",
    "    elif is_main == 1:\n",
    "        return similar_names"
   ]
  },
  {
   "cell_type": "code",
   "execution_count": 10,
   "id": "bad0ddee",
   "metadata": {},
   "outputs": [
    {
     "name": "stdout",
     "output_type": "stream",
     "text": [
      "Mediterranean Textile Co.\n",
      "\n",
      "Mediterranean Textile Co.\n",
      "Zamoung Textile Co.\n",
      "Torreh Textile Co.\n",
      "Kavir Semnan Textile Co.\n",
      "Ardakan Textile Co.\n",
      "Ferdows Textile Co.\n",
      "Hanam Textile Co.\n",
      "Mediterranean Textile\n",
      "Razi Abhar Textile Co.\n",
      "Alroubaia Textile Co Fourtex\n",
      "\n",
      "Время обработки поиска =  0.621\n"
     ]
    }
   ],
   "source": [
    "# Время начала обработки поиска. \n",
    "start_time = time.time()\n",
    "\n",
    "# Найдём топ 10 похожих названий для компании Mediterranean Textile Co, которая была в датасете.\n",
    "is_main = 0\n",
    "print(brand_names[80])\n",
    "print()\n",
    "find_similar_name(brand_names[80], brand_embeddings, top_k, is_main)\n",
    "\n",
    "# Время окончания обработки поиска.\n",
    "end_time = time.time()\n",
    "\n",
    "print()\n",
    "print(\"Время обработки поиска = \", round(end_time-start_time, 3))"
   ]
  },
  {
   "cell_type": "code",
   "execution_count": 11,
   "id": "5eb04b09",
   "metadata": {},
   "outputs": [],
   "source": [
    "# Вдими саму компанию и названия с такими же словами."
   ]
  },
  {
   "cell_type": "code",
   "execution_count": 12,
   "id": "9a71eb32",
   "metadata": {},
   "outputs": [
    {
     "name": "stdout",
     "output_type": "stream",
     "text": [
      "Darth Vader is a great Sith Lord\n",
      "\n",
      "Hussein Hussein Hezam Mohmmed\n",
      "Sonic Fluid Power Systems (Pvt.)\n",
      "Atat Tasimacilik Cozumleri A.S.\n",
      "Abdullah Hussain Ali\n",
      "The Cato Corporation\n",
      "Ashoka Inc.\n",
      "Sound Merch Bmg (Neutral)\n",
      "Hyundai Power Transformers Usa\n",
      "Sika S.A. Chile\n",
      "Kia Chile S.A.\n",
      "\n",
      "Время обработки поиска =  0.108\n"
     ]
    }
   ],
   "source": [
    "# Время начала обработки поиска. \n",
    "start_time = time.time()\n",
    "\n",
    "# Теперь получим эмбеддинг и найдём похожие названия для строки, которой не было в датасете.\n",
    "my_text_test_1 = 'Darth Vader is a great Sith Lord'\n",
    "print(my_text_test_1)\n",
    "print()\n",
    "\n",
    "find_similar_name(my_text_test_1, brand_embeddings, top_k, is_main)\n",
    "\n",
    "# Время окончания обработки поиска.\n",
    "end_time = time.time()\n",
    "\n",
    "print()\n",
    "print(\"Время обработки поиска = \", round(end_time-start_time, 3))"
   ]
  },
  {
   "cell_type": "code",
   "execution_count": 13,
   "id": "89d15436",
   "metadata": {},
   "outputs": [],
   "source": [
    "# Интересно, что к Дарту Вейдеру модель вывела названия, где фигурировало слово Power. Аж два названия.\n",
    "# \"Atat\" возможно из-за похожести на AT-AT (Имперский шагоход). \n",
    "# И \"Ashoka Inc.\" из-за похожести  \"Ashoka\" на \"Ahsoka\". \n",
    "# Потому что Ahsoka Tano это ученица Вейдера, времён, когда его еще Энакином звали."
   ]
  },
  {
   "cell_type": "code",
   "execution_count": 14,
   "id": "3bd47695",
   "metadata": {},
   "outputs": [
    {
     "name": "stdout",
     "output_type": "stream",
     "text": [
      "Well Aero System Lab Industrial Craft\n",
      "\n",
      "Golden Wheel Industrial Mfg. Corp\n",
      "Titan Rubber Industrial Mfg. Corp\n",
      "Honeywell Aerospace Systems Laboratory Co. S. De .R.L. De C.V.\n",
      "Mova Industrial S.A.C.\n",
      "Newpro Industrial Mfg. Corp\n",
      "Aero Club\n",
      "Erbus Industrial Eireli\n",
      "Aero Traders\n",
      "Distribuidora Industrial Avanzada Sa De Cv\n",
      "Pegsa Industrial Sac\n",
      "\n",
      "Время обработки поиска =  0.106\n"
     ]
    }
   ],
   "source": [
    "# Время начала обработки поиска. \n",
    "start_time = time.time()\n",
    "\n",
    "# Теперь получим эмбеддинг и найдём похожие названия для строки, похожей, на то, что было в датасете.\n",
    "# В датасете было название \"Honeywell Aerospace Systems Laboratory Co. S. De .R.L. De C.V.\"\n",
    "# Посмотрим, что на него выдаст модель.\n",
    "\n",
    "my_text_test_2 = 'Well Aero System Lab Industrial Craft'\n",
    "print(my_text_test_2)\n",
    "print()\n",
    "\n",
    "find_similar_name(my_text_test_2, brand_embeddings, top_k, is_main)\n",
    "\n",
    "# Время окончания обработки поиска.\n",
    "end_time = time.time()\n",
    "\n",
    "print()\n",
    "print(\"Время обработки поиска = \", round(end_time-start_time, 3))"
   ]
  },
  {
   "cell_type": "code",
   "execution_count": 15,
   "id": "8ca21261",
   "metadata": {},
   "outputs": [],
   "source": [
    "# Видим, что нашлись названия компаний с похожими словами:  \"Industrial\", \"Aero\", \"Aerospace\", \"Laboratory\".\n",
    "# Время обработки поиска 0.1-0.3 секунды."
   ]
  },
  {
   "cell_type": "code",
   "execution_count": 18,
   "id": "f8e761a8",
   "metadata": {},
   "outputs": [],
   "source": [
    "# Функция позволит вводить строку для поиска с клавиатуры.\n",
    "def main():\n",
    "    while True:\n",
    "        comp_name = input(\"Введите название компании:\\n\\n\").rstrip()\n",
    "        if comp_name == \"exit\":\n",
    "            break\n",
    "        k = 10\n",
    "        is_main = 1\n",
    "        start_time = time.time()\n",
    "        \n",
    "        try:\n",
    "            top_comp = find_similar_name(comp_name, brand_embeddings, k, is_main) \n",
    "        except ValueError:\n",
    "            print (\"Похожих компаний нет в списке или введены кракозябры\\n\\n\")\n",
    "            continue\n",
    "        print (f\"Топ {k} похожих компаний:\\n\\n\")\n",
    "        for i, comp in enumerate(top_comp):\n",
    "            print (f\"{i + 1}: {comp}\")\n",
    "        print(\"\\n\")\n",
    "        \n",
    "        end_time = time.time()\n",
    "\n",
    "        print(\"Время обработки поиска = \", round(end_time-start_time, 3))\n",
    "        print()"
   ]
  },
  {
   "cell_type": "code",
   "execution_count": 19,
   "id": "9eeec612",
   "metadata": {},
   "outputs": [
    {
     "name": "stdout",
     "output_type": "stream",
     "text": [
      "Введите название компании:\n",
      "\n",
      "Honeywell Aerospace Systems Laboratory Co. S. De .R.L. De C.V.\n",
      "Топ 10 похожих компаний:\n",
      "\n",
      "\n",
      "1: Honeywell Aerospace Systems Laboratory Co. S. De .R.L. De C.V.\n",
      "2: Honeywell Aerospace De Mexico Sa De Cv\n",
      "3: Boss Laboratories S De Rl De Cv\n",
      "4: Honeywell Productos Automotrices Sa De Cv\n",
      "5: Psc Maquiladora S De Rl De Cv\n",
      "6: Tpi Composites S. De R.L. De C.V.\n",
      "7: Tubac Mfg. S De Rl De Cv\n",
      "8: Encore Aerospace Mexico S. De R.L. De C.V.\n",
      "9: Southwest Fabricators S De R.L. De C.V.\n",
      "10: Kauffman Mfg., S. De R.L. De C.V.\n",
      "\n",
      "\n",
      "Время обработки поиска =  0.105\n",
      "\n",
      "Введите название компании:\n",
      "\n",
      "Goldet Steel Industrie\n",
      "Топ 10 похожих компаний:\n",
      "\n",
      "\n",
      "1: Emirates Steel Industries\n",
      "2: Lodhia Steel Industries Ltd.\n",
      "3: Hulas Steel Industries Ltd.\n",
      "4: Sujan Industries\n",
      "5: Jayam Industries\n",
      "6: Chemlink Industries\n",
      "7: Swastic Auto Industries\n",
      "8: Gehr Industries\n",
      "9: Jatin Industries\n",
      "10: Bindoo Industries\n",
      "\n",
      "\n",
      "Время обработки поиска =  0.098\n",
      "\n",
      "Введите название компании:\n",
      "\n",
      "ghh hjghk ghkghk4565675 878878787\n",
      "Топ 10 похожих компаний:\n",
      "\n",
      "\n",
      "1: Kuralkan Bilisim Otomotiv\n",
      "2: JOWAT SE\"/ЧЕРЕЗ ТЕРМИНАЛ A.C.\"POL-SAD\",ПОЛЬША\n",
      "3: Missner & Missner Ltda\n",
      "4: ASFALTOS CHOVA \n",
      "5: Ningbo Ftz Hpmshop.Com\n",
      "6: ООО\"КАВАСАКИ ГАЗ ТУРБИН СЕРВИС РУС\"\n",
      "7: Telas Lastik San.Ve Tic.A.S.\n",
      "8: Pegantes Urano Ltda\n",
      "9: ИНТЕРТЕКС ВОРЛД РЕСУРСИС ИНК.\n",
      "10: ООО \"БОШ ТЕРМОТЕХНИКА\"\n",
      "\n",
      "\n",
      "Время обработки поиска =  0.105\n",
      "\n",
      "Введите название компании:\n",
      "\n",
      "exit\n"
     ]
    }
   ],
   "source": [
    "main()"
   ]
  },
  {
   "cell_type": "code",
   "execution_count": 20,
   "id": "36f4e293",
   "metadata": {},
   "outputs": [],
   "source": [
    "is_main = 1\n",
    "\n",
    "# Возьмём из датасета те названия, что имеют схожие.\n",
    "df_duplicate = df[df['is_duplicate'] == 1]\n",
    "\n",
    "name_1_duplicate = list(df_duplicate['name_1'])\n",
    "name_2_duplicate = list(df_duplicate['name_2'])\n",
    "\n",
    "# Создадим словарь, чтобы можно было найти дубль для каждого названия из списка дубликатов.\n",
    "duplicate_dictionary = dict(zip(name_1_duplicate+name_2_duplicate, name_2_duplicate+ name_1_duplicate))\n",
    "\n",
    "\n",
    "# Функция подсчёта метрики ранжирования.\n",
    "def search_acc_metric(names):\n",
    "    d_s = []\n",
    "    for name in names:\n",
    "        try:\n",
    "            duplicate_dictionary[name]\n",
    "            d_s.append(1)\n",
    "        except KeyError:\n",
    "            d_s.append(0)\n",
    "    \n",
    "    k = len(names)\n",
    "    if 1 in d_s:\n",
    "        w_i = [max(-0.2*i+1,0) for i in range(k)]\n",
    "        result = min(sum([x*y for x, y in zip(w_i, d_s)]), 1)\n",
    "    else:\n",
    "        w_i = [0.2*i for i in range(1, k+1)]\n",
    "        result = max(1 - sum(w_i), 0)\n",
    "\n",
    "    return result\n"
   ]
  },
  {
   "cell_type": "code",
   "execution_count": 21,
   "id": "d43249e9",
   "metadata": {},
   "outputs": [
    {
     "data": {
      "text/html": [
       "<div>\n",
       "<style scoped>\n",
       "    .dataframe tbody tr th:only-of-type {\n",
       "        vertical-align: middle;\n",
       "    }\n",
       "\n",
       "    .dataframe tbody tr th {\n",
       "        vertical-align: top;\n",
       "    }\n",
       "\n",
       "    .dataframe thead th {\n",
       "        text-align: right;\n",
       "    }\n",
       "</style>\n",
       "<table border=\"1\" class=\"dataframe\">\n",
       "  <thead>\n",
       "    <tr style=\"text-align: right;\">\n",
       "      <th></th>\n",
       "      <th>pair_id</th>\n",
       "      <th>name_1</th>\n",
       "      <th>name_2</th>\n",
       "      <th>is_duplicate</th>\n",
       "    </tr>\n",
       "  </thead>\n",
       "  <tbody>\n",
       "    <tr>\n",
       "      <th>161</th>\n",
       "      <td>162</td>\n",
       "      <td>JX Nippon Oil &amp; Gas Exploration (Brasil) Ltda</td>\n",
       "      <td>JX Nippon Oil &amp; Gas Exploration Technical Serv...</td>\n",
       "      <td>1</td>\n",
       "    </tr>\n",
       "    <tr>\n",
       "      <th>603</th>\n",
       "      <td>604</td>\n",
       "      <td>Pirelli Neumaticos S.A.I.C.</td>\n",
       "      <td>Pirelli Tyre Co., Ltd.</td>\n",
       "      <td>1</td>\n",
       "    </tr>\n",
       "    <tr>\n",
       "      <th>835</th>\n",
       "      <td>836</td>\n",
       "      <td>Brenntag Australia (Pty) Ltd.</td>\n",
       "      <td>Brenntag Group</td>\n",
       "      <td>1</td>\n",
       "    </tr>\n",
       "    <tr>\n",
       "      <th>1328</th>\n",
       "      <td>1329</td>\n",
       "      <td>PAUL BAUDER GMBH &amp; CO KG, BOCHUM PLANT</td>\n",
       "      <td>Paul Bauder ag</td>\n",
       "      <td>1</td>\n",
       "    </tr>\n",
       "    <tr>\n",
       "      <th>1562</th>\n",
       "      <td>1563</td>\n",
       "      <td>TOTAL CESKA REPUBLIKA s.r.o.</td>\n",
       "      <td>TOTAL FRANCE (ARNAY LE DUC)</td>\n",
       "      <td>1</td>\n",
       "    </tr>\n",
       "    <tr>\n",
       "      <th>1786</th>\n",
       "      <td>1787</td>\n",
       "      <td>Pt Bridgestone Tire Indonesia</td>\n",
       "      <td>Bridgestone Do Brasil Industria E Comenrcio Ltda</td>\n",
       "      <td>1</td>\n",
       "    </tr>\n",
       "    <tr>\n",
       "      <th>1798</th>\n",
       "      <td>1799</td>\n",
       "      <td>Brenntag Peru S.A.C.</td>\n",
       "      <td>Brenntag Group</td>\n",
       "      <td>1</td>\n",
       "    </tr>\n",
       "    <tr>\n",
       "      <th>1962</th>\n",
       "      <td>1963</td>\n",
       "      <td>Carlisle Coatings &amp; Waterproofing, Inc.</td>\n",
       "      <td>Carlisle Coatings &amp; Wtrprfng</td>\n",
       "      <td>1</td>\n",
       "    </tr>\n",
       "    <tr>\n",
       "      <th>2054</th>\n",
       "      <td>2055</td>\n",
       "      <td>Pt Bridgestone Tire Indonesia</td>\n",
       "      <td>Thai Bridgestone Co., Ltd.</td>\n",
       "      <td>1</td>\n",
       "    </tr>\n",
       "    <tr>\n",
       "      <th>2772</th>\n",
       "      <td>2773</td>\n",
       "      <td>Onduline Polska Sp. z o.o.</td>\n",
       "      <td>Onduline S.A.</td>\n",
       "      <td>1</td>\n",
       "    </tr>\n",
       "  </tbody>\n",
       "</table>\n",
       "</div>"
      ],
      "text/plain": [
       "      pair_id                                         name_1  \\\n",
       "161       162  JX Nippon Oil & Gas Exploration (Brasil) Ltda   \n",
       "603       604                    Pirelli Neumaticos S.A.I.C.   \n",
       "835       836                  Brenntag Australia (Pty) Ltd.   \n",
       "1328     1329         PAUL BAUDER GMBH & CO KG, BOCHUM PLANT   \n",
       "1562     1563                   TOTAL CESKA REPUBLIKA s.r.o.   \n",
       "1786     1787                  Pt Bridgestone Tire Indonesia   \n",
       "1798     1799                           Brenntag Peru S.A.C.   \n",
       "1962     1963        Carlisle Coatings & Waterproofing, Inc.   \n",
       "2054     2055                  Pt Bridgestone Tire Indonesia   \n",
       "2772     2773                     Onduline Polska Sp. z o.o.   \n",
       "\n",
       "                                                 name_2  is_duplicate  \n",
       "161   JX Nippon Oil & Gas Exploration Technical Serv...             1  \n",
       "603                              Pirelli Tyre Co., Ltd.             1  \n",
       "835                                      Brenntag Group             1  \n",
       "1328                                     Paul Bauder ag             1  \n",
       "1562                        TOTAL FRANCE (ARNAY LE DUC)             1  \n",
       "1786   Bridgestone Do Brasil Industria E Comenrcio Ltda             1  \n",
       "1798                                     Brenntag Group             1  \n",
       "1962                       Carlisle Coatings & Wtrprfng             1  \n",
       "2054                         Thai Bridgestone Co., Ltd.             1  \n",
       "2772                                      Onduline S.A.             1  "
      ]
     },
     "execution_count": 21,
     "metadata": {},
     "output_type": "execute_result"
    }
   ],
   "source": [
    "df_duplicate.head(10)"
   ]
  },
  {
   "cell_type": "code",
   "execution_count": 22,
   "id": "866e3d5d",
   "metadata": {},
   "outputs": [
    {
     "name": "stdout",
     "output_type": "stream",
     "text": [
      "Carlisle Coatings & Waterproofing, Inc.\n",
      "CARLISLE COATINGS\n",
      "Carlisle Coatings & Wtrprfng\n",
      "Devan Sealants Inc.\n",
      "Arkema Inc. Coatings & Resins 39\n",
      "Carlisle Construction Materials\n",
      "Dsm Coating Resins Inc.\n",
      "Ticona Polymers Inc.\n",
      "Ol Roofing Supplies Inc.\n",
      "Monico Alloys Inc.\n"
     ]
    }
   ],
   "source": [
    "# Возьмём название у которого есть похожее и посмотрим значение метрики.\n",
    "companies_names = find_similar_name(\"Carlisle Coatings & Waterproofing, Inc.\", brand_embeddings, top_k, is_main)\n",
    "\n",
    "for companies in companies_names:\n",
    "    print(companies)"
   ]
  },
  {
   "cell_type": "code",
   "execution_count": 23,
   "id": "3f8598d8",
   "metadata": {},
   "outputs": [
    {
     "name": "stdout",
     "output_type": "stream",
     "text": [
      "1\n"
     ]
    }
   ],
   "source": [
    "# Теперь посчитаем метрику   \n",
    "print(search_acc_metric(companies_names))"
   ]
  },
  {
   "cell_type": "code",
   "execution_count": 24,
   "id": "dcbba810",
   "metadata": {},
   "outputs": [
    {
     "name": "stdout",
     "output_type": "stream",
     "text": [
      "Powermax Rubber Factory\n",
      "Basant Rubber Factory\n",
      "Pioneer Rubber Factory\n",
      "Rachana Rubber\n",
      "Le Caoutchouc Mfg.\n",
      "Mountville Mills Rubber\n",
      "Sumitomo Rubber Inds\n",
      "Neelkanth Rubber Mills\n",
      "Triveni Rubber\n",
      "Kayel Rubber Products\n"
     ]
    }
   ],
   "source": [
    "# Возьмём название у которого нет похожего и посмотрим значение метрики.\n",
    "companies_names = find_similar_name(\"Powermax Rubber Factory\", brand_embeddings, top_k, is_main)\n",
    "\n",
    "for companies in companies_names:\n",
    "    print(companies)"
   ]
  },
  {
   "cell_type": "code",
   "execution_count": 25,
   "id": "de973e1f",
   "metadata": {},
   "outputs": [
    {
     "name": "stdout",
     "output_type": "stream",
     "text": [
      "0.0\n"
     ]
    }
   ],
   "source": [
    "# Теперь посчитаем метрику   \n",
    "print(search_acc_metric(companies_names))"
   ]
  },
  {
   "cell_type": "code",
   "execution_count": null,
   "id": "8f5e2421",
   "metadata": {},
   "outputs": [],
   "source": []
  }
 ],
 "metadata": {
  "kernelspec": {
   "display_name": "Python 3 (ipykernel)",
   "language": "python",
   "name": "python3"
  },
  "language_info": {
   "codemirror_mode": {
    "name": "ipython",
    "version": 3
   },
   "file_extension": ".py",
   "mimetype": "text/x-python",
   "name": "python",
   "nbconvert_exporter": "python",
   "pygments_lexer": "ipython3",
   "version": "3.8.5"
  }
 },
 "nbformat": 4,
 "nbformat_minor": 5
}
