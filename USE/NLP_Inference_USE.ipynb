{
 "cells": [
  {
   "cell_type": "code",
   "execution_count": 1,
   "id": "0f268171",
   "metadata": {},
   "outputs": [],
   "source": [
    "import re\n",
    "import time\n",
    "\n",
    "import pandas as pd\n",
    "import numpy as np\n",
    "\n",
    "import nltk\n",
    "from nltk.stem import WordNetLemmatizer \n",
    "from nltk.corpus import stopwords\n",
    "\n",
    "from sklearn.feature_extraction.text import CountVectorizer, TfidfVectorizer\n",
    "from sklearn.metrics.pairwise import cosine_similarity,cosine_distances\n",
    "\n",
    "import pickle\n",
    "\n",
    "from heapq import nlargest\n",
    "\n",
    "import tensorflow as tf\n",
    "import tensorflow_hub as hub"
   ]
  },
  {
   "cell_type": "code",
   "execution_count": 2,
   "id": "8ccb5297",
   "metadata": {},
   "outputs": [],
   "source": [
    "# Загрузим датасет.\n",
    "\n",
    "df = pd.read_csv('train.csv')"
   ]
  },
  {
   "cell_type": "code",
   "execution_count": 3,
   "id": "d58fc486",
   "metadata": {},
   "outputs": [
    {
     "data": {
      "text/html": [
       "<div>\n",
       "<style scoped>\n",
       "    .dataframe tbody tr th:only-of-type {\n",
       "        vertical-align: middle;\n",
       "    }\n",
       "\n",
       "    .dataframe tbody tr th {\n",
       "        vertical-align: top;\n",
       "    }\n",
       "\n",
       "    .dataframe thead th {\n",
       "        text-align: right;\n",
       "    }\n",
       "</style>\n",
       "<table border=\"1\" class=\"dataframe\">\n",
       "  <thead>\n",
       "    <tr style=\"text-align: right;\">\n",
       "      <th></th>\n",
       "      <th>pair_id</th>\n",
       "      <th>name_1</th>\n",
       "      <th>name_2</th>\n",
       "      <th>is_duplicate</th>\n",
       "    </tr>\n",
       "  </thead>\n",
       "  <tbody>\n",
       "    <tr>\n",
       "      <th>0</th>\n",
       "      <td>1</td>\n",
       "      <td>Iko Industries Ltd.</td>\n",
       "      <td>Enormous Industrial Trade Pvt., Ltd.</td>\n",
       "      <td>0</td>\n",
       "    </tr>\n",
       "    <tr>\n",
       "      <th>1</th>\n",
       "      <td>2</td>\n",
       "      <td>Apcotex Industries Ltd.</td>\n",
       "      <td>Technocraft Industries (India) Ltd.</td>\n",
       "      <td>0</td>\n",
       "    </tr>\n",
       "    <tr>\n",
       "      <th>2</th>\n",
       "      <td>3</td>\n",
       "      <td>Rishichem Distributors Pvt., Ltd.</td>\n",
       "      <td>Dsa</td>\n",
       "      <td>0</td>\n",
       "    </tr>\n",
       "    <tr>\n",
       "      <th>3</th>\n",
       "      <td>4</td>\n",
       "      <td>Powermax Rubber Factory</td>\n",
       "      <td>Co. One</td>\n",
       "      <td>0</td>\n",
       "    </tr>\n",
       "    <tr>\n",
       "      <th>4</th>\n",
       "      <td>5</td>\n",
       "      <td>Tress A/S</td>\n",
       "      <td>Longyou Industries Park Zhejiang</td>\n",
       "      <td>0</td>\n",
       "    </tr>\n",
       "  </tbody>\n",
       "</table>\n",
       "</div>"
      ],
      "text/plain": [
       "   pair_id                             name_1  \\\n",
       "0        1                Iko Industries Ltd.   \n",
       "1        2            Apcotex Industries Ltd.   \n",
       "2        3  Rishichem Distributors Pvt., Ltd.   \n",
       "3        4            Powermax Rubber Factory   \n",
       "4        5                          Tress A/S   \n",
       "\n",
       "                                 name_2  is_duplicate  \n",
       "0  Enormous Industrial Trade Pvt., Ltd.             0  \n",
       "1   Technocraft Industries (India) Ltd.             0  \n",
       "2                                   Dsa             0  \n",
       "3                               Co. One             0  \n",
       "4      Longyou Industries Park Zhejiang             0  "
      ]
     },
     "execution_count": 3,
     "metadata": {},
     "output_type": "execute_result"
    }
   ],
   "source": [
    "# Посмотрим на данные.\n",
    "\n",
    "df.head()"
   ]
  },
  {
   "cell_type": "code",
   "execution_count": 4,
   "id": "3067307c",
   "metadata": {},
   "outputs": [
    {
     "data": {
      "text/plain": [
       "(497819, 4)"
      ]
     },
     "execution_count": 4,
     "metadata": {},
     "output_type": "execute_result"
    }
   ],
   "source": [
    "df.shape"
   ]
  },
  {
   "cell_type": "code",
   "execution_count": 5,
   "id": "28cdcab5",
   "metadata": {},
   "outputs": [],
   "source": [
    "# Загрузим предобученный universal-sentence-encoder\n",
    "\n",
    "use = hub.load('https://tfhub.dev/google/universal-sentence-encoder/4')"
   ]
  },
  {
   "cell_type": "code",
   "execution_count": 6,
   "id": "97121b58",
   "metadata": {},
   "outputs": [],
   "source": [
    "# Сделаем списки названий компаний.\n",
    "\n",
    "df_brand_names = pd.DataFrame(pd.concat([df.name_1, df.name_2], axis=0).drop_duplicates(), columns=['name'])\n",
    "brand_names = df_brand_names.name.tolist()"
   ]
  },
  {
   "cell_type": "code",
   "execution_count": 7,
   "id": "fa860123",
   "metadata": {},
   "outputs": [],
   "source": [
    "# Получим эмбеддинги из universal-sentence-encoder.\n",
    "\n",
    "brand_embeddings = use(brand_names)"
   ]
  },
  {
   "cell_type": "code",
   "execution_count": 8,
   "id": "8c6b0e28",
   "metadata": {},
   "outputs": [],
   "source": [
    "# Функция для нахождения топ 10 похожих на исходное названий.\n",
    "\n",
    "def find_similar_name(sentence, embeddings):\n",
    "    \n",
    "    sentence_embedding = use([sentence])\n",
    "    similarity = cosine_similarity(sentence_embedding, embeddings)\n",
    "    top = sorted(enumerate(*similarity), key=lambda x: x[1], reverse=True)\n",
    "    similar_names = [brand_names[x[0]] for x in top[:10]]\n",
    "    for name in similar_names:\n",
    "        print(name)\n",
    "    "
   ]
  },
  {
   "cell_type": "code",
   "execution_count": 9,
   "id": "045c885b",
   "metadata": {},
   "outputs": [
    {
     "name": "stdout",
     "output_type": "stream",
     "text": [
      "Mediterranean Textile Co.\n",
      "\n",
      "Mediterranean Textile Co.\n",
      "Zamoung Textile Co.\n",
      "Torreh Textile Co.\n",
      "Kavir Semnan Textile Co.\n",
      "Ardakan Textile Co.\n",
      "Ferdows Textile Co.\n",
      "Hanam Textile Co.\n",
      "Mediterranean Textile\n",
      "Razi Abhar Textile Co.\n",
      "Alroubaia Textile Co Fourtex\n",
      "\n",
      "Время обработки поиска =  0.377\n"
     ]
    }
   ],
   "source": [
    "# Время начала обработки поиска. \n",
    "start_time = time.time()\n",
    "\n",
    "# Найдём топ 10 похожих названий для компании Mediterranean Textile Co, которая была в датасете.\n",
    "\n",
    "print(brand_names[80])\n",
    "print()\n",
    "find_similar_name(brand_names[80], brand_embeddings)\n",
    "\n",
    "# Время окончания обработки поиска.\n",
    "end_time = time.time()\n",
    "\n",
    "print()\n",
    "print(\"Время обработки поиска = \", round(end_time-start_time, 3))"
   ]
  },
  {
   "cell_type": "code",
   "execution_count": 10,
   "id": "18d11f21",
   "metadata": {},
   "outputs": [],
   "source": [
    "# Вдими саму компанию и названия с такими же словами."
   ]
  },
  {
   "cell_type": "code",
   "execution_count": 11,
   "id": "c7a0c496",
   "metadata": {},
   "outputs": [
    {
     "name": "stdout",
     "output_type": "stream",
     "text": [
      "Darth Vader is a great Sith Lord\n",
      "\n",
      "Hussein Hussein Hezam Mohmmed\n",
      "Sonic Fluid Power Systems (Pvt.)\n",
      "Atat Tasimacilik Cozumleri A.S.\n",
      "Abdullah Hussain Ali\n",
      "The Cato Corporation\n",
      "Ashoka Inc.\n",
      "Sound Merch Bmg (Neutral)\n",
      "Hyundai Power Transformers Usa\n",
      "Sika S.A. Chile\n",
      "Kia Chile S.A.\n",
      "\n",
      "Время обработки поиска =  0.1\n"
     ]
    }
   ],
   "source": [
    "# Время начала обработки поиска. \n",
    "start_time = time.time()\n",
    "\n",
    "# Теперь получим эмбеддинг и найдём похожие названия для строки, которой не было в датасете.\n",
    "\n",
    "my_text_test_1 = 'Darth Vader is a great Sith Lord'\n",
    "print(my_text_test_1)\n",
    "print()\n",
    "\n",
    "find_similar_name(my_text_test_1, brand_embeddings)\n",
    "\n",
    "# Время окончания обработки поиска.\n",
    "end_time = time.time()\n",
    "\n",
    "print()\n",
    "print(\"Время обработки поиска = \", round(end_time-start_time, 3))"
   ]
  },
  {
   "cell_type": "code",
   "execution_count": 12,
   "id": "889178b2",
   "metadata": {},
   "outputs": [],
   "source": [
    "# Интересно, что к Дарту Вейдеру модель вывела названия, где фигурировало слово Power. Аж два названия.\n",
    "# \"Atat\" возможно из-за похожести на AT-AT (Имперский шагоход). \n",
    "# И \"Ashoka Inc.\" из-за похожести  \"Ashoka\" на \"Ahsoka\". \n",
    "# Потому что Ahsoka Tano это ученица Вейдера, времён, когда его еще Энакином звали."
   ]
  },
  {
   "cell_type": "code",
   "execution_count": 13,
   "id": "d4fab543",
   "metadata": {},
   "outputs": [
    {
     "name": "stdout",
     "output_type": "stream",
     "text": [
      "Well Aero System Lab Industrial Craft\n",
      "\n",
      "Golden Wheel Industrial Mfg. Corp\n",
      "Titan Rubber Industrial Mfg. Corp\n",
      "Honeywell Aerospace Systems Laboratory Co. S. De .R.L. De C.V.\n",
      "Mova Industrial S.A.C.\n",
      "Newpro Industrial Mfg. Corp\n",
      "Aero Club\n",
      "Erbus Industrial Eireli\n",
      "Aero Traders\n",
      "Distribuidora Industrial Avanzada Sa De Cv\n",
      "Pegsa Industrial Sac\n",
      "\n",
      "Время обработки поиска =  0.123\n"
     ]
    }
   ],
   "source": [
    "# Время начала обработки поиска. \n",
    "start_time = time.time()\n",
    "\n",
    "\n",
    "# Теперь получим эмбеддинг и найдём похожие названия для строки, похожей, на то, что было в датасете.\n",
    "# В датасете было название \"Honeywell Aerospace Systems Laboratory Co. S. De .R.L. De C.V.\"\n",
    "# Посмотрим, что на него выдаст модель.\n",
    "\n",
    "my_text_test_2 = 'Well Aero System Lab Industrial Craft'\n",
    "print(my_text_test_2)\n",
    "print()\n",
    "\n",
    "find_similar_name(my_text_test_2, brand_embeddings)\n",
    "\n",
    "# Время окончания обработки поиска.\n",
    "end_time = time.time()\n",
    "\n",
    "print()\n",
    "print(\"Время обработки поиска = \", round(end_time-start_time, 3))"
   ]
  },
  {
   "cell_type": "code",
   "execution_count": 14,
   "id": "3680c4c3",
   "metadata": {},
   "outputs": [],
   "source": [
    "# Видим, что нашлись названия компаний с похожими словами:  \"Industrial\", \"Aero\", \"Aerospace\", \"Laboratory\".  \n",
    "# Время обработки поиска 0.1-0.3 секунды."
   ]
  }
 ],
 "metadata": {
  "kernelspec": {
   "display_name": "Python 3 (ipykernel)",
   "language": "python",
   "name": "python3"
  },
  "language_info": {
   "codemirror_mode": {
    "name": "ipython",
    "version": 3
   },
   "file_extension": ".py",
   "mimetype": "text/x-python",
   "name": "python",
   "nbconvert_exporter": "python",
   "pygments_lexer": "ipython3",
   "version": "3.8.5"
  }
 },
 "nbformat": 4,
 "nbformat_minor": 5
}
