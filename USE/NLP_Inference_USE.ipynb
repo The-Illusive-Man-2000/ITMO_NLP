{
 "cells": [
  {
   "cell_type": "code",
   "execution_count": 1,
   "id": "014fb0c2",
   "metadata": {},
   "outputs": [],
   "source": [
    "import re\n",
    "import pickle\n",
    "\n",
    "import pandas as pd\n",
    "import numpy as np\n",
    "\n",
    "import nltk\n",
    "from nltk.stem import WordNetLemmatizer \n",
    "from nltk.corpus import stopwords\n",
    "\n",
    "from sklearn.metrics.pairwise import cosine_similarity\n",
    "\n",
    "import tensorflow as tf\n",
    "import tensorflow_hub as hub\n",
    "\n",
    "import session_info"
   ]
  },
  {
   "cell_type": "code",
   "execution_count": 2,
   "id": "4e4adfc7",
   "metadata": {},
   "outputs": [
    {
     "data": {
      "text/html": [
       "<details>\n",
       "<summary>Click to view session information</summary>\n",
       "<pre>\n",
       "-----\n",
       "nltk                3.6.2\n",
       "numpy               1.21.5\n",
       "pandas              1.4.2\n",
       "session_info        1.0.0\n",
       "sklearn             1.0.2\n",
       "tensorflow          2.3.0\n",
       "tensorflow_hub      0.8.0\n",
       "-----\n",
       "</pre>\n",
       "<details>\n",
       "<summary>Click to view modules imported as dependencies</summary>\n",
       "<pre>\n",
       "OpenSSL                             21.0.0\n",
       "PIL                                 9.0.1\n",
       "absl                                NA\n",
       "asttokens                           NA\n",
       "astunparse                          1.6.3\n",
       "backcall                            0.2.0\n",
       "beta_ufunc                          NA\n",
       "binom_ufunc                         NA\n",
       "boto3                               1.21.32\n",
       "botocore                            1.24.32\n",
       "bottleneck                          1.3.4\n",
       "brotli                              NA\n",
       "certifi                             2022.09.24\n",
       "cffi                                1.15.0\n",
       "charset_normalizer                  2.0.4\n",
       "cloudpickle                         2.0.0\n",
       "colorama                            0.4.4\n",
       "cryptography                        3.4.8\n",
       "cython_runtime                      NA\n",
       "d0500e42e7b9c00c4a62953977ddea7b    NA\n",
       "dateutil                            2.8.2\n",
       "debugpy                             1.5.1\n",
       "decorator                           5.1.1\n",
       "defusedxml                          0.7.1\n",
       "entrypoints                         0.4\n",
       "executing                           0.8.3\n",
       "gast                                NA\n",
       "google                              NA\n",
       "h5py                                2.10.0\n",
       "idna                                3.3\n",
       "importlib_metadata                  NA\n",
       "ipykernel                           6.9.1\n",
       "ipython_genutils                    0.2.0\n",
       "jedi                                0.18.1\n",
       "jmespath                            0.10.0\n",
       "joblib                              1.1.0\n",
       "keras_preprocessing                 1.1.2\n",
       "mkl                                 2.4.0\n",
       "mpl_toolkits                        NA\n",
       "nbinom_ufunc                        NA\n",
       "nt                                  NA\n",
       "ntsecuritycon                       NA\n",
       "numexpr                             2.8.1\n",
       "opt_einsum                          v3.3.0\n",
       "packaging                           20.9\n",
       "parso                               0.8.3\n",
       "pickleshare                         0.7.5\n",
       "pkg_resources                       NA\n",
       "prompt_toolkit                      3.0.20\n",
       "psutil                              5.8.0\n",
       "pure_eval                           0.2.2\n",
       "pyarrow                             3.0.0\n",
       "pydev_ipython                       NA\n",
       "pydevconsole                        NA\n",
       "pydevd                              2.6.0\n",
       "pydevd_concurrency_analyser         NA\n",
       "pydevd_file_utils                   NA\n",
       "pydevd_plugins                      NA\n",
       "pydevd_tracing                      NA\n",
       "pygments                            2.11.2\n",
       "pythoncom                           NA\n",
       "pytz                                2021.3\n",
       "pywintypes                          NA\n",
       "regex                               2.5.112\n",
       "requests                            2.27.1\n",
       "scipy                               1.7.3\n",
       "setuptools                          61.2.0\n",
       "six                                 1.16.0\n",
       "socks                               1.7.1\n",
       "stack_data                          0.2.0\n",
       "tensorboard                         2.4.0\n",
       "tensorflow_estimator                NA\n",
       "termcolor                           1.1.0\n",
       "threadpoolctl                       2.2.0\n",
       "tornado                             6.1\n",
       "traitlets                           5.1.1\n",
       "typing_extensions                   NA\n",
       "urllib3                             1.26.9\n",
       "wcwidth                             0.2.5\n",
       "win32api                            NA\n",
       "win32com                            NA\n",
       "win32security                       NA\n",
       "wrapt                               1.13.3\n",
       "yaml                                6.0\n",
       "zipp                                NA\n",
       "zmq                                 22.3.0\n",
       "</pre>\n",
       "</details> <!-- seems like this ends pre, so might as well be explicit -->\n",
       "<pre>\n",
       "-----\n",
       "IPython             8.2.0\n",
       "jupyter_client      7.2.2\n",
       "jupyter_core        4.9.2\n",
       "jupyterlab          2.2.6\n",
       "notebook            6.1.6\n",
       "-----\n",
       "Python 3.8.5 (default, Sep  3 2020, 21:29:08) [MSC v.1916 64 bit (AMD64)]\n",
       "Windows-10-10.0.10586-SP0\n",
       "-----\n",
       "Session information updated at 2022-10-25 23:49\n",
       "</pre>\n",
       "</details>"
      ],
      "text/plain": [
       "<IPython.core.display.HTML object>"
      ]
     },
     "execution_count": 2,
     "metadata": {},
     "output_type": "execute_result"
    }
   ],
   "source": [
    "# Посмотрим версии используемых модулей.\n",
    "session_info.show()"
   ]
  },
  {
   "cell_type": "code",
   "execution_count": 5,
   "id": "50b46631",
   "metadata": {},
   "outputs": [],
   "source": [
    "# Загрузим датасет.\n",
    "df = pd.read_csv('train.csv')"
   ]
  },
  {
   "cell_type": "code",
   "execution_count": 6,
   "id": "984c4122",
   "metadata": {},
   "outputs": [
    {
     "data": {
      "text/html": [
       "<div>\n",
       "<style scoped>\n",
       "    .dataframe tbody tr th:only-of-type {\n",
       "        vertical-align: middle;\n",
       "    }\n",
       "\n",
       "    .dataframe tbody tr th {\n",
       "        vertical-align: top;\n",
       "    }\n",
       "\n",
       "    .dataframe thead th {\n",
       "        text-align: right;\n",
       "    }\n",
       "</style>\n",
       "<table border=\"1\" class=\"dataframe\">\n",
       "  <thead>\n",
       "    <tr style=\"text-align: right;\">\n",
       "      <th></th>\n",
       "      <th>pair_id</th>\n",
       "      <th>name_1</th>\n",
       "      <th>name_2</th>\n",
       "      <th>is_duplicate</th>\n",
       "    </tr>\n",
       "  </thead>\n",
       "  <tbody>\n",
       "    <tr>\n",
       "      <th>0</th>\n",
       "      <td>1</td>\n",
       "      <td>Iko Industries Ltd.</td>\n",
       "      <td>Enormous Industrial Trade Pvt., Ltd.</td>\n",
       "      <td>0</td>\n",
       "    </tr>\n",
       "    <tr>\n",
       "      <th>1</th>\n",
       "      <td>2</td>\n",
       "      <td>Apcotex Industries Ltd.</td>\n",
       "      <td>Technocraft Industries (India) Ltd.</td>\n",
       "      <td>0</td>\n",
       "    </tr>\n",
       "    <tr>\n",
       "      <th>2</th>\n",
       "      <td>3</td>\n",
       "      <td>Rishichem Distributors Pvt., Ltd.</td>\n",
       "      <td>Dsa</td>\n",
       "      <td>0</td>\n",
       "    </tr>\n",
       "    <tr>\n",
       "      <th>3</th>\n",
       "      <td>4</td>\n",
       "      <td>Powermax Rubber Factory</td>\n",
       "      <td>Co. One</td>\n",
       "      <td>0</td>\n",
       "    </tr>\n",
       "    <tr>\n",
       "      <th>4</th>\n",
       "      <td>5</td>\n",
       "      <td>Tress A/S</td>\n",
       "      <td>Longyou Industries Park Zhejiang</td>\n",
       "      <td>0</td>\n",
       "    </tr>\n",
       "  </tbody>\n",
       "</table>\n",
       "</div>"
      ],
      "text/plain": [
       "   pair_id                             name_1  \\\n",
       "0        1                Iko Industries Ltd.   \n",
       "1        2            Apcotex Industries Ltd.   \n",
       "2        3  Rishichem Distributors Pvt., Ltd.   \n",
       "3        4            Powermax Rubber Factory   \n",
       "4        5                          Tress A/S   \n",
       "\n",
       "                                 name_2  is_duplicate  \n",
       "0  Enormous Industrial Trade Pvt., Ltd.             0  \n",
       "1   Technocraft Industries (India) Ltd.             0  \n",
       "2                                   Dsa             0  \n",
       "3                               Co. One             0  \n",
       "4      Longyou Industries Park Zhejiang             0  "
      ]
     },
     "execution_count": 6,
     "metadata": {},
     "output_type": "execute_result"
    }
   ],
   "source": [
    "# Посмотрим на данные.\n",
    "df.head()"
   ]
  },
  {
   "cell_type": "code",
   "execution_count": 7,
   "id": "6670b352",
   "metadata": {},
   "outputs": [
    {
     "data": {
      "text/plain": [
       "(497819, 4)"
      ]
     },
     "execution_count": 7,
     "metadata": {},
     "output_type": "execute_result"
    }
   ],
   "source": [
    "df.shape"
   ]
  },
  {
   "cell_type": "code",
   "execution_count": 8,
   "id": "3b33c017",
   "metadata": {},
   "outputs": [],
   "source": [
    "# Загрузим предобученный universal-sentence-encoder\n",
    "use = hub.load('https://tfhub.dev/google/universal-sentence-encoder/4')"
   ]
  },
  {
   "cell_type": "code",
   "execution_count": 9,
   "id": "7d5b99bd",
   "metadata": {},
   "outputs": [],
   "source": [
    "# Сделаем списки названий компаний.\n",
    "df_brand_names = pd.DataFrame(pd.concat([df.name_1, df.name_2], axis=0).drop_duplicates(), columns=['name'])\n",
    "brand_names = df_brand_names.name.tolist()"
   ]
  },
  {
   "cell_type": "code",
   "execution_count": 10,
   "id": "8fad870a",
   "metadata": {},
   "outputs": [],
   "source": [
    "# Получим эмбеддинги из universal-sentence-encoder.\n",
    "brand_embeddings = use(brand_names)"
   ]
  },
  {
   "cell_type": "code",
   "execution_count": 26,
   "id": "f5343c55",
   "metadata": {},
   "outputs": [],
   "source": [
    "# Функция для нахождения топ 10 похожих на исходное названий.\n",
    "def find_similar_name(sentence, embeddings):\n",
    "    sentence_embedding = use([sentence])\n",
    "    similarity = cosine_similarity(sentence_embedding, embeddings)\n",
    "    top = sorted(enumerate(*similarity), key=lambda x: x[1], reverse=True)\n",
    "    similar_names = [brand_names[x[0]] for x in top[:10]]\n",
    "    for name in similar_names:\n",
    "        print(name)    "
   ]
  },
  {
   "cell_type": "code",
   "execution_count": 27,
   "id": "03ea5a0b",
   "metadata": {},
   "outputs": [
    {
     "name": "stdout",
     "output_type": "stream",
     "text": [
      "Mediterranean Textile Co.\n",
      "\n",
      "Mediterranean Textile Co.\n",
      "Zamoung Textile Co.\n",
      "Torreh Textile Co.\n",
      "Kavir Semnan Textile Co.\n",
      "Ardakan Textile Co.\n",
      "Ferdows Textile Co.\n",
      "Hanam Textile Co.\n",
      "Mediterranean Textile\n",
      "Razi Abhar Textile Co.\n",
      "Alroubaia Textile Co Fourtex\n"
     ]
    }
   ],
   "source": [
    "# Найдём топ 10 похожих названий для компании Mediterranean Textile Co, которая была в датасете.\n",
    "print(brand_names[80])\n",
    "print()\n",
    "find_similar_name(brand_names[80], brand_embeddings)"
   ]
  },
  {
   "cell_type": "code",
   "execution_count": null,
   "id": "794e79cd",
   "metadata": {},
   "outputs": [],
   "source": [
    "# Вдими саму компанию и названия с такими же словами."
   ]
  },
  {
   "cell_type": "code",
   "execution_count": 29,
   "id": "477591d6",
   "metadata": {},
   "outputs": [
    {
     "name": "stdout",
     "output_type": "stream",
     "text": [
      "Darth Vader is a great Sith Lord\n",
      "\n",
      "Hussein Hussein Hezam Mohmmed\n",
      "Sonic Fluid Power Systems (Pvt.)\n",
      "Atat Tasimacilik Cozumleri A.S.\n",
      "Abdullah Hussain Ali\n",
      "The Cato Corporation\n",
      "Ashoka Inc.\n",
      "Sound Merch Bmg (Neutral)\n",
      "Hyundai Power Transformers Usa\n",
      "Sika S.A. Chile\n",
      "Kia Chile S.A.\n"
     ]
    }
   ],
   "source": [
    "# Теперь получим эмбеддинг и найдём похожие названия для строки, которой не было в датасете.\n",
    "my_text_test_1 = 'Darth Vader is a great Sith Lord'\n",
    "print(my_text_test_1)\n",
    "print()\n",
    "\n",
    "find_similar_name(my_text_test_1, brand_embeddings)"
   ]
  },
  {
   "cell_type": "code",
   "execution_count": null,
   "id": "f358630c",
   "metadata": {},
   "outputs": [],
   "source": [
    "# Интересно, что к Дарту Вейдеру модель вывела названия, где фигурировало слово Power. Аж два названия.\n",
    "# \"Atat\" возможно из-за похожести на AT-AT (Имперский шагоход). \n",
    "# И \"Ashoka Inc.\" из-за похожести  \"Ashoka\" на \"Ahsoka\". \n",
    "# Потому что Ahsoka Tano это ученица Вейдера, времён, когда его еще Энакином звали."
   ]
  },
  {
   "cell_type": "code",
   "execution_count": 31,
   "id": "1036f2bc",
   "metadata": {},
   "outputs": [
    {
     "name": "stdout",
     "output_type": "stream",
     "text": [
      "Well Aero System Lab Industrial Craft\n",
      "\n",
      "Golden Wheel Industrial Mfg. Corp\n",
      "Titan Rubber Industrial Mfg. Corp\n",
      "Honeywell Aerospace Systems Laboratory Co. S. De .R.L. De C.V.\n",
      "Mova Industrial S.A.C.\n",
      "Newpro Industrial Mfg. Corp\n",
      "Aero Club\n",
      "Erbus Industrial Eireli\n",
      "Aero Traders\n",
      "Distribuidora Industrial Avanzada Sa De Cv\n",
      "Pegsa Industrial Sac\n"
     ]
    }
   ],
   "source": [
    "# Теперь получим эмбеддинг и найдём похожие названия для строки, похожей, на то, что было в датасете.\n",
    "# В датасете было название \"Honeywell Aerospace Systems Laboratory Co. S. De .R.L. De C.V.\"\n",
    "# Посмотрим, что на него выдаст модель.\n",
    "\n",
    "my_text_test_2 = 'Well Aero System Lab Industrial Craft'\n",
    "print(my_text_test_2)\n",
    "print()\n",
    "\n",
    "find_similar_name(my_text_test_2, brand_embeddings)"
   ]
  },
  {
   "cell_type": "code",
   "execution_count": null,
   "id": "ad7f0cc8",
   "metadata": {},
   "outputs": [],
   "source": [
    "# Видим, что нашлись названия компаний с похожими словами:  \"Industrial\", \"Aero\", \"Aerospace\", \"Laboratory\".  "
   ]
  }
 ],
 "metadata": {
  "kernelspec": {
   "display_name": "Python 3 (ipykernel)",
   "language": "python",
   "name": "python3"
  },
  "language_info": {
   "codemirror_mode": {
    "name": "ipython",
    "version": 3
   },
   "file_extension": ".py",
   "mimetype": "text/x-python",
   "name": "python",
   "nbconvert_exporter": "python",
   "pygments_lexer": "ipython3",
   "version": "3.8.5"
  }
 },
 "nbformat": 4,
 "nbformat_minor": 5
}
